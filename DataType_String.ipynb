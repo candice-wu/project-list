{
 "cells": [
  {
   "cell_type": "markdown",
   "id": "authorized-sunday",
   "metadata": {},
   "source": [
    "> Write the double_word function so that it returns the same word repeated twice, followed by the length of the new doubled word.\n",
    "> - For example, double_word(\"hello\") should return hellohello10."
   ]
  },
  {
   "cell_type": "code",
   "execution_count": 1,
   "id": "exclusive-friend",
   "metadata": {},
   "outputs": [
    {
     "name": "stdout",
     "output_type": "stream",
     "text": [
      "hellohello10\n",
      "abcabc6\n",
      "0\n"
     ]
    }
   ],
   "source": [
    "def double_word(word):\n",
    "    return ((word*2) + str(len(word*2)))\n",
    "\n",
    "print(double_word(\"hello\")) # Should return hellohello10\n",
    "print(double_word(\"abc\"))   # Should return abcabc6\n",
    "print(double_word(\"\"))      # Should return 0"
   ]
  },
  {
   "cell_type": "markdown",
   "id": "absolute-loading",
   "metadata": {},
   "source": [
    "> Write the first_and_last function so that it returns True if the first letter of the string is the same as the last letter of the string, False if they’re different.\n",
    "> - Remember that you can access characters using message[0] or message[-1].\n",
    "> - Be careful how you handle the empty string, which should return True since nothing is equal to nothing."
   ]
  },
  {
   "cell_type": "code",
   "execution_count": 2,
   "id": "scenic-alexander",
   "metadata": {},
   "outputs": [
    {
     "name": "stdout",
     "output_type": "stream",
     "text": [
      "True\n",
      "False\n",
      "True\n"
     ]
    }
   ],
   "source": [
    "def first_and_last(message):\n",
    "    if not message or message[0] == message[-1]:   # 利用message[0]第一個字元和message[-1]最後一個字元相比\n",
    "        return True\n",
    "    else:\n",
    "        return False\n",
    "\n",
    "print(first_and_last(\"else\"))\n",
    "print(first_and_last(\"tree\"))\n",
    "print(first_and_last(\"\"))"
   ]
  },
  {
   "cell_type": "code",
   "execution_count": 3,
   "id": "rising-garbage",
   "metadata": {},
   "outputs": [
    {
     "name": "stdout",
     "output_type": "stream",
     "text": [
      "True\n",
      "False\n",
      "True\n"
     ]
    }
   ],
   "source": [
    "def first_and_last(message):\n",
    "    if not message or message[0] == message[len(message)-1]:   # 計算出message總字數再-1即可知道最後一個字元位數，再作比較\n",
    "        return True\n",
    "    else:\n",
    "        return False\n",
    "\n",
    "print(first_and_last(\"else\"))\n",
    "print(first_and_last(\"tree\"))\n",
    "print(first_and_last(\"\"))"
   ]
  },
  {
   "cell_type": "markdown",
   "id": "difficult-netscape",
   "metadata": {},
   "source": [
    "# slice | substring"
   ]
  },
  {
   "cell_type": "code",
   "execution_count": 4,
   "id": "enabling-jenny",
   "metadata": {},
   "outputs": [
    {
     "data": {
      "text/plain": [
       "'ran'"
      ]
     },
     "execution_count": 4,
     "metadata": {},
     "output_type": "execute_result"
    }
   ],
   "source": [
    "color = \"Orange\"\n",
    "color[1:4]"
   ]
  },
  {
   "cell_type": "code",
   "execution_count": 5,
   "id": "concrete-wound",
   "metadata": {},
   "outputs": [
    {
     "data": {
      "text/plain": [
       "'Pine'"
      ]
     },
     "execution_count": 5,
     "metadata": {},
     "output_type": "execute_result"
    }
   ],
   "source": [
    "fruit = \"Pineapple\"\n",
    "fruit[:4]                # 由index[0]取到[4-1]位的字元"
   ]
  },
  {
   "cell_type": "code",
   "execution_count": 6,
   "id": "bright-underwear",
   "metadata": {},
   "outputs": [
    {
     "data": {
      "text/plain": [
       "'apple'"
      ]
     },
     "execution_count": 6,
     "metadata": {},
     "output_type": "execute_result"
    }
   ],
   "source": [
    "fruit[4:]                # 開始由index[4]往後取全部的字元"
   ]
  },
  {
   "cell_type": "markdown",
   "id": "restricted-semiconductor",
   "metadata": {},
   "source": [
    "# Method - index()\n",
    "> Using the index method, find out the position of \"x\" in \"supercalifragilisticexpialidocious\"."
   ]
  },
  {
   "cell_type": "code",
   "execution_count": 7,
   "id": "closing-modification",
   "metadata": {},
   "outputs": [
    {
     "name": "stdout",
     "output_type": "stream",
     "text": [
      "21\n"
     ]
    }
   ],
   "source": [
    "word = \"supercalifragilisticexpialidocious\"\n",
    "print(word.index(\"x\"))"
   ]
  },
  {
   "cell_type": "markdown",
   "id": "multiple-software",
   "metadata": {},
   "source": [
    "# Keywords - in"
   ]
  },
  {
   "cell_type": "code",
   "execution_count": 8,
   "id": "outside-advice",
   "metadata": {},
   "outputs": [
    {
     "data": {
      "text/plain": [
       "False"
      ]
     },
     "execution_count": 8,
     "metadata": {},
     "output_type": "execute_result"
    }
   ],
   "source": [
    "pets = \"cat & dog\"\n",
    "\n",
    "\"dragon\" in pets"
   ]
  },
  {
   "cell_type": "code",
   "execution_count": 9,
   "id": "first-centre",
   "metadata": {},
   "outputs": [],
   "source": [
    "def replace_domain(email, old_domain, new_domain):\n",
    "    if \"@\" + old_domain in email:\n",
    "        index = email.index(\"@\" + old_domain)\n",
    "        new_email = email[:index] + \"@\" + new_domain\n",
    "        return new_email\n",
    "    return email"
   ]
  },
  {
   "cell_type": "markdown",
   "id": "patient-accordance",
   "metadata": {},
   "source": [
    "# Method - upper() 大寫 || lower() 小寫"
   ]
  },
  {
   "cell_type": "code",
   "execution_count": 10,
   "id": "thorough-petite",
   "metadata": {},
   "outputs": [
    {
     "data": {
      "text/plain": [
       "'MOUNTAIN'"
      ]
     },
     "execution_count": 10,
     "metadata": {},
     "output_type": "execute_result"
    }
   ],
   "source": [
    "\"mountain\".upper()"
   ]
  },
  {
   "cell_type": "code",
   "execution_count": 11,
   "id": "frank-coordinate",
   "metadata": {},
   "outputs": [
    {
     "data": {
      "text/plain": [
       "'mountain'"
      ]
     },
     "execution_count": 11,
     "metadata": {},
     "output_type": "execute_result"
    }
   ],
   "source": [
    "\"MOUNTAIN\".lower()"
   ]
  },
  {
   "cell_type": "code",
   "execution_count": 12,
   "id": "broke-voluntary",
   "metadata": {},
   "outputs": [
    {
     "name": "stdout",
     "output_type": "stream",
     "text": [
      "請輸入Yes/No：y\n",
      "User said no\n"
     ]
    }
   ],
   "source": [
    "answer = input(\"請輸入Yes/No：\")\n",
    "\n",
    "if answer.lower() == \"yes\":\n",
    "    print(\"User said yes\")\n",
    "else:\n",
    "    print(\"User said no\")"
   ]
  },
  {
   "cell_type": "markdown",
   "id": "unlike-spokesman",
   "metadata": {},
   "source": [
    "# Method - strip()  ||  lstrip()  ||  rstrip()\n",
    "> Use the strip method to get rid of any whitespace.\n",
    "> - Whitespace includes spaces, tabs, and newline characters."
   ]
  },
  {
   "cell_type": "code",
   "execution_count": 13,
   "id": "accompanied-omega",
   "metadata": {},
   "outputs": [
    {
     "data": {
      "text/plain": [
       "'yes'"
      ]
     },
     "execution_count": 13,
     "metadata": {},
     "output_type": "execute_result"
    }
   ],
   "source": [
    "\" yes \".strip()"
   ]
  },
  {
   "cell_type": "code",
   "execution_count": 14,
   "id": "ahead-queue",
   "metadata": {},
   "outputs": [
    {
     "data": {
      "text/plain": [
       "'yes '"
      ]
     },
     "execution_count": 14,
     "metadata": {},
     "output_type": "execute_result"
    }
   ],
   "source": [
    "\" yes \".lstrip()"
   ]
  },
  {
   "cell_type": "code",
   "execution_count": 15,
   "id": "determined-shopper",
   "metadata": {},
   "outputs": [
    {
     "data": {
      "text/plain": [
       "' yes'"
      ]
     },
     "execution_count": 15,
     "metadata": {},
     "output_type": "execute_result"
    }
   ],
   "source": [
    "\" yes \".rstrip()"
   ]
  },
  {
   "cell_type": "markdown",
   "id": "durable-massachusetts",
   "metadata": {},
   "source": [
    "# Method - count()\n",
    "> The method count returns how many times a given substring appears within a string."
   ]
  },
  {
   "cell_type": "code",
   "execution_count": 16,
   "id": "growing-harrison",
   "metadata": {},
   "outputs": [
    {
     "data": {
      "text/plain": [
       "4"
      ]
     },
     "execution_count": 16,
     "metadata": {},
     "output_type": "execute_result"
    }
   ],
   "source": [
    "\"The number of times e occur in this string is 4\".count(\"e\")"
   ]
  },
  {
   "cell_type": "markdown",
   "id": "mathematical-executive",
   "metadata": {},
   "source": [
    "# Method - endswith()\n",
    "> The method endswith returns whether the string ends with a certain substring."
   ]
  },
  {
   "cell_type": "code",
   "execution_count": 17,
   "id": "occasional-barcelona",
   "metadata": {},
   "outputs": [
    {
     "data": {
      "text/plain": [
       "True"
      ]
     },
     "execution_count": 17,
     "metadata": {},
     "output_type": "execute_result"
    }
   ],
   "source": [
    "\"Forest\".endswith(\"rest\")"
   ]
  },
  {
   "cell_type": "markdown",
   "id": "undefined-toyota",
   "metadata": {},
   "source": [
    "# Method - isnumeric()\n",
    "> The method isnumeric returns whether the string's made up of just numbers."
   ]
  },
  {
   "cell_type": "code",
   "execution_count": 18,
   "id": "dense-portal",
   "metadata": {},
   "outputs": [
    {
     "data": {
      "text/plain": [
       "False"
      ]
     },
     "execution_count": 18,
     "metadata": {},
     "output_type": "execute_result"
    }
   ],
   "source": [
    "\"Forest\".isnumeric()"
   ]
  },
  {
   "cell_type": "code",
   "execution_count": 19,
   "id": "stretch-numbers",
   "metadata": {},
   "outputs": [
    {
     "data": {
      "text/plain": [
       "True"
      ]
     },
     "execution_count": 19,
     "metadata": {},
     "output_type": "execute_result"
    }
   ],
   "source": [
    "\"12345\".isnumeric()"
   ]
  },
  {
   "cell_type": "markdown",
   "id": "isolated-exemption",
   "metadata": {},
   "source": [
    "# Method - join()\n",
    "> The join method can also be used for concatenating."
   ]
  },
  {
   "cell_type": "code",
   "execution_count": 20,
   "id": "blocked-institution",
   "metadata": {},
   "outputs": [
    {
     "data": {
      "text/plain": [
       "'This is a phrase joined by space'"
      ]
     },
     "execution_count": 20,
     "metadata": {},
     "output_type": "execute_result"
    }
   ],
   "source": [
    "\" \".join([\"This\", \"is\", \"a\", \"phrase\", \"joined\", \"by\", \"space\"])"
   ]
  },
  {
   "cell_type": "code",
   "execution_count": 21,
   "id": "medieval-nancy",
   "metadata": {},
   "outputs": [
    {
     "data": {
      "text/plain": [
       "'This...is...a...phrase...joined...by...triple...dots'"
      ]
     },
     "execution_count": 21,
     "metadata": {},
     "output_type": "execute_result"
    }
   ],
   "source": [
    "\"...\".join([\"This\", \"is\", \"a\", \"phrase\", \"joined\", \"by\", \"triple\", \"dots\"])"
   ]
  },
  {
   "cell_type": "markdown",
   "id": "distinguished-cursor",
   "metadata": {},
   "source": [
    "# Method - split()\n",
    "> The split method returns a list of all the words in the initial string and it automatically splits by any whitespace."
   ]
  },
  {
   "cell_type": "code",
   "execution_count": 22,
   "id": "harmful-concrete",
   "metadata": {},
   "outputs": [
    {
     "data": {
      "text/plain": [
       "['This', 'is', 'another', 'example']"
      ]
     },
     "execution_count": 22,
     "metadata": {},
     "output_type": "execute_result"
    }
   ],
   "source": [
    "\"This is another example\".split()"
   ]
  },
  {
   "cell_type": "markdown",
   "id": "reverse-shirt",
   "metadata": {},
   "source": [
    "> Write the initials function so that it returns the initials of the words contained in the phrase received, in upper case.\n",
    "> - For example: \"Universal Serial Bus\" should return \"USB\"; \"local area network\" should return \"LAN”."
   ]
  },
  {
   "cell_type": "code",
   "execution_count": 23,
   "id": "designed-annotation",
   "metadata": {},
   "outputs": [
    {
     "name": "stdout",
     "output_type": "stream",
     "text": [
      "USB\n",
      "LAN\n",
      "OS\n"
     ]
    }
   ],
   "source": [
    "def initials(phrase):\n",
    "    words = phrase.split()\n",
    "    result = \"\"\n",
    "    for word in words:\n",
    "        result += word[0].upper()\n",
    "    return result\n",
    "\n",
    "print(initials(\"Universal Serial Bus\"))  # Should be: USB\n",
    "print(initials(\"local area network\"))    # Should be: LAN\n",
    "print(initials(\"Operating system\"))      # Should be: OS"
   ]
  },
  {
   "cell_type": "markdown",
   "id": "assured-investigation",
   "metadata": {},
   "source": [
    "# Method - string formatting {}\n",
    "> Write the student_grade function using the format method, so that it returns the phrase \"X received Y% on the exam\".\n",
    "> - For example, student_grade(\"Reed\", 80) should return \"Reed received 80% on the exam\"."
   ]
  },
  {
   "cell_type": "code",
   "execution_count": 24,
   "id": "laden-importance",
   "metadata": {},
   "outputs": [
    {
     "name": "stdout",
     "output_type": "stream",
     "text": [
      "Reed received 80% on the exam\n",
      "Paige received 92% on the exam\n",
      "Jesse received 85% on the exam\n"
     ]
    }
   ],
   "source": [
    "def student_grade(name, grade):\n",
    "    return \"{} received {}% on the exam\" .format(name, grade)\n",
    "\n",
    "print(student_grade(\"Reed\", 80))\n",
    "print(student_grade(\"Paige\", 92))\n",
    "print(student_grade(\"Jesse\", 85))"
   ]
  },
  {
   "cell_type": "markdown",
   "id": "heavy-burst",
   "metadata": {},
   "source": [
    "# Hands-on practice"
   ]
  },
  {
   "cell_type": "markdown",
   "id": "enhanced-processor",
   "metadata": {},
   "source": [
    "> The format_address function separates out parts of the address string into new strings: house_number and street_name, and returns: \"house number X on street named Y\". The format of the input string is: numeric house number, followed by the street name which may contain numbers, but never by themselves, and could be several words long.\n",
    "> - For example, \"123 Main Street\", \"1001 1st Ave\", or \"55 North Center Drive\"."
   ]
  },
  {
   "cell_type": "code",
   "execution_count": 25,
   "id": "metropolitan-interest",
   "metadata": {},
   "outputs": [
    {
     "name": "stdout",
     "output_type": "stream",
     "text": [
      "house number 123 on street named Main Street\n",
      "house number 1001 on street named 1st Ave\n",
      "house number 55 on street named North Center Drive\n"
     ]
    }
   ],
   "source": [
    "def format_address(address_string):\n",
    "    house_number = 0                                   # Declare variables\n",
    "    street_name = []\n",
    "    \n",
    "    address = address_string.split()                   # Separate the address string into part\n",
    "    \n",
    "    for i in address:                                  # Traverse through the address parts\n",
    "        if i.isnumeric():\n",
    "            house_number = i\n",
    "        else:\n",
    "            street_name.append(i)\n",
    "    \n",
    "    # Does anything else need to be done \n",
    "    # before returning the result?\n",
    "    \n",
    "    # Return the formatted string\n",
    "    return \"house number {} on street named {}\".format(house_number, (\" \".join(street_name)))\n",
    "\n",
    "\n",
    "print(format_address(\"123 Main Street\"))       # Should print: \"house number 123 on street named Main Street\"\n",
    "\n",
    "print(format_address(\"1001 1st Ave\"))          # Should print: \"house number 1001 on street named 1st Ave\"\n",
    "\n",
    "print(format_address(\"55 North Center Drive\")) # Should print \"house number 55 on street named North Center Drive\"\n"
   ]
  },
  {
   "cell_type": "code",
   "execution_count": null,
   "id": "short-shower",
   "metadata": {},
   "outputs": [],
   "source": []
  }
 ],
 "metadata": {
  "kernelspec": {
   "display_name": "Python 3",
   "language": "python",
   "name": "python3"
  },
  "language_info": {
   "codemirror_mode": {
    "name": "ipython",
    "version": 3
   },
   "file_extension": ".py",
   "mimetype": "text/x-python",
   "name": "python",
   "nbconvert_exporter": "python",
   "pygments_lexer": "ipython3",
   "version": "3.9.1"
  }
 },
 "nbformat": 4,
 "nbformat_minor": 5
}
