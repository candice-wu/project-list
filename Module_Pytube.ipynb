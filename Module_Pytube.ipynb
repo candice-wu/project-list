{
 "cells": [
  {
   "cell_type": "markdown",
   "id": "utility-gather",
   "metadata": {},
   "source": [
    "# RegexMatchError: get_ytplayer_config: could not find match for config_patterns\n",
    "\n",
    "> 若安裝舊版pytube3，執行以下程式會出現錯誤訊息，請先卸載再重新安裝；重新執行程式則可順利下載\n",
    "> - 卸載指令：python -m pip uninstall pytube3\n",
    "> - 安裝指令：python -m pip install git+https://github.com/nficano/pytube"
   ]
  },
  {
   "cell_type": "code",
   "execution_count": 1,
   "id": "broadband-editor",
   "metadata": {},
   "outputs": [
    {
     "name": "stdout",
     "output_type": "stream",
     "text": [
      "開始下載影片，請稍候！\n",
      "影片下載完成\n"
     ]
    }
   ],
   "source": [
    "from pytube import YouTube\n",
    "\n",
    "yt = YouTube(\"https://www.youtube.com/watch?v=Ef-vc0c_-_g&list=PL12UaAf_xzfq1Qw3hO43WvcgAo_Sju6Ix&index=10\")\n",
    "print(\"開始下載影片，請稍候！\")\n",
    "yt.streams.first().download()    # 下載第一種影片格式(通常是品質最好的格式)\n",
    "print(\"影片下載完成\")"
   ]
  },
  {
   "cell_type": "code",
   "execution_count": 2,
   "id": "martial-correction",
   "metadata": {},
   "outputs": [
    {
     "name": "stdout",
     "output_type": "stream",
     "text": [
      "【PUI PUI 天竺鼠車車】第01話預告《塞車了是誰的錯？》｜Muse木棉花\n"
     ]
    }
   ],
   "source": [
    "print(yt.title)     # 取得下載影片的名稱"
   ]
  },
  {
   "cell_type": "code",
   "execution_count": 3,
   "id": "packed-cooling",
   "metadata": {},
   "outputs": [
    {
     "name": "stdout",
     "output_type": "stream",
     "text": [
      "[<Stream: itag=\"18\" mime_type=\"video/mp4\" res=\"360p\" fps=\"30fps\" vcodec=\"avc1.42001E\" acodec=\"mp4a.40.2\" progressive=\"True\" type=\"video\">, <Stream: itag=\"22\" mime_type=\"video/mp4\" res=\"720p\" fps=\"30fps\" vcodec=\"avc1.64001F\" acodec=\"mp4a.40.2\" progressive=\"True\" type=\"video\">, <Stream: itag=\"137\" mime_type=\"video/mp4\" res=\"1080p\" fps=\"30fps\" vcodec=\"avc1.640028\" progressive=\"False\" type=\"video\">, <Stream: itag=\"248\" mime_type=\"video/webm\" res=\"1080p\" fps=\"30fps\" vcodec=\"vp9\" progressive=\"False\" type=\"video\">, <Stream: itag=\"136\" mime_type=\"video/mp4\" res=\"720p\" fps=\"30fps\" vcodec=\"avc1.64001f\" progressive=\"False\" type=\"video\">, <Stream: itag=\"247\" mime_type=\"video/webm\" res=\"720p\" fps=\"30fps\" vcodec=\"vp9\" progressive=\"False\" type=\"video\">, <Stream: itag=\"135\" mime_type=\"video/mp4\" res=\"480p\" fps=\"30fps\" vcodec=\"avc1.4d401f\" progressive=\"False\" type=\"video\">, <Stream: itag=\"244\" mime_type=\"video/webm\" res=\"480p\" fps=\"30fps\" vcodec=\"vp9\" progressive=\"False\" type=\"video\">, <Stream: itag=\"134\" mime_type=\"video/mp4\" res=\"360p\" fps=\"30fps\" vcodec=\"avc1.4d401e\" progressive=\"False\" type=\"video\">, <Stream: itag=\"243\" mime_type=\"video/webm\" res=\"360p\" fps=\"30fps\" vcodec=\"vp9\" progressive=\"False\" type=\"video\">, <Stream: itag=\"133\" mime_type=\"video/mp4\" res=\"240p\" fps=\"30fps\" vcodec=\"avc1.4d4015\" progressive=\"False\" type=\"video\">, <Stream: itag=\"242\" mime_type=\"video/webm\" res=\"240p\" fps=\"30fps\" vcodec=\"vp9\" progressive=\"False\" type=\"video\">, <Stream: itag=\"160\" mime_type=\"video/mp4\" res=\"144p\" fps=\"30fps\" vcodec=\"avc1.4d400c\" progressive=\"False\" type=\"video\">, <Stream: itag=\"278\" mime_type=\"video/webm\" res=\"144p\" fps=\"30fps\" vcodec=\"vp9\" progressive=\"False\" type=\"video\">, <Stream: itag=\"140\" mime_type=\"audio/mp4\" abr=\"128kbps\" acodec=\"mp4a.40.2\" progressive=\"False\" type=\"audio\">, <Stream: itag=\"249\" mime_type=\"audio/webm\" abr=\"50kbps\" acodec=\"opus\" progressive=\"False\" type=\"audio\">, <Stream: itag=\"250\" mime_type=\"audio/webm\" abr=\"70kbps\" acodec=\"opus\" progressive=\"False\" type=\"audio\">, <Stream: itag=\"251\" mime_type=\"audio/webm\" abr=\"160kbps\" acodec=\"opus\" progressive=\"False\" type=\"audio\">]\n"
     ]
    }
   ],
   "source": [
    "print(yt.streams)   # 列出該影片的所有格式"
   ]
  },
  {
   "cell_type": "code",
   "execution_count": 4,
   "id": "champion-front",
   "metadata": {},
   "outputs": [
    {
     "name": "stdout",
     "output_type": "stream",
     "text": [
      "<Stream: itag=\"18\" mime_type=\"video/mp4\" res=\"360p\" fps=\"30fps\" vcodec=\"avc1.42001E\" acodec=\"mp4a.40.2\" progressive=\"True\" type=\"video\">\n"
     ]
    }
   ],
   "source": [
    "print(yt.streams.first())   # 查看該影片的第一種格式"
   ]
  },
  {
   "cell_type": "markdown",
   "id": "caring-villa",
   "metadata": {},
   "source": [
    "- **影片類型 = mp4**\n",
    "- **解析度 = 360p**\n",
    "- **影像編碼 = avc1.42001E**\n",
    "- **聲音編碼 = mp4a.40.2**"
   ]
  },
  {
   "cell_type": "code",
   "execution_count": 5,
   "id": "treated-trouble",
   "metadata": {},
   "outputs": [
    {
     "name": "stdout",
     "output_type": "stream",
     "text": [
      "<Stream: itag=\"251\" mime_type=\"audio/webm\" abr=\"160kbps\" acodec=\"opus\" progressive=\"False\" type=\"audio\">\n"
     ]
    }
   ],
   "source": [
    "print(yt.streams.last())   # 查看該影片的最後一種格式"
   ]
  },
  {
   "cell_type": "code",
   "execution_count": 6,
   "id": "sharing-mills",
   "metadata": {},
   "outputs": [
    {
     "name": "stdout",
     "output_type": "stream",
     "text": [
      "開始下載【PUI PUI 天竺鼠車車】第02話預告《抓住銀行搶劫犯！》｜Muse木棉花\n",
      "「【PUI PUI 天竺鼠車車】第02話預告《抓住銀行搶劫犯！》｜Muse木棉花」下載完成！\n"
     ]
    }
   ],
   "source": [
    "from pytube import YouTube\n",
    "\n",
    "yt1 = YouTube(\"https://www.youtube.com/watch?v=V9WsYalNWy8&list=PL12UaAf_xzfq1Qw3hO43WvcgAo_Sju6Ix&index=11\")\n",
    "print(\"開始下載\" + yt1.title)\n",
    "\n",
    "yt.streams.last().download()      # 下載最後一種影片格式\n",
    "print(\"「\" + yt1.title + \"」下載完成！\")"
   ]
  },
  {
   "cell_type": "code",
   "execution_count": 7,
   "id": "applicable-explorer",
   "metadata": {},
   "outputs": [
    {
     "name": "stdout",
     "output_type": "stream",
     "text": [
      "18\n"
     ]
    }
   ],
   "source": [
    "print(len(yt.streams))      # 取得該影片的所有影片格式數量"
   ]
  },
  {
   "cell_type": "code",
   "execution_count": 8,
   "id": "combined-college",
   "metadata": {},
   "outputs": [
    {
     "name": "stdout",
     "output_type": "stream",
     "text": [
      "2\n"
     ]
    }
   ],
   "source": [
    "print(len(yt.streams.filter(progressive=True)))   # 篩選同時具備影像及聲音的格式"
   ]
  },
  {
   "cell_type": "code",
   "execution_count": 9,
   "id": "polar-denmark",
   "metadata": {},
   "outputs": [
    {
     "name": "stdout",
     "output_type": "stream",
     "text": [
      "16\n"
     ]
    }
   ],
   "source": [
    "print(len(yt.streams.filter(adaptive=True)))      # 篩選只具備影像或聲音其中之一的格式"
   ]
  },
  {
   "cell_type": "code",
   "execution_count": 10,
   "id": "possible-smile",
   "metadata": {},
   "outputs": [
    {
     "name": "stdout",
     "output_type": "stream",
     "text": [
      "9\n"
     ]
    }
   ],
   "source": [
    "print(len(yt.streams.filter(subtype=\"mp4\")))      # 篩選指定影像類型的格式"
   ]
  },
  {
   "cell_type": "code",
   "execution_count": 11,
   "id": "separated-exhibition",
   "metadata": {},
   "outputs": [
    {
     "name": "stdout",
     "output_type": "stream",
     "text": [
      "3\n"
     ]
    }
   ],
   "source": [
    "print(len(yt.streams.filter(res=\"720p\")))         # 篩選指定解析度的格式"
   ]
  },
  {
   "cell_type": "code",
   "execution_count": 16,
   "id": "respective-convergence",
   "metadata": {},
   "outputs": [
    {
     "ename": "NameError",
     "evalue": "name 'pwd' is not defined",
     "output_type": "error",
     "traceback": [
      "\u001b[0;31m---------------------------------------------------------------------------\u001b[0m",
      "\u001b[0;31mNameError\u001b[0m                                 Traceback (most recent call last)",
      "\u001b[0;32m<ipython-input-16-2fc664cd7f79>\u001b[0m in \u001b[0;36m<module>\u001b[0;34m\u001b[0m\n\u001b[0;32m----> 1\u001b[0;31m \u001b[0mpathdir\u001b[0m \u001b[0;34m=\u001b[0m \u001b[0mpwd\u001b[0m\u001b[0;34m\u001b[0m\u001b[0;34m\u001b[0m\u001b[0m\n\u001b[0m\u001b[1;32m      2\u001b[0m \u001b[0mprint\u001b[0m\u001b[0;34m(\u001b[0m\u001b[0;34m\"file was saved in \"\u001b[0m \u001b[0;34m+\u001b[0m \u001b[0mpwd\u001b[0m \u001b[0;34m+\u001b[0m \u001b[0;34m\"folder\"\u001b[0m\u001b[0;34m)\u001b[0m\u001b[0;34m\u001b[0m\u001b[0;34m\u001b[0m\u001b[0m\n",
      "\u001b[0;31mNameError\u001b[0m: name 'pwd' is not defined"
     ]
    }
   ],
   "source": [
    "pathdir = pwd\n",
    "print(\"file was saved in \" + pwd + \"folder\")"
   ]
  },
  {
   "cell_type": "code",
   "execution_count": 17,
   "id": "identical-hearts",
   "metadata": {},
   "outputs": [
    {
     "data": {
      "text/plain": [
       "'/Users/candicewu/git_project'"
      ]
     },
     "execution_count": 17,
     "metadata": {},
     "output_type": "execute_result"
    }
   ],
   "source": [
    "pwd    # 顯示出目前的工作目錄"
   ]
  },
  {
   "cell_type": "code",
   "execution_count": 19,
   "id": "hundred-constant",
   "metadata": {},
   "outputs": [
    {
     "name": "stdout",
     "output_type": "stream",
     "text": [
      "file was saved in /Users/candicewu/git_project folder\n"
     ]
    }
   ],
   "source": [
    "pathdir = \"/Users/candicewu/git_project\"\n",
    "print(\"file was saved in \" + pathdir + \" folder\")"
   ]
  },
  {
   "cell_type": "code",
   "execution_count": null,
   "id": "collaborative-guyana",
   "metadata": {},
   "outputs": [],
   "source": []
  }
 ],
 "metadata": {
  "kernelspec": {
   "display_name": "Python 3",
   "language": "python",
   "name": "python3"
  },
  "language_info": {
   "codemirror_mode": {
    "name": "ipython",
    "version": 3
   },
   "file_extension": ".py",
   "mimetype": "text/x-python",
   "name": "python",
   "nbconvert_exporter": "python",
   "pygments_lexer": "ipython3",
   "version": "3.9.2"
  }
 },
 "nbformat": 4,
 "nbformat_minor": 5
}
