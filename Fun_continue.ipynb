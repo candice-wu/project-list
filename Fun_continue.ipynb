{
 "cells": [
  {
   "cell_type": "markdown",
   "metadata": {},
   "source": [
    "### 使用continue函數在迴圈執行中途暫停不往下執行，而跳到迴圈起始處繼續執行"
   ]
  },
  {
   "cell_type": "code",
   "execution_count": 1,
   "metadata": {},
   "outputs": [
    {
     "name": "stdout",
     "output_type": "stream",
     "text": [
      "1,2,3,4,5,7,8,9,10,"
     ]
    }
   ],
   "source": [
    "for i in range(1, 11):\n",
    "    if (i == 6):\n",
    "        continue          # 當執行到 6，則以continue函數跳過\n",
    "    print(i, end = \",\")"
   ]
  },
  {
   "cell_type": "markdown",
   "metadata": {},
   "source": [
    "# 樓層命名"
   ]
  },
  {
   "cell_type": "markdown",
   "metadata": {},
   "source": [
    "> 輸入大樓的樓層數，若是三層以下則正常依序顯示樓層命名；若是四層(含)以上則跳過四樓不顯示並再依序顯示樓層命名"
   ]
  },
  {
   "cell_type": "code",
   "execution_count": 2,
   "metadata": {},
   "outputs": [
    {
     "name": "stdout",
     "output_type": "stream",
     "text": [
      "請輸入大樓的樓層數：10\n",
      "本大樓的總樓層為：\n",
      "1 2 3 5 6 7 8 9 10 11 \n"
     ]
    }
   ],
   "source": [
    "n = int(input(\"請輸入大樓的樓層數：\"))\n",
    "print(\"本大樓的總樓層為：\")\n",
    "if (n > 3):\n",
    "    n += 1                          # 當樓層大於4層，因跳過第4層，所以命名樓層數會比輸入值多1\n",
    "for i in range(1, n+1):\n",
    "    if (i == 4):\n",
    "        continue                    # 當樓層命名執行到 4，則以continue函數跳過命名\n",
    "    print(i, end = \" \")\n",
    "print()"
   ]
  },
  {
   "cell_type": "code",
   "execution_count": null,
   "metadata": {},
   "outputs": [],
   "source": []
  }
 ],
 "metadata": {
  "kernelspec": {
   "display_name": "Python 3",
   "language": "python",
   "name": "python3"
  },
  "language_info": {
   "codemirror_mode": {
    "name": "ipython",
    "version": 3
   },
   "file_extension": ".py",
   "mimetype": "text/x-python",
   "name": "python",
   "nbconvert_exporter": "python",
   "pygments_lexer": "ipython3",
   "version": "3.9.1"
  }
 },
 "nbformat": 4,
 "nbformat_minor": 4
}
