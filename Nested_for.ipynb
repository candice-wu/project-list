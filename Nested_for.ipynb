{
 "cells": [
  {
   "cell_type": "markdown",
   "id": "coordinate-installation",
   "metadata": {},
   "source": [
    "# Dominoes tiles\n",
    "> The numbers go from zero to six. Tiles can be rotated so that each combination of numbers is represented only once in a set of Domino Tiles. In other words, the two three tile is the same as the three two tile, and there's only one per set.\n",
    ">> **[2|3] = [3|2]**"
   ]
  },
  {
   "cell_type": "code",
   "execution_count": 1,
   "id": "confidential-prefix",
   "metadata": {},
   "outputs": [
    {
     "name": "stdout",
     "output_type": "stream",
     "text": [
      "[0|0] [0|1] [0|2] [0|3] [0|4] [0|5] [0|6] \n",
      "[1|1] [1|2] [1|3] [1|4] [1|5] [1|6] \n",
      "[2|2] [2|3] [2|4] [2|5] [2|6] \n",
      "[3|3] [3|4] [3|5] [3|6] \n",
      "[4|4] [4|5] [4|6] \n",
      "[5|5] [5|6] \n",
      "[6|6] \n"
     ]
    }
   ],
   "source": [
    "for left in range (7):\n",
    "    for right in range (left, 7):\n",
    "        print(\"[\" + str(left) + \"|\" + str(right) + \"]\", end = \" \")\n",
    "    print()"
   ]
  },
  {
   "cell_type": "markdown",
   "id": "upset-onion",
   "metadata": {},
   "source": [
    "# Pairing Teams\n",
    "> The first name will be the home team(主隊) and the second name is the away team(客隊)."
   ]
  },
  {
   "cell_type": "code",
   "execution_count": 2,
   "id": "trained-liverpool",
   "metadata": {},
   "outputs": [
    {
     "name": "stdout",
     "output_type": "stream",
     "text": [
      "Dragons|Wolves\n",
      "Dragons|Pandas\n",
      "Dragons|Unicorns\n",
      "\n",
      "Wolves|Dragons\n",
      "Wolves|Pandas\n",
      "Wolves|Unicorns\n",
      "\n",
      "Pandas|Dragons\n",
      "Pandas|Wolves\n",
      "Pandas|Unicorns\n",
      "\n",
      "Unicorns|Dragons\n",
      "Unicorns|Wolves\n",
      "Unicorns|Pandas\n",
      "\n"
     ]
    }
   ],
   "source": [
    "teams = [ 'Dragons', 'Wolves', 'Pandas', 'Unicorns']\n",
    "for home_team in teams:\n",
    "    for away_team in teams:\n",
    "        if home_team != away_team:                      # 避免自己對立自己的條件式\n",
    "            print(home_team + \"|\" + away_team)\n",
    "    print()"
   ]
  },
  {
   "cell_type": "code",
   "execution_count": null,
   "id": "active-asthma",
   "metadata": {},
   "outputs": [],
   "source": []
  }
 ],
 "metadata": {
  "kernelspec": {
   "display_name": "Python 3",
   "language": "python",
   "name": "python3"
  },
  "language_info": {
   "codemirror_mode": {
    "name": "ipython",
    "version": 3
   },
   "file_extension": ".py",
   "mimetype": "text/x-python",
   "name": "python",
   "nbconvert_exporter": "python",
   "pygments_lexer": "ipython3",
   "version": "3.9.1"
  }
 },
 "nbformat": 4,
 "nbformat_minor": 5
}
