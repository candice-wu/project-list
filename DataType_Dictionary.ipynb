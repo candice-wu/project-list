{
 "cells": [
  {
   "cell_type": "code",
   "execution_count": 1,
   "id": "helpful-party",
   "metadata": {},
   "outputs": [
    {
     "name": "stdout",
     "output_type": "stream",
     "text": [
      "{'jpg': 10, 'txt': 14, 'csv': 2, 'py': 23}\n"
     ]
    }
   ],
   "source": [
    "file_counts = {\"jpg\":10, \"txt\":14, \"csv\":2, \"py\":23}\n",
    "print(file_counts)"
   ]
  },
  {
   "cell_type": "code",
   "execution_count": 2,
   "id": "divine-mobile",
   "metadata": {},
   "outputs": [
    {
     "data": {
      "text/plain": [
       "dict"
      ]
     },
     "execution_count": 2,
     "metadata": {},
     "output_type": "execute_result"
    }
   ],
   "source": [
    "type(file_counts)"
   ]
  },
  {
   "cell_type": "code",
   "execution_count": 3,
   "id": "spiritual-encyclopedia",
   "metadata": {},
   "outputs": [
    {
     "data": {
      "text/plain": [
       "14"
      ]
     },
     "execution_count": 3,
     "metadata": {},
     "output_type": "execute_result"
    }
   ],
   "source": [
    "file_counts[\"txt\"]"
   ]
  },
  {
   "cell_type": "code",
   "execution_count": 4,
   "id": "rough-meter",
   "metadata": {},
   "outputs": [
    {
     "data": {
      "text/plain": [
       "True"
      ]
     },
     "execution_count": 4,
     "metadata": {},
     "output_type": "execute_result"
    }
   ],
   "source": [
    "\"jpg\" in file_counts"
   ]
  },
  {
   "cell_type": "code",
   "execution_count": 5,
   "id": "german-opportunity",
   "metadata": {},
   "outputs": [
    {
     "data": {
      "text/plain": [
       "False"
      ]
     },
     "execution_count": 5,
     "metadata": {},
     "output_type": "execute_result"
    }
   ],
   "source": [
    "\"html\" in file_counts"
   ]
  },
  {
   "cell_type": "code",
   "execution_count": 6,
   "id": "martial-international",
   "metadata": {},
   "outputs": [
    {
     "name": "stdout",
     "output_type": "stream",
     "text": [
      "{'jpg': 10, 'txt': 14, 'csv': 2, 'py': 23, 'cfg': 8}\n"
     ]
    }
   ],
   "source": [
    "file_counts[\"cfg\"] = 8\n",
    "print(file_counts)"
   ]
  },
  {
   "cell_type": "code",
   "execution_count": 7,
   "id": "cheap-visibility",
   "metadata": {},
   "outputs": [
    {
     "name": "stdout",
     "output_type": "stream",
     "text": [
      "{'jpg': 10, 'txt': 14, 'csv': 17, 'py': 23, 'cfg': 8}\n"
     ]
    }
   ],
   "source": [
    "file_counts[\"csv\"] = 17\n",
    "print(file_counts)"
   ]
  },
  {
   "cell_type": "code",
   "execution_count": 8,
   "id": "documentary-precipitation",
   "metadata": {},
   "outputs": [
    {
     "name": "stdout",
     "output_type": "stream",
     "text": [
      "{'jpg': 10, 'txt': 14, 'csv': 17, 'py': 23}\n"
     ]
    }
   ],
   "source": [
    "del file_counts[\"cfg\"]\n",
    "print(file_counts)"
   ]
  },
  {
   "cell_type": "code",
   "execution_count": 9,
   "id": "hearing-wilderness",
   "metadata": {},
   "outputs": [
    {
     "name": "stdout",
     "output_type": "stream",
     "text": [
      "jpg\n",
      "txt\n",
      "csv\n",
      "py\n"
     ]
    }
   ],
   "source": [
    "file_counts = {\"jpg\":10, \"txt\":14, \"csv\":2, \"py\":23}\n",
    "\n",
    "for extension in file_counts:\n",
    "    print(extension)"
   ]
  },
  {
   "cell_type": "markdown",
   "id": "functioning-baptist",
   "metadata": {},
   "source": [
    "# Method - items()"
   ]
  },
  {
   "cell_type": "code",
   "execution_count": 10,
   "id": "lovely-friendly",
   "metadata": {},
   "outputs": [
    {
     "name": "stdout",
     "output_type": "stream",
     "text": [
      "There are 10 files with the .jpg extension\n",
      "There are 14 files with the .txt extension\n",
      "There are 2 files with the .csv extension\n",
      "There are 23 files with the .py extension\n"
     ]
    }
   ],
   "source": [
    "file_counts = {\"jpg\":10, \"txt\":14, \"csv\":2, \"py\":23}\n",
    "\n",
    "for ext, amount in file_counts.items():\n",
    "    print(\"There are {} files with the .{} extension\" .format(amount, ext))"
   ]
  },
  {
   "cell_type": "markdown",
   "id": "pending-biology",
   "metadata": {},
   "source": [
    "# Method - keys()"
   ]
  },
  {
   "cell_type": "code",
   "execution_count": 11,
   "id": "organizational-elevation",
   "metadata": {},
   "outputs": [
    {
     "data": {
      "text/plain": [
       "dict_keys(['jpg', 'txt', 'csv', 'py'])"
      ]
     },
     "execution_count": 11,
     "metadata": {},
     "output_type": "execute_result"
    }
   ],
   "source": [
    "file_counts.keys()"
   ]
  },
  {
   "cell_type": "markdown",
   "id": "vocal-worse",
   "metadata": {},
   "source": [
    "# Method - values()"
   ]
  },
  {
   "cell_type": "code",
   "execution_count": 12,
   "id": "peaceful-macintosh",
   "metadata": {},
   "outputs": [
    {
     "data": {
      "text/plain": [
       "dict_values([10, 14, 2, 23])"
      ]
     },
     "execution_count": 12,
     "metadata": {},
     "output_type": "execute_result"
    }
   ],
   "source": [
    "file_counts.values()"
   ]
  },
  {
   "cell_type": "markdown",
   "id": "younger-irish",
   "metadata": {},
   "source": [
    "# Hands-on practice\n",
    "> **Counting how many times each letter appears in a piece of text**"
   ]
  },
  {
   "cell_type": "code",
   "execution_count": 13,
   "id": "exterior-bargain",
   "metadata": {},
   "outputs": [
    {
     "name": "stdout",
     "output_type": "stream",
     "text": [
      "{'\\n': 2, 'W': 0, 'e': 14, ' ': 28, 'b': 2, 'l': 7, 'i': 10, 'v': 2, 't': 7, 'h': 3, 'a': 14, 'r': 9, 'n': 12, 'g': 2, 's': 7, 'o': 9, 'u': 7, 'c': 4, 'f': 0, 'm': 4, 'p': 1, ',': 0, 'd': 3, 'C': 0, 'y': 2, '.': 0}\n"
     ]
    }
   ],
   "source": [
    "def count_letter(text):\n",
    "    result = {}                         # Initialize an empty dictionary\n",
    "    \n",
    "    for letter in text:                 # Going through each letter in the given strings\n",
    "        if letter not in result:        # For each letter, check if it's not already in the dictionary\n",
    "            result[letter] = 0          # Initialize an entry in the dictionary with a value of zero\n",
    "        else:\n",
    "            result[letter] += 1         # Increment the count for that letter in the dictionary\n",
    "    return result\n",
    "\n",
    "print(count_letter(\"\"\"\n",
    "We believe that learning is the source of human progress, \n",
    "and that Coursera and our community can play a vital role \n",
    "in rebuilding a more inclusive and sustainable economy. \"\"\"))"
   ]
  },
  {
   "cell_type": "code",
   "execution_count": 14,
   "id": "electric-experiment",
   "metadata": {},
   "outputs": [
    {
     "data": {
      "text/plain": [
       "{'a': 4}"
      ]
     },
     "execution_count": 14,
     "metadata": {},
     "output_type": "execute_result"
    }
   ],
   "source": [
    "count_letter(\"aaaaa\")"
   ]
  },
  {
   "cell_type": "markdown",
   "id": "apart-travel",
   "metadata": {},
   "source": [
    "> Have a dictionary called \"wardrobe\" with items of clothing and their colors. Complete the code to print a line for each item of clothing with each color.\n",
    "> - for example: \"red shirt\", \"blue shirt\", and so on."
   ]
  },
  {
   "cell_type": "code",
   "execution_count": 15,
   "id": "wicked-moderator",
   "metadata": {},
   "outputs": [
    {
     "name": "stdout",
     "output_type": "stream",
     "text": [
      "red shirt\n",
      "blue shirt\n",
      "white shirt\n",
      "blue jeans\n",
      "black jeans\n"
     ]
    }
   ],
   "source": [
    "wardrobe = {\"shirt\":[\"red\",\"blue\",\"white\"], \"jeans\":[\"blue\",\"black\"]}\n",
    "for key, value in wardrobe.items():\n",
    "    for i in value:\n",
    "        print(\"{} {}\".format(i, key))"
   ]
  },
  {
   "cell_type": "markdown",
   "id": "coordinate-chile",
   "metadata": {},
   "source": [
    "> The email_list function receives a dictionary, which contains domain names as keys, and a list of users as values.\n",
    "> - Generate a list that contains complete email addresses (e.g. diana.prince@gmail.com)."
   ]
  },
  {
   "cell_type": "code",
   "execution_count": 16,
   "id": "honest-handling",
   "metadata": {},
   "outputs": [
    {
     "name": "stdout",
     "output_type": "stream",
     "text": [
      "['clark.kent@gmail.com', 'diana.prince@gmail.com', 'peter.parker@gmail.com', 'barbara.gordon@yahoo.com', 'jean.grey@yahoo.com', 'bruce.wayne@hotmail.com']\n"
     ]
    }
   ],
   "source": [
    "def email_list(domains):\n",
    "    emails = []\n",
    "    \n",
    "    for domain_name, users in domains.items():\n",
    "        for user in users:\n",
    "            emails.append(user + \"@\" + domain_name)\n",
    "    return (emails)\n",
    "\n",
    "print(email_list({\"gmail.com\": [\"clark.kent\", \"diana.prince\", \"peter.parker\"], \n",
    "                  \"yahoo.com\": [\"barbara.gordon\", \"jean.grey\"], \n",
    "                  \"hotmail.com\": [\"bruce.wayne\"]}))"
   ]
  },
  {
   "cell_type": "markdown",
   "id": "usual-prototype",
   "metadata": {},
   "source": [
    "> The groups_per_user function receives a dictionary, which contains group names with the list of users. Users can belong to multiple groups.\n",
    "> - Try to return a dictionary with the users as keys and a list of their groups as values. "
   ]
  },
  {
   "cell_type": "code",
   "execution_count": 17,
   "id": "adjacent-clothing",
   "metadata": {},
   "outputs": [
    {
     "name": "stdout",
     "output_type": "stream",
     "text": [
      "{'admin': ['local', 'public', 'administrator'], 'userA': ['local'], 'userB': ['public']}\n"
     ]
    }
   ],
   "source": [
    "def groups_per_user(group_dictionary):\n",
    "    user_groups = {}\n",
    "    \n",
    "    for group, users in group_dictionary.items():       # Go through group_dictionary\n",
    "        \n",
    "        for user in users:                              # Now go through the users in the group\n",
    "            if user not in user_groups:                 # Now add the group to the the list of\n",
    "                                                        # groups for this user, creating the entry\n",
    "                                                        # in the dictionary if necessary\n",
    "                user_groups[user] = []\n",
    "            user_groups[user].append(group)\n",
    "\n",
    "    return(user_groups)\n",
    "\n",
    "print(groups_per_user({\"local\": [\"admin\", \"userA\"],\n",
    "                       \"public\":  [\"admin\", \"userB\"],\n",
    "                       \"administrator\": [\"admin\"] }))"
   ]
  },
  {
   "cell_type": "markdown",
   "id": "promising-butter",
   "metadata": {},
   "source": [
    "> The add_prices function returns the total price of all of the groceries in the  dictionary."
   ]
  },
  {
   "cell_type": "code",
   "execution_count": 18,
   "id": "endless-nigeria",
   "metadata": {},
   "outputs": [
    {
     "name": "stdout",
     "output_type": "stream",
     "text": [
      "28.44\n"
     ]
    }
   ],
   "source": [
    "def add_prices(basket):\n",
    "    total = 0                                 # Initialize the variable that will be used for the calculation\n",
    "    \n",
    "    for fruit, price in basket.items():       # Iterate through the dictionary items\n",
    "                                              # Add each price to the total calculation\n",
    "                                              # Hint: how do you access the values of dictionary items?\n",
    "        total += price\n",
    "    return round(total, 2)                    # Limit the return value to 2 decimal places\n",
    "\n",
    "groceries = {\"bananas\": 1.56, \"apples\": 2.50, \"oranges\": 0.99, \"bread\": 4.59, \n",
    "             \"coffee\": 6.99, \"milk\": 3.39, \"eggs\": 2.98, \"cheese\": 5.44}\n",
    "\n",
    "print(add_prices(groceries))                  # Should print 28.44\n"
   ]
  },
  {
   "cell_type": "markdown",
   "id": "aggressive-pontiac",
   "metadata": {},
   "source": [
    "> Complete the code to iterate through the keys and values of the car_prices dictionary, printing out some information about each one."
   ]
  },
  {
   "cell_type": "code",
   "execution_count": 19,
   "id": "latest-nylon",
   "metadata": {},
   "outputs": [
    {
     "name": "stdout",
     "output_type": "stream",
     "text": [
      "Kia Soul costs 19000 dollars\n",
      "Lamborghini Diablo costs 55000 dollars\n",
      "Ford Fiesta costs 13000 dollars\n",
      "Toyota Prius costs 24000 dollars\n",
      "\n"
     ]
    }
   ],
   "source": [
    "def car_listing(car_prices):\n",
    "    result = \"\"\n",
    "    \n",
    "    for key, value in car_prices.items():\n",
    "        result += \"{} costs {} dollars\".format(key, value) + \"\\n\"\n",
    "    return result\n",
    "\n",
    "print(car_listing({\"Kia Soul\":19000, \"Lamborghini Diablo\":55000, \"Ford Fiesta\":13000, \"Toyota Prius\":24000}))"
   ]
  },
  {
   "cell_type": "markdown",
   "id": "cellular-reminder",
   "metadata": {},
   "source": [
    "> Taylor and Rory are hosting a party. They sent out invitations, and each one collected responses into dictionaries, with names of their friends and how many guests each friend is bringing. Each dictionary is a partial list, but Rory's list has more current information about the number of guests.\n",
    "> - Combine both dictionaries into one, with each friend listed only once, and the number of guests from Rory's dictionary taking precedence, if a name is included in both dictionaries. Then print the resulting dictionary."
   ]
  },
  {
   "cell_type": "code",
   "execution_count": 20,
   "id": "available-columbus",
   "metadata": {},
   "outputs": [
    {
     "name": "stdout",
     "output_type": "stream",
     "text": [
      "{'Adam': 2, 'Brenda': 3, 'David': 1, 'Jose': 3, 'Charlotte': 2, 'Terry': 1, 'Robert': 4, 'Nancy': 1, 'Samantha': 3, 'Chris': 5}\n"
     ]
    }
   ],
   "source": [
    "def combine_guests(guests1, guests2):\n",
    "    # Combine both dictionaries into one, with each key listed \n",
    "    # only once, and the value from guests1 taking precedence\n",
    "    \n",
    "    combine_list = guests1\n",
    "    \n",
    "    for name, qty in guests2.items():\n",
    "        if name not in combine_list:\n",
    "            combine_list[name] = qty\n",
    "    return combine_list\n",
    "    \n",
    "\n",
    "Rorys_guests = { \"Adam\":2, \"Brenda\":3, \"David\":1, \"Jose\":3, \"Charlotte\":2, \"Terry\":1, \"Robert\":4}\n",
    "Taylors_guests = { \"David\":4, \"Nancy\":1, \"Robert\":2, \"Adam\":1, \"Samantha\":3, \"Chris\":5}\n",
    "\n",
    "print(combine_guests(Rorys_guests, Taylors_guests))"
   ]
  },
  {
   "cell_type": "code",
   "execution_count": 21,
   "id": "powerful-depth",
   "metadata": {},
   "outputs": [
    {
     "name": "stdout",
     "output_type": "stream",
     "text": [
      "{'David': 1, 'Nancy': 1, 'Robert': 4, 'Adam': 2, 'Samantha': 3, 'Chris': 5, 'Brenda': 3, 'Jose': 3, 'Charlotte': 2, 'Terry': 1}\n"
     ]
    }
   ],
   "source": [
    "def combine_guests(guests1, guests2):\n",
    "    # Combine both dictionaries into one, with each key listed \n",
    "    # only once, and the value from guests1 taking precedence\n",
    "    \n",
    "    guests2.update(guests1)\n",
    "    return guests2\n",
    "    \n",
    "\n",
    "Rorys_guests = { \"Adam\":2, \"Brenda\":3, \"David\":1, \"Jose\":3, \"Charlotte\":2, \"Terry\":1, \"Robert\":4}\n",
    "Taylors_guests = { \"David\":4, \"Nancy\":1, \"Robert\":2, \"Adam\":1, \"Samantha\":3, \"Chris\":5}\n",
    "\n",
    "print(combine_guests(Rorys_guests, Taylors_guests))"
   ]
  },
  {
   "cell_type": "markdown",
   "id": "czech-proportion",
   "metadata": {},
   "source": [
    "> Use a dictionary to count the frequency of letters in the input string. Only letters should be counted, not blank spaces, numbers, or punctuation. Upper case should be considered the same as lower case.\n",
    "> - For example, count_letters(\"This is a sentence.\") should return {'t': 2, 'h': 1, 'i': 2, 's': 3, 'a': 1, 'e': 3, 'n': 2, 'c': 1}."
   ]
  },
  {
   "cell_type": "code",
   "execution_count": 22,
   "id": "loose-cosmetic",
   "metadata": {},
   "outputs": [
    {
     "name": "stdout",
     "output_type": "stream",
     "text": [
      "{'a': 2, 'b': 2, 'c': 2}\n",
      "{'m': 1, 'a': 1, 't': 1, 'h': 1, 'i': 1, 's': 1, 'f': 1, 'u': 1, 'n': 1}\n",
      "{'t': 2, 'h': 1, 'i': 2, 's': 3, 'a': 1, 'e': 3, 'n': 2, 'c': 1}\n"
     ]
    }
   ],
   "source": [
    "def count_letters(text):\n",
    "    \n",
    "    # Go through each letter in the text\n",
    "    # Check if the letter needs to be counted or not\n",
    "    # Add or increment the value in the dictionary\n",
    "    \n",
    "    result = {}\n",
    "    for letter in (text.lower()):\n",
    "        if letter.isalpha():\n",
    "            #result[letter] = text.count(letter)\n",
    "            result[letter] = text.lower().count(letter)\n",
    "        \n",
    "    return result\n",
    "\n",
    "print(count_letters(\"AaBbCc\"))\n",
    "# Should be {'a': 2, 'b': 2, 'c': 2}\n",
    "\n",
    "print(count_letters(\"Math is fun! 2+2=4\"))\n",
    "# Should be {'m': 1, 'a': 1, 't': 1, 'h': 1, 'i': 1, 's': 1, 'f': 1, 'u': 1, 'n': 1}\n",
    "\n",
    "print(count_letters(\"This is a sentence.\"))\n",
    "# Should be {'t': 2, 'h': 1, 'i': 2, 's': 3, 'a': 1, 'e': 3, 'n': 2, 'c': 1}"
   ]
  },
  {
   "cell_type": "code",
   "execution_count": null,
   "id": "celtic-recommendation",
   "metadata": {},
   "outputs": [],
   "source": []
  }
 ],
 "metadata": {
  "kernelspec": {
   "display_name": "Python 3",
   "language": "python",
   "name": "python3"
  },
  "language_info": {
   "codemirror_mode": {
    "name": "ipython",
    "version": 3
   },
   "file_extension": ".py",
   "mimetype": "text/x-python",
   "name": "python",
   "nbconvert_exporter": "python",
   "pygments_lexer": "ipython3",
   "version": "3.9.1"
  }
 },
 "nbformat": 4,
 "nbformat_minor": 5
}
