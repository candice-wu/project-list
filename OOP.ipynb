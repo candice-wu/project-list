{
 "cells": [
  {
   "cell_type": "code",
   "execution_count": 1,
   "id": "ancient-diabetes",
   "metadata": {},
   "outputs": [
    {
     "name": "stdout",
     "output_type": "stream",
     "text": [
      "red\n",
      "sweet\n",
      "RED\n",
      "yellow\n"
     ]
    }
   ],
   "source": [
    "class Apple:\n",
    "    pass\n",
    "\n",
    "class Apple:\n",
    "    color = \"\"\n",
    "    flavor = \"\"\n",
    "    \n",
    "jonagold = Apple()\n",
    "jonagold.color = \"red\"\n",
    "jonagold.flavor = \"sweet\"\n",
    "print(jonagold.color)\n",
    "print(jonagold.flavor)\n",
    "print(jonagold.color.upper())\n",
    "\n",
    "\n",
    "gold = Apple()\n",
    "gold.color = \"yellow\"\n",
    "gold.flavor = \"soft\"\n",
    "print(gold.color)"
   ]
  },
  {
   "cell_type": "markdown",
   "id": "instant-maple",
   "metadata": {},
   "source": [
    "# Object-Oriented Programming - Method\n",
    "> Define methods within a class by creating functions inside the class definition."
   ]
  },
  {
   "cell_type": "markdown",
   "id": "parliamentary-completion",
   "metadata": {},
   "source": [
    "> These instance methods can take a parameter called **self** which represents the instance the method is being executed on. This will allow you to access attributes of the instance using **dot notation**, like **self.name**, which will access the name attribute of that specific instance of the class object. When you have variables that contain different values for different instances, these are called **instance variables**."
   ]
  },
  {
   "cell_type": "code",
   "execution_count": 2,
   "id": "vulnerable-keyboard",
   "metadata": {},
   "outputs": [
    {
     "name": "stdout",
     "output_type": "stream",
     "text": [
      "Oink! I'm Hamlet! Oink!\n",
      "Oink! I'm Petunia! Oink!\n"
     ]
    }
   ],
   "source": [
    "class Piglet:\n",
    "    name = \"piglet\"\n",
    "    def speak(self):\n",
    "        print(\"Oink! I'm {}! Oink!\" .format(self.name))\n",
    "\n",
    "hamlet = Piglet()\n",
    "hamlet.name = \"Hamlet\"\n",
    "hamlet.speak()\n",
    "\n",
    "petunia = Piglet()\n",
    "petunia.name = \"Petunia\"\n",
    "petunia.speak()"
   ]
  },
  {
   "cell_type": "code",
   "execution_count": 3,
   "id": "helpful-destiny",
   "metadata": {},
   "outputs": [
    {
     "name": "stdout",
     "output_type": "stream",
     "text": [
      "0\n",
      "36\n"
     ]
    }
   ],
   "source": [
    "class Piglet:\n",
    "    year = 0\n",
    "    def pig_year(self):\n",
    "        return self.year * 18\n",
    "\n",
    "piggy = Piglet()\n",
    "print(piggy.pig_year())\n",
    "\n",
    "piggy.year = 2\n",
    "print(piggy.pig_year())"
   ]
  },
  {
   "cell_type": "code",
   "execution_count": 4,
   "id": "suburban-philippines",
   "metadata": {},
   "outputs": [
    {
     "name": "stdout",
     "output_type": "stream",
     "text": [
      "21\n"
     ]
    }
   ],
   "source": [
    "class Dog:\n",
    "    years = 0\n",
    "    def dog_years(self):\n",
    "        return self.years * 7\n",
    "    \n",
    "fido = Dog()\n",
    "fido.years = 3\n",
    "print(fido.dog_years())"
   ]
  },
  {
   "cell_type": "markdown",
   "id": "forced-favor",
   "metadata": {},
   "source": [
    "# Special Methods\n",
    "### **_ _ _init_ _ _** constructor"
   ]
  },
  {
   "cell_type": "code",
   "execution_count": 5,
   "id": "closed-natural",
   "metadata": {},
   "outputs": [
    {
     "name": "stdout",
     "output_type": "stream",
     "text": [
      "red\n",
      "<__main__.Apple object at 0x1036bb640>\n"
     ]
    }
   ],
   "source": [
    "class Apple:\n",
    "    \n",
    "    # the constructor method takes the self variable, which represents the instance,\n",
    "    # as well as color and flavor parameters. \n",
    "    def __init__(self, color, flavor):\n",
    "        # These parameters are then used by the constructor method to set the values for the current instance.\n",
    "        self.color = color\n",
    "        self.flavor = flavor\n",
    "        \n",
    "# Create a new instance of the Apple class and set the color and flavor values\n",
    "jonagold = Apple(\"red\", \"sweet\")\n",
    "print(jonagold.color)\n",
    "\n",
    "\n",
    "# When we don't specify a way to print an object,\n",
    "# Python uses the default method that prints the position where the object is stored in the computer's memory.\n",
    "print(jonagold)"
   ]
  },
  {
   "cell_type": "markdown",
   "id": "impaired-watts",
   "metadata": {},
   "source": [
    "### **_ _ _str_ _ _** conversion to string\n",
    "- This method allows us to define how an instance of an object will be printed when it’s passed to the print() function.\n",
    "- If an object doesn’t have this special method defined, it will wind up using the default representation, which will print the position of the object in memory."
   ]
  },
  {
   "cell_type": "code",
   "execution_count": 6,
   "id": "indian-ordering",
   "metadata": {},
   "outputs": [
    {
     "name": "stdout",
     "output_type": "stream",
     "text": [
      "This apple is red and its flavor is sweet\n"
     ]
    }
   ],
   "source": [
    "class Apple:\n",
    "    def __init__(self, color, flavor):\n",
    "        self.color = color\n",
    "        self.flavor = flavor\n",
    "    \n",
    "    # Use the special STR method which returns the string that we want to print.\n",
    "    def __str__(self):\n",
    "        return (\"This apple is {} and its flavor is {}\" .format(self.color, self.flavor))\n",
    "    \n",
    "jonagold = Apple(\"red\", \"sweet\")\n",
    "\n",
    "print(jonagold)"
   ]
  },
  {
   "cell_type": "markdown",
   "id": "funded-context",
   "metadata": {},
   "source": [
    "> In this code, there's a Person class that has an attribute name, which gets set when constructing the object.\n",
    "> - 1) when an instance of the class is created, the attribute gets set correctly.\n",
    "> - 2) when the greeting() method is called, the greeting states the assigned name."
   ]
  },
  {
   "cell_type": "code",
   "execution_count": 7,
   "id": "married-individual",
   "metadata": {},
   "outputs": [
    {
     "name": "stdout",
     "output_type": "stream",
     "text": [
      "Hi, my name is Candice\n"
     ]
    }
   ],
   "source": [
    "class Person:\n",
    "    def __init__(self, name):\n",
    "        self.name = name\n",
    "    def greeting(self):\n",
    "        # Should return \"Hi, my name is \" followed by the name of the Person.\n",
    "        return (\"Hi, my name is {}\" . format(self.name))\n",
    "\n",
    "# Create a new instance with a name of your choice\n",
    "some_person = Person(\"Candice\")\n",
    "\n",
    "# Call the greeting method\n",
    "print(some_person.greeting())"
   ]
  },
  {
   "cell_type": "markdown",
   "id": "dietary-helmet",
   "metadata": {},
   "source": [
    "# Documenting with Docstrings\n",
    "> The Python help function can be super helpful for easily pulling up documentation for classes and methods. We can call the help function on one of our classes, which will return some basic info about the methods defined in our class:\n",
    "> - A docstring is a brief text that explains what something does.\n",
    "> - Typing a string between triple quotes.\n",
    "> - Indent it to the right like the body of the function.\n",
    "\n",
    "> Docstrings are super useful for documenting our custom classes, methods, and functions, but also when working with new libraries or functions. You'll be extremely grateful for docstrings when you have to work with code that someone else wrote!"
   ]
  },
  {
   "cell_type": "code",
   "execution_count": 8,
   "id": "unauthorized-chart",
   "metadata": {},
   "outputs": [
    {
     "name": "stdout",
     "output_type": "stream",
     "text": [
      "Help on class Person in module __main__:\n",
      "\n",
      "class Person(builtins.object)\n",
      " |  Person(name)\n",
      " |  \n",
      " |  Methods defined here:\n",
      " |  \n",
      " |  __init__(self, name)\n",
      " |      Initialize self.  See help(type(self)) for accurate signature.\n",
      " |  \n",
      " |  greeting(self)\n",
      " |      Outputs a message with the name of the person\n",
      " |  \n",
      " |  ----------------------------------------------------------------------\n",
      " |  Data descriptors defined here:\n",
      " |  \n",
      " |  __dict__\n",
      " |      dictionary for instance variables (if defined)\n",
      " |  \n",
      " |  __weakref__\n",
      " |      list of weak references to the object (if defined)\n",
      "\n"
     ]
    }
   ],
   "source": [
    "class Person:\n",
    "    def __init__(self, name):\n",
    "        self.name = name\n",
    "    def greeting(self):\n",
    "        \"\"\"Outputs a message with the name of the person\"\"\"        # Add a Docstrings\n",
    "        print(\"Hello! My name is {name}.\".format(name=self.name)) \n",
    "\n",
    "help(Person)                                                       # Call help function\n"
   ]
  },
  {
   "cell_type": "markdown",
   "id": "super-workplace",
   "metadata": {},
   "source": [
    "# Hands-on practice"
   ]
  },
  {
   "cell_type": "code",
   "execution_count": 9,
   "id": "moving-samba",
   "metadata": {},
   "outputs": [
    {
     "data": {
      "text/plain": [
       "1"
      ]
     },
     "execution_count": 9,
     "metadata": {},
     "output_type": "execute_result"
    }
   ],
   "source": [
    "class Elevator:\n",
    "    def __init__(self, bottom, top, current):\n",
    "        \"\"\"Initializes the Elevator instance.\"\"\"\n",
    "        self.bottom = bottom\n",
    "        self.top = top\n",
    "        self.current = current\n",
    "    def up(self):\n",
    "        \"\"\"Makes the elevator go up one floor.\"\"\"\n",
    "        if self.current < 10:\n",
    "            self.current += 1\n",
    "    def down(self):\n",
    "        \"\"\"Makes the elevator go down one floor.\"\"\"\n",
    "        if self.current > 0:\n",
    "            self.current -= 1\n",
    "    def go_to(self, floor):\n",
    "        \"\"\"Makes the elevator go to the specific floor.\"\"\"\n",
    "        self.current = floor\n",
    "        \n",
    "    def __str__(self):\n",
    "        return \"Current floor: {}\".format(self.current)\n",
    "\n",
    "elevator = Elevator(-1, 10, 0)\n",
    "\n",
    "elevator.up() \n",
    "elevator.current               #should output 1"
   ]
  },
  {
   "cell_type": "code",
   "execution_count": 10,
   "id": "reserved-opportunity",
   "metadata": {},
   "outputs": [
    {
     "data": {
      "text/plain": [
       "0"
      ]
     },
     "execution_count": 10,
     "metadata": {},
     "output_type": "execute_result"
    }
   ],
   "source": [
    "elevator.down() \n",
    "elevator.current               #should output 0"
   ]
  },
  {
   "cell_type": "code",
   "execution_count": 11,
   "id": "portuguese-robinson",
   "metadata": {},
   "outputs": [
    {
     "data": {
      "text/plain": [
       "10"
      ]
     },
     "execution_count": 11,
     "metadata": {},
     "output_type": "execute_result"
    }
   ],
   "source": [
    "elevator.go_to(10) \n",
    "elevator.current               #should output 10"
   ]
  },
  {
   "cell_type": "code",
   "execution_count": 12,
   "id": "overall-collapse",
   "metadata": {},
   "outputs": [
    {
     "name": "stdout",
     "output_type": "stream",
     "text": [
      "9\n"
     ]
    }
   ],
   "source": [
    "# Go to the top floor. Try to go up, it should stay. Then go down.\n",
    "elevator.go_to(10)\n",
    "elevator.up()\n",
    "elevator.down()\n",
    "print(elevator.current) # should be 9"
   ]
  },
  {
   "cell_type": "code",
   "execution_count": 13,
   "id": "celtic-luxury",
   "metadata": {},
   "outputs": [
    {
     "name": "stdout",
     "output_type": "stream",
     "text": [
      "1\n"
     ]
    }
   ],
   "source": [
    "# Go to the bottom floor. Try to go down, it should stay. Then go up.\n",
    "elevator.go_to(-1)\n",
    "elevator.down()\n",
    "elevator.down()\n",
    "elevator.up()\n",
    "elevator.up()\n",
    "print(elevator.current) # should be 1"
   ]
  },
  {
   "cell_type": "code",
   "execution_count": 14,
   "id": "surprised-vatican",
   "metadata": {},
   "outputs": [
    {
     "name": "stdout",
     "output_type": "stream",
     "text": [
      "Current floor: 5\n"
     ]
    }
   ],
   "source": [
    "elevator.go_to(5)\n",
    "print(elevator)"
   ]
  },
  {
   "cell_type": "code",
   "execution_count": null,
   "id": "abandoned-rolling",
   "metadata": {},
   "outputs": [],
   "source": []
  }
 ],
 "metadata": {
  "kernelspec": {
   "display_name": "Python 3",
   "language": "python",
   "name": "python3"
  },
  "language_info": {
   "codemirror_mode": {
    "name": "ipython",
    "version": 3
   },
   "file_extension": ".py",
   "mimetype": "text/x-python",
   "name": "python",
   "nbconvert_exporter": "python",
   "pygments_lexer": "ipython3",
   "version": "3.9.1"
  }
 },
 "nbformat": 4,
 "nbformat_minor": 5
}
