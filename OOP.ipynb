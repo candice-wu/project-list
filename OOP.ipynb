{
 "cells": [
  {
   "cell_type": "markdown",
   "id": "alert-transcript",
   "metadata": {},
   "source": [
    "# Object-Oriented Programming 物件導向\n",
    "- In object-oriented programming, concepts are modeled as classes and objects"
   ]
  },
  {
   "cell_type": "markdown",
   "id": "crude-creator",
   "metadata": {},
   "source": [
    "**class 類別 (idea 想法)**\n",
    "> attribute 屬性 (characteristics 特徵)\n",
    "\n",
    "> method    方法 (functions 函數)\n",
    "    \n",
    "**object 物件 (instance 實例)**\n",
    "> strings, lists, dictionaries, numbers or anything else..."
   ]
  },
  {
   "cell_type": "markdown",
   "id": "selective-sydney",
   "metadata": {},
   "source": [
    "# Object-Oriented Programming - Class 類別 | Attribute 屬性\n",
    "- Attributes are the characteristics of the class"
   ]
  },
  {
   "cell_type": "code",
   "execution_count": 1,
   "id": "ancient-diabetes",
   "metadata": {},
   "outputs": [
    {
     "name": "stdout",
     "output_type": "stream",
     "text": [
      "red\n",
      "sweet\n",
      "RED\n",
      "yellow\n"
     ]
    }
   ],
   "source": [
    "class Apple:\n",
    "    pass\n",
    "\n",
    "class Apple:\n",
    "    color = \"\"\n",
    "    flavor = \"\"\n",
    "    \n",
    "jonagold = Apple()  # Create a new instance of Apple class and assigning it to a variable called jonagold\n",
    "jonagold.color = \"red\"      # Set the string values of the color attributes of jonagold instance\n",
    "jonagold.flavor = \"sweet\"   # Set the string values of the flavor attributes of jonagold instance\n",
    "print(jonagold.color)\n",
    "print(jonagold.flavor)\n",
    "print(jonagold.color.upper())\n",
    "\n",
    "\n",
    "gold = Apple()      # Create another new instance of Apple class and assigning it to a variable called gold\n",
    "gold.color = \"yellow\"       # Set the string values of the color attributes different from jonagold instance\n",
    "gold.flavor = \"soft\"        # Set the string values of the flavor attributes different from jonagold instance\n",
    "print(gold.color)"
   ]
  },
  {
   "cell_type": "code",
   "execution_count": 2,
   "id": "strange-obligation",
   "metadata": {},
   "outputs": [
    {
     "name": "stdout",
     "output_type": "stream",
     "text": [
      "Jonagold apple's color is Red and flavor is Sweet\n",
      "Golden apple's color is Green and flavor is Tart\n",
      "['Green', 'Tart']\n",
      "{'Tart', 'Green'}\n"
     ]
    }
   ],
   "source": [
    "class Apple:\n",
    "    color = \"Green\"\n",
    "    flavor = \"Tart\"\n",
    "    \n",
    "jonagold = Apple()\n",
    "jonagold.name = \"Jonagold\"\n",
    "jonagold.color = \"Red\"\n",
    "jonagold.flavor = \"Sweet\"\n",
    "\n",
    "golden = Apple()\n",
    "golden.name = \"Golden\"\n",
    "\n",
    "print(\"{} apple's color is {} and flavor is {}\" .format(jonagold.name, jonagold.color, jonagold.flavor))\n",
    "print(\"{} apple's color is {} and flavor is {}\" .format(golden.name, golden.color, golden.flavor))\n",
    "\n",
    "print([Apple.color, Apple.flavor])  # Use list to print out\n",
    "print({Apple.color, Apple.flavor})  # Use dictionary to print out"
   ]
  },
  {
   "cell_type": "markdown",
   "id": "instant-maple",
   "metadata": {},
   "source": [
    "# Object-Oriented Programming - Class 類別 | Method 方法\n",
    "- Methods are functions that are part of the class\n",
    "> Define methods within a class by creating functions inside the class definition."
   ]
  },
  {
   "cell_type": "markdown",
   "id": "parliamentary-completion",
   "metadata": {},
   "source": [
    "> These instance methods can take a parameter called **self** which represents the instance the method is being executed on. This will allow you to access attributes of the instance using **dot notation**, like **self.name**, which will access the name attribute of that specific instance of the class object. When you have variables that contain different values for different instances, these are called **instance variables**."
   ]
  },
  {
   "cell_type": "code",
   "execution_count": 3,
   "id": "smaller-seven",
   "metadata": {},
   "outputs": [
    {
     "name": "stdout",
     "output_type": "stream",
     "text": [
      "oink oink\n"
     ]
    }
   ],
   "source": [
    "class Piglet:\n",
    "    \n",
    "    # This function is receiving a parameter called self\n",
    "    # which represents the instance that the method is being executed on.\n",
    "    def speak(self):\n",
    "        print(\"oink oink\")\n",
    "        \n",
    "hamlet = Piglet()  #Create a new instance of Piglet class and assigning it to a variable called hamlet\n",
    "hamlet.speak()"
   ]
  },
  {
   "cell_type": "code",
   "execution_count": 4,
   "id": "vulnerable-keyboard",
   "metadata": {},
   "outputs": [
    {
     "name": "stdout",
     "output_type": "stream",
     "text": [
      "Oink! I'm Hamlet! Oink!\n",
      "Oink! I'm Petunia! Oink!\n"
     ]
    }
   ],
   "source": [
    "class Piglet:\n",
    "    name = \"piglet\"\n",
    "    def speak(self):\n",
    "        print(\"Oink! I'm {}! Oink!\" .format(self.name))\n",
    "\n",
    "hamlet = Piglet()\n",
    "hamlet.name = \"Hamlet\"\n",
    "hamlet.speak()\n",
    "\n",
    "petunia = Piglet()\n",
    "petunia.name = \"Petunia\"\n",
    "petunia.speak()\n",
    "\n",
    "# Variables that have different values for different instances of the same class are called instance variables, \n",
    "# just like the name variable in this case."
   ]
  },
  {
   "cell_type": "code",
   "execution_count": 5,
   "id": "helpful-destiny",
   "metadata": {},
   "outputs": [
    {
     "name": "stdout",
     "output_type": "stream",
     "text": [
      "0\n",
      "36\n"
     ]
    }
   ],
   "source": [
    "class Piglet:\n",
    "    year = 0\n",
    "    def pig_year(self):\n",
    "        return self.year * 18\n",
    "\n",
    "piggy = Piglet()\n",
    "print(piggy.pig_year())\n",
    "\n",
    "piggy.year = 2\n",
    "print(piggy.pig_year())"
   ]
  },
  {
   "cell_type": "code",
   "execution_count": 6,
   "id": "suburban-philippines",
   "metadata": {},
   "outputs": [
    {
     "name": "stdout",
     "output_type": "stream",
     "text": [
      "Fido\n",
      "Fido is 21 years old.\n"
     ]
    }
   ],
   "source": [
    "class Dog:\n",
    "    years = 0\n",
    "    def dog_years(self):\n",
    "        return self.years * 7\n",
    "    \n",
    "fido = Dog()\n",
    "fido.name = \"Fido\"\n",
    "fido.years = 3\n",
    "\n",
    "print(fido.name)\n",
    "print(\"{} is {} years old.\" .format(fido.name, fido.dog_years()))"
   ]
  },
  {
   "cell_type": "markdown",
   "id": "forced-favor",
   "metadata": {},
   "source": [
    "# Object-Oriented Programming - Special Methods\n",
    "### **_ _ _init_ _ _** constructor 構造函數 (建構子)\n",
    "> Instead of creating classes with empty or default values, we can set these values when we create the instance. This ensures that we don't miss an important value and avoids a lot of unnecessary lines of code."
   ]
  },
  {
   "cell_type": "code",
   "execution_count": 7,
   "id": "closed-natural",
   "metadata": {},
   "outputs": [
    {
     "name": "stdout",
     "output_type": "stream",
     "text": [
      "red\n",
      "<__main__.Apple object at 0x110c99d30>\n"
     ]
    }
   ],
   "source": [
    "class Apple:\n",
    "    \n",
    "    # the constructor method takes the self variable, which represents the instance,\n",
    "    # as well as color and flavor parameters. \n",
    "    def __init__(self, color, flavor):\n",
    "        # These parameters are then used by the constructor method to set the values for the current instance.\n",
    "        self.color = color\n",
    "        self.flavor = flavor\n",
    "        \n",
    "# Create a new instance of the Apple class and set the color and flavor values\n",
    "jonagold = Apple(\"red\", \"sweet\")\n",
    "print(jonagold.color)\n",
    "\n",
    "\n",
    "# When it doesn't specify a way to print an object,\n",
    "# Python uses the default representation that prints the position where the object is stored in the computer's memory.\n",
    "print(jonagold)"
   ]
  },
  {
   "cell_type": "code",
   "execution_count": 8,
   "id": "greek-girlfriend",
   "metadata": {},
   "outputs": [
    {
     "name": "stdout",
     "output_type": "stream",
     "text": [
      "red\n",
      "Jonagold\n",
      "this apple is red and flavor is sweet\n"
     ]
    }
   ],
   "source": [
    "class Apple:\n",
    "    def __init__(self, color, flavor):\n",
    "        self.color = color\n",
    "        self.flavor = flavor\n",
    "    def __str__(self):\n",
    "        return(\"this apple is {} and flavor is {}\" . format(self.color, self.flavor))\n",
    "        \n",
    "        \n",
    "jonagold = Apple(\"red\", \"sweet\")\n",
    "print(jonagold.color)\n",
    "\n",
    "jonagold.name = \"Jonagold\"\n",
    "print(jonagold.name)\n",
    "\n",
    "print(jonagold)"
   ]
  },
  {
   "cell_type": "markdown",
   "id": "impaired-watts",
   "metadata": {},
   "source": [
    "### **_ _ _str_ _ _** conversion to string\n",
    "- This method allows us to define how an instance of an object will be printed when it’s passed to the print() function.\n",
    "- If an object doesn’t have this special method defined, it will wind up using the default representation, which will print the position of the object in memory."
   ]
  },
  {
   "cell_type": "code",
   "execution_count": 9,
   "id": "indian-ordering",
   "metadata": {},
   "outputs": [
    {
     "name": "stdout",
     "output_type": "stream",
     "text": [
      "This apple is red and its flavor is sweet\n"
     ]
    }
   ],
   "source": [
    "class Apple:\n",
    "    def __init__(self, color, flavor):\n",
    "        self.color = color\n",
    "        self.flavor = flavor\n",
    "    \n",
    "    # Use the special STR method which returns the string that we want to print.\n",
    "    def __str__(self):\n",
    "        return (\"This apple is {} and its flavor is {}\" .format(self.color, self.flavor))\n",
    "    \n",
    "jonagold = Apple(\"red\", \"sweet\")\n",
    "\n",
    "print(jonagold)"
   ]
  },
  {
   "cell_type": "markdown",
   "id": "funded-context",
   "metadata": {},
   "source": [
    "> In this code, there's a Person class that has an attribute name, which gets set when constructing the object.\n",
    "> - 1) when an instance of the class is created, the attribute gets set correctly.\n",
    "> - 2) when the greeting() method is called, the greeting states the assigned name."
   ]
  },
  {
   "cell_type": "code",
   "execution_count": 10,
   "id": "married-individual",
   "metadata": {},
   "outputs": [
    {
     "name": "stdout",
     "output_type": "stream",
     "text": [
      "Hi, my name is Candice\n"
     ]
    }
   ],
   "source": [
    "class Person:\n",
    "    def __init__(self, name):\n",
    "        self.name = name\n",
    "    def greeting(self):\n",
    "        # Should return \"Hi, my name is \" followed by the name of the Person.\n",
    "        return (\"Hi, my name is {}\" . format(self.name))\n",
    "\n",
    "# Create a new instance with a name of your choice\n",
    "some_person = Person(\"Candice\")\n",
    "\n",
    "# Call the greeting method\n",
    "print(some_person.greeting())"
   ]
  },
  {
   "cell_type": "markdown",
   "id": "dietary-helmet",
   "metadata": {},
   "source": [
    "# Documenting with Docstrings\n",
    "> The Python help function can be super helpful for easily pulling up documentation for classes and methods. We can call the help function on one of our classes, which will return some basic info about the methods defined in our class:\n",
    "> - A docstring is a brief text that explains what something does.\n",
    "> - Typing a string between triple quotes.\n",
    "> - Indent it to the right like the body of the function.\n",
    "\n",
    "> Docstrings are super useful for documenting our custom classes, methods, and functions, but also when working with new libraries or functions. You'll be extremely grateful for docstrings when you have to work with code that someone else wrote!"
   ]
  },
  {
   "cell_type": "code",
   "execution_count": 11,
   "id": "unauthorized-chart",
   "metadata": {},
   "outputs": [
    {
     "name": "stdout",
     "output_type": "stream",
     "text": [
      "Help on class Person in module __main__:\n",
      "\n",
      "class Person(builtins.object)\n",
      " |  Person(name)\n",
      " |  \n",
      " |  Methods defined here:\n",
      " |  \n",
      " |  __init__(self, name)\n",
      " |      Initialize self.  See help(type(self)) for accurate signature.\n",
      " |  \n",
      " |  greeting(self)\n",
      " |      Outputs a message with the name of the person\n",
      " |  \n",
      " |  ----------------------------------------------------------------------\n",
      " |  Data descriptors defined here:\n",
      " |  \n",
      " |  __dict__\n",
      " |      dictionary for instance variables (if defined)\n",
      " |  \n",
      " |  __weakref__\n",
      " |      list of weak references to the object (if defined)\n",
      "\n"
     ]
    }
   ],
   "source": [
    "class Person:\n",
    "    def __init__(self, name):\n",
    "        self.name = name\n",
    "    def greeting(self):\n",
    "        \"\"\"Outputs a message with the name of the person\"\"\"          # Add a Docstrings\n",
    "        print(\"Hello! My name is {name}.\".format(name = self.name)) \n",
    "\n",
    "help(Person)                                                         # Call help function\n"
   ]
  },
  {
   "cell_type": "markdown",
   "id": "warming-income",
   "metadata": {},
   "source": [
    "# Object-Oriented Programming - Object Inheritance 物件繼承"
   ]
  },
  {
   "cell_type": "code",
   "execution_count": 12,
   "id": "standard-spectrum",
   "metadata": {},
   "outputs": [
    {
     "name": "stdout",
     "output_type": "stream",
     "text": [
      "red\n",
      "tart\n"
     ]
    }
   ],
   "source": [
    "class Fruit:\n",
    "    def __init__(self, color, taste):  # Define a Fruit class with a constructor for color and taste attributes.\n",
    "        self.color = color\n",
    "        self.taste = taste\n",
    "\n",
    "# Both the Apple and the Grape classes inherit from the Fruit class,      \n",
    "# they automatically have the same constructor, which sets the color and taste attributes.\n",
    "# You can think of the Fruit class as the parent class, and the Apple and Grape classes as siblings.\n",
    "class Apple(Fruit):\n",
    "    pass\n",
    "\n",
    "class Grape(Fruit):\n",
    "    pass\n",
    "\n",
    "\n",
    "jonagold = Apple(\"red\", \"sweet\")   # Create an instance of the Apple class, and give it two parameters.\n",
    "ball = Grape(\"purple\", \"tart\")     # Create an instance of the Grape class, and give it two parameters.\n",
    "\n",
    "print(jonagold.color)              # Print the attributes values of the instance of the Apple class.\n",
    "print(ball.taste)                  # Print the attributes values of the instance of the Grape class."
   ]
  },
  {
   "cell_type": "code",
   "execution_count": 13,
   "id": "varied-button",
   "metadata": {},
   "outputs": [
    {
     "name": "stdout",
     "output_type": "stream",
     "text": [
      "Oink! I'm Hamlet! Oink!\n",
      "Moooooo~ I'm Milky White! Moooooo~\n"
     ]
    }
   ],
   "source": [
    "class Animal:\n",
    "    sound = \"\"                     # Has an attribute to store the sound that the Animal makes. \n",
    "    def __init__(self, name):      # The constructor of the class takes the name that will be assigned to the instance when it's created.\n",
    "        self.name = name\n",
    "    \n",
    "    def speak(self):               # Create a speak method that prints the name of the animal together with the sound the animal makes.\n",
    "        print(\"{} I'm {}! {}\" .format(self.sound, self.name, self.sound))\n",
    "\n",
    "        \n",
    "class Piglet(Animal):              # Create a Piglet class to inherit from the Animal class\n",
    "    sound = \"Oink!\"                # Set the value of the sound attribute to Oink in the Piglet class\n",
    "    \n",
    "hamlet = Piglet(\"Hamlet\")          # Create an instance of the Piglet class\n",
    "hamlet.speak()                     # makes it to call speak method\n",
    "\n",
    "\n",
    "class Cow(Animal):                 # Create a Cow class to inherit from the Animal class\n",
    "    sound = \"Moooooo~\"             # Set the value of the sound attribute to Moooooo in the Cow class\n",
    "    \n",
    "milky = Cow(\"Milky White\")         # Create an instance of the cow class\n",
    "milky.speak()                      # makes it to call speak method"
   ]
  },
  {
   "cell_type": "code",
   "execution_count": 14,
   "id": "dried-healing",
   "metadata": {},
   "outputs": [
    {
     "name": "stdout",
     "output_type": "stream",
     "text": [
      "Oink! I'm Hamlet! Oink!\n",
      "Moooooo~ I'm Milky White! Moooooo~\n"
     ]
    }
   ],
   "source": [
    "class Animal:\n",
    "    sound = \"\"\n",
    "    def __init__(self, name):\n",
    "        self.name = name\n",
    "    \n",
    "    def speak(self):\n",
    "        print(\"{sound} I'm {name}! {sound}\" .format(sound = self.sound, name = self.name))\n",
    "        # Indicate specific attribute within the curly brackets.\n",
    "\n",
    "        \n",
    "class Piglet(Animal):\n",
    "    sound = \"Oink!\"\n",
    "    \n",
    "hamlet = Piglet(\"Hamlet\")\n",
    "hamlet.speak()\n",
    "\n",
    "\n",
    "class Cow(Animal):\n",
    "    sound = \"Moooooo~\"\n",
    "    \n",
    "milky = Cow(\"Milky White\")\n",
    "milky.speak()"
   ]
  },
  {
   "cell_type": "code",
   "execution_count": 15,
   "id": "strategic-yemen",
   "metadata": {},
   "outputs": [
    {
     "name": "stdout",
     "output_type": "stream",
     "text": [
      "Oink! I'm Hamlet, Oink!\n",
      "Moooooo~ I'm Milky White, Moooooo~\n"
     ]
    }
   ],
   "source": [
    "class Animals:\n",
    "    sound = \"\"\n",
    "    def __init__(self, name):\n",
    "        self.name = name\n",
    "    def speak(self):\n",
    "        return (\"{sound} I'm {name}, {sound}\" .format(sound = self.sound, name = self.name))\n",
    "\n",
    "class Piglet(Animals):\n",
    "    sound = \"Oink!\"\n",
    "class Cow(Animals):\n",
    "    sound = \"Moooooo~\"\n",
    "\n",
    "hamlet = Piglet(\"Hamlet\")\n",
    "print(hamlet.speak())\n",
    "\n",
    "milky = Cow(\"Milky White\")\n",
    "print(milky.speak())"
   ]
  },
  {
   "cell_type": "code",
   "execution_count": 16,
   "id": "mediterranean-manner",
   "metadata": {},
   "outputs": [
    {
     "name": "stdout",
     "output_type": "stream",
     "text": [
      "This Polo is made of Cotton\n"
     ]
    }
   ],
   "source": [
    "class Clothing:\n",
    "    material = \"\"\n",
    "    def __init__(self, name):\n",
    "        self.name = name\n",
    "    \n",
    "    def checkmaterial(self):\n",
    "        print(\"This {} is made of {}\".format(self.name, self.material))\n",
    "        \n",
    "class Shirt(Clothing):\n",
    "    material = \"Cotton\"\n",
    "\n",
    "polo = Shirt(\"Polo\")\n",
    "polo.checkmaterial()"
   ]
  },
  {
   "cell_type": "markdown",
   "id": "fewer-combat",
   "metadata": {},
   "source": [
    "# Object-Oriented Programming - Object Composition 物件複合\n",
    "> Having a situation where two different classes are related, but there is no inheritance going on. This is referred to as composition -- where one class makes use of code contained in another class.\n",
    "> - Composition is able to use **objects** as attributes, as well as access all their **attributes and methods**.\n",
    "\n",
    "> **[Rule of thumb] Initialize mutable attributes in the constructor**"
   ]
  },
  {
   "cell_type": "code",
   "execution_count": 17,
   "id": "adolescent-rally",
   "metadata": {},
   "outputs": [],
   "source": [
    "class Repository:\n",
    "    \n",
    "    # In the constructor method, initialize the packages dictionary,\n",
    "    # which will contain the package objects available in this repository instance\n",
    "    # for ensuring every instance of the Repository class has its own dictionary.\n",
    "    def __init__(self):\n",
    "        self.packages = {}\n",
    "    \n",
    "    \n",
    "    # Define the add_package method, which takes a Package object as a parameter,\n",
    "    # and then adds it to our dictionary, using the package name attribute as the key.\n",
    "    def add_package(self, package):\n",
    "        self.packages[package.name] = package\n",
    "        \n",
    "        \n",
    "    # Define a total_size method which computes the total size of all packages contained in our repository. \n",
    "    # This method iterates through the values in our repository dictionary\n",
    "    # and adds together the size attributes from each package object contained in the dictionary,\n",
    "    # returning the total at the end\n",
    "    def total_size(self):\n",
    "        result = 0\n",
    "        for package in self.packages.values():\n",
    "            result += package.size\n",
    "        return result"
   ]
  },
  {
   "cell_type": "markdown",
   "id": "wrapped-procedure",
   "metadata": {},
   "source": [
    "> Finish the \"Stock_by_Material\" method and iterate over the amount of each item of a given material that is in stock. When you’re finished, the script should add up to 10 cotton Polo shirts."
   ]
  },
  {
   "cell_type": "code",
   "execution_count": 18,
   "id": "damaged-group",
   "metadata": {},
   "outputs": [
    {
     "name": "stdout",
     "output_type": "stream",
     "text": [
      "10\n"
     ]
    }
   ],
   "source": [
    "class Clothing:\n",
    "    stock = {\"name\":[], \"material\":[], \"amount\":[]}\n",
    "    def __init__(self, name):\n",
    "        material = \"\"\n",
    "        self.name = name\n",
    "    \n",
    "    def add_item(self, name, material, amount):\n",
    "        Clothing.stock[\"name\"].append(self.name)\n",
    "        Clothing.stock[\"material\"].append(self.material)\n",
    "        Clothing.stock[\"amount\"].append(amount)\n",
    "        \n",
    "    def Stock_by_Material(self, material):\n",
    "        count = 0\n",
    "        n = 0\n",
    "        for item in Clothing.stock[\"material\"]:\n",
    "            if item == material:\n",
    "                count += Clothing.stock[\"amount\"][n]\n",
    "                n += 1\n",
    "        return count\n",
    "\n",
    "class shirt(Clothing):\n",
    "    material = \"Cotton\"\n",
    "class pants(Clothing):\n",
    "    material = \"Cotton\"\n",
    "    \n",
    "polo = shirt(\"Polo\")\n",
    "sweatpants = pants(\"Sweatpants\")\n",
    "\n",
    "polo.add_item(polo.name, polo.material, 4)\n",
    "sweatpants.add_item(sweatpants.name, sweatpants.material, 6)\n",
    "\n",
    "current_stock = polo.Stock_by_Material(\"Cotton\")\n",
    "print(current_stock)"
   ]
  },
  {
   "cell_type": "code",
   "execution_count": 19,
   "id": "handmade-repair",
   "metadata": {},
   "outputs": [
    {
     "name": "stdout",
     "output_type": "stream",
     "text": [
      "reptile\n"
     ]
    }
   ],
   "source": [
    "class Animal:\n",
    "    name = \"\"\n",
    "    category = \"\"\n",
    "    \n",
    "    def __init__(self, name):\n",
    "        self.name = name\n",
    "    \n",
    "    def set_category(self, category):\n",
    "        self.category = category\n",
    "\n",
    "\n",
    "class Turtle(Animal):\n",
    "    category = \"reptile\"\n",
    "\n",
    "print(Turtle.category)\n",
    "\n",
    "\n",
    "class Snake(Animal):\n",
    "    category = \"reptile\""
   ]
  },
  {
   "cell_type": "code",
   "execution_count": 20,
   "id": "massive-fusion",
   "metadata": {},
   "outputs": [
    {
     "name": "stdout",
     "output_type": "stream",
     "text": [
      "2\n"
     ]
    }
   ],
   "source": [
    "class Zoo:\n",
    "    def __init__(self):\n",
    "        self.current_animals = {}\n",
    "    \n",
    "    def add_animal(self, animal):\n",
    "        self.current_animals[animal.name] = animal.category\n",
    "    \n",
    "    def total_of_category(self, category):\n",
    "        result = 0\n",
    "        for animal in self.current_animals.values():\n",
    "            if animal == category:\n",
    "                result += 1\n",
    "        return result\n",
    "\n",
    "zoo = Zoo()\n",
    "\n",
    "turtle = Turtle(\"Turtle\") #create an instance of the Turtle class\n",
    "snake = Snake(\"Snake\") #create an instance of the Snake class\n",
    "\n",
    "zoo.add_animal(turtle)\n",
    "zoo.add_animal(snake)\n",
    "\n",
    "print(zoo.total_of_category(\"reptile\")) #how many zoo animal types in the reptile category"
   ]
  },
  {
   "cell_type": "markdown",
   "id": "super-workplace",
   "metadata": {},
   "source": [
    "# Hands-on practice"
   ]
  },
  {
   "cell_type": "code",
   "execution_count": 21,
   "id": "moving-samba",
   "metadata": {},
   "outputs": [
    {
     "name": "stdout",
     "output_type": "stream",
     "text": [
      "1\n",
      "0\n",
      "10\n",
      "9\n",
      "1\n",
      "Current floor: 5\n"
     ]
    }
   ],
   "source": [
    "class Elevator:\n",
    "    def __init__(self, bottom, top, current):\n",
    "        \"\"\"Initializes the Elevator instance.\"\"\"\n",
    "        self.bottom = bottom\n",
    "        self.top = top\n",
    "        self.current = current\n",
    "    def up(self):\n",
    "        \"\"\"Makes the elevator go up one floor.\"\"\"\n",
    "        if self.current < 10:\n",
    "            self.current += 1\n",
    "    def down(self):\n",
    "        \"\"\"Makes the elevator go down one floor.\"\"\"\n",
    "        if self.current > 0:\n",
    "            self.current -= 1\n",
    "    def go_to(self, floor):\n",
    "        \"\"\"Makes the elevator go to the specific floor.\"\"\"\n",
    "        self.current = floor\n",
    "        \n",
    "    def __str__(self):\n",
    "        return \"Current floor: {}\".format(self.current)\n",
    "\n",
    "    \n",
    "elevator = Elevator(-1, 10, 0)\n",
    "\n",
    "\n",
    "elevator.up() \n",
    "print(elevator.current)               #should output 1\n",
    "\n",
    "elevator.down() \n",
    "print(elevator.current)               #should output 0\n",
    "\n",
    "elevator.go_to(10) \n",
    "print(elevator.current)               #should output 10\n",
    "\n",
    "# Go to the top floor. Try to go up, it should stay. Then go down.\n",
    "elevator.go_to(10)\n",
    "elevator.up()\n",
    "elevator.down()\n",
    "print(elevator.current)               # should be 9\n",
    "\n",
    "# Go to the bottom floor. Try to go down, it should stay. Then go up.\n",
    "elevator.go_to(-1)\n",
    "elevator.down()\n",
    "elevator.down()\n",
    "elevator.up()\n",
    "elevator.up()\n",
    "print(elevator.current)               # should be 1\n",
    "\n",
    "elevator.go_to(5)\n",
    "print(elevator)                       # should be Current floor: 5"
   ]
  },
  {
   "cell_type": "markdown",
   "id": "following-gambling",
   "metadata": {},
   "source": [
    "> Creating new instances of class objects can be a great way to keep track of values using attributes associated with the object. The values of these attributes can be easily changed at the object level.  The following code illustrates a famous quote by George Bernard Shaw, using objects to represent people. Complete below code to make the code satisfy the behavior described in the quote."
   ]
  },
  {
   "cell_type": "code",
   "execution_count": 22,
   "id": "executive-break",
   "metadata": {},
   "outputs": [
    {
     "name": "stdout",
     "output_type": "stream",
     "text": [
      "Johanna has 2 apples and Martin has 1 apples\n",
      "Johanna has 2 ideas and Martin has 2 ideas\n"
     ]
    }
   ],
   "source": [
    "# “If you have an apple and I have an apple and we exchange these apples then\n",
    "# you and I will still each have one apple. But if you have an idea and I have\n",
    "# an idea and we exchange these ideas, then each of us will have two ideas.”\n",
    "# George Bernard Shaw\n",
    "\n",
    "class Person:\n",
    "    apples = 0\n",
    "    ideas = 0\n",
    "\n",
    "johanna = Person()\n",
    "johanna.apples = 1\n",
    "johanna.ideas = 1\n",
    "\n",
    "martin = Person()\n",
    "martin.apples = 2\n",
    "martin.ideas = 1\n",
    "\n",
    "def exchange_apples(you, me):\n",
    "#Here, despite G.B. Shaw's quote, our characters have started with\n",
    "#different amounts of apples so we can better observe the results. \n",
    "#We're going to have Martin and Johanna exchange ALL their apples with #one another.\n",
    "#Hint: how would you switch values of variables, \n",
    "#so that \"you\" and \"me\" will exchange ALL their apples with one another?\n",
    "#Do you need a temporary variable to store one of the values?\n",
    "#You may need more than one line of code to do that, which is OK. \n",
    "    temp = you.apples\n",
    "    you.apples = me.apples\n",
    "    me.apples = temp\n",
    "    return you.apples, me.apples\n",
    "    \n",
    "def exchange_ideas(you, me):\n",
    "    #\"you\" and \"me\" will share our ideas with one another.\n",
    "    #What operations need to be performed, so that each object receives\n",
    "    #the shared number of ideas?\n",
    "    #Hint: how would you assign the total number of ideas to \n",
    "    #each idea attribute? Do you need a temporary variable to store \n",
    "    #the sum of ideas, or can you find another way? \n",
    "    #Use as many lines of code as you need here.\n",
    "    you.ideas = me.ideas + you.ideas\n",
    "    me.ideas = you.ideas\n",
    "    return you.ideas, me.ideas\n",
    "\n",
    "exchange_apples(johanna, martin)\n",
    "print(\"Johanna has {} apples and Martin has {} apples\".format(johanna.apples, martin.apples))\n",
    "exchange_ideas(johanna, martin)\n",
    "print(\"Johanna has {} ideas and Martin has {} ideas\".format(johanna.ideas, martin.ideas))"
   ]
  },
  {
   "cell_type": "markdown",
   "id": "former-container",
   "metadata": {},
   "source": [
    "> The City class has the following attributes: name, country (where the city is located), elevation (measured in meters), and population (approximate, according to recent statistics). Complete the following of the max_elevation_city function to return the name of the city and its country (separated by a comma), when comparing the 3 defined instances for a specified minimal population.\n",
    "> - For example, calling the function for a minimum population of 1 million: max_elevation_city(1000000) should return \"Sofia, Bulgaria\"."
   ]
  },
  {
   "cell_type": "code",
   "execution_count": 23,
   "id": "lonely-fusion",
   "metadata": {},
   "outputs": [
    {
     "name": "stdout",
     "output_type": "stream",
     "text": [
      "Cusco, Peru\n",
      "Sofia, Bulgaria\n",
      "\n"
     ]
    }
   ],
   "source": [
    "# define a basic city class\n",
    "class City:\n",
    "    name = \"\"\n",
    "    country = \"\"\n",
    "    elevation = 0\n",
    "    population = 0\n",
    "\n",
    "# create a new instance of the City class and\n",
    "# define each attribute\n",
    "city1 = City()\n",
    "city1.name = \"Cusco\"\n",
    "city1.country = \"Peru\"\n",
    "city1.elevation = 3399\n",
    "city1.population = 358052\n",
    "\n",
    "# create a new instance of the City class and\n",
    "# define each attribute\n",
    "city2 = City()\n",
    "city2.name = \"Sofia\"\n",
    "city2.country = \"Bulgaria\"\n",
    "city2.elevation = 2290\n",
    "city2.population = 1241675\n",
    "\n",
    "# create a new instance of the City class and\n",
    "# define each attribute\n",
    "city3 = City()\n",
    "city3.name = \"Seoul\"\n",
    "city3.country = \"South Korea\"\n",
    "city3.elevation = 38\n",
    "city3.population = 9733509\n",
    "\n",
    "def max_elevation_city(min_population):\n",
    "# Initialize the variable that will hold \n",
    "# the information of the city with \n",
    "# the highest elevation \n",
    "    return_city = City()\n",
    "\n",
    "# Evaluate the 1st instance to meet the requirements:\n",
    "# does city #1 have at least min_population and\n",
    "# is its elevation the highest evaluated so far?\n",
    "    if city1.population >= min_population and city1.elevation > return_city.elevation:\n",
    "        return_city = city1\n",
    "# Evaluate the 2nd instance to meet the requirements:\n",
    "# does city #2 have at least min_population and\n",
    "# is its elevation the highest evaluated so far?\n",
    "    if city2.population >= min_population and city2.elevation > return_city.elevation:\n",
    "        return_city = city2\n",
    "# Evaluate the 3rd instance to meet the requirements:\n",
    "# does city #3 have at least min_population and\n",
    "# is its elevation the highest evaluated so far?\n",
    "    if city3.population >= min_population and city3.elevation > return_city.elevation:\n",
    "        return_city = city3\n",
    "\n",
    "#Format the return string\n",
    "    if return_city.name:\n",
    "        return (\"{}, {}\" .format(return_city.name, return_city.country))\n",
    "    else:\n",
    "        return \"\"\n",
    "\n",
    "print(max_elevation_city(100000)) # Should print \"Cusco, Peru\"\n",
    "print(max_elevation_city(1000000)) # Should print \"Sofia, Bulgaria\"\n",
    "print(max_elevation_city(10000000)) # Should print \"\""
   ]
  },
  {
   "cell_type": "markdown",
   "id": "dried-advice",
   "metadata": {},
   "source": [
    "> Having two pieces of furniture: a brown wood table and a red leather couch. The following the creation of each Furniture class instance, so that the describe_furniture function can format a sentence that describes these pieces as follows: \"This piece of furniture is made of {color} {material}\""
   ]
  },
  {
   "cell_type": "code",
   "execution_count": 24,
   "id": "editorial-bathroom",
   "metadata": {},
   "outputs": [
    {
     "name": "stdout",
     "output_type": "stream",
     "text": [
      "This piece of furniture is made of brown wood\n",
      "This piece of furniture is made of red leather\n"
     ]
    }
   ],
   "source": [
    "class Furniture:\n",
    "    color = \"\"\n",
    "    material = \"\"\n",
    "\n",
    "table = Furniture()\n",
    "table.color = \"brown\"\n",
    "table.material = \"wood\"\n",
    "\n",
    "couch = Furniture()\n",
    "couch.color = \"red\"\n",
    "couch.material = \"leather\"\n",
    "\n",
    "def describe_furniture(piece):\n",
    "    return (\"This piece of furniture is made of {} {}\".format(piece.color, piece.material))\n",
    "\n",
    "print(describe_furniture(table)) \n",
    "# Should be \"This piece of furniture is made of brown wood\"\n",
    "print(describe_furniture(couch)) \n",
    "# Should be \"This piece of furniture is made of red leather\""
   ]
  },
  {
   "cell_type": "code",
   "execution_count": null,
   "id": "abandoned-treatment",
   "metadata": {},
   "outputs": [],
   "source": []
  }
 ],
 "metadata": {
  "kernelspec": {
   "display_name": "Python 3",
   "language": "python",
   "name": "python3"
  },
  "language_info": {
   "codemirror_mode": {
    "name": "ipython",
    "version": 3
   },
   "file_extension": ".py",
   "mimetype": "text/x-python",
   "name": "python",
   "nbconvert_exporter": "python",
   "pygments_lexer": "ipython3",
   "version": "3.9.1"
  }
 },
 "nbformat": 4,
 "nbformat_minor": 5
}
