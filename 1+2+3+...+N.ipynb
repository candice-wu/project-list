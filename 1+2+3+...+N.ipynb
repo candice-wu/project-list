{
 "cells": [
  {
   "cell_type": "markdown",
   "metadata": {},
   "source": [
    "# For Loop"
   ]
  },
  {
   "cell_type": "code",
   "execution_count": 1,
   "metadata": {},
   "outputs": [
    {
     "name": "stdout",
     "output_type": "stream",
     "text": [
      "請輸入一個正整數的起始值：1\n",
      "請輸入一個正整數的終止值：10\n",
      "1 到 10 整數和：55\n"
     ]
    }
   ],
   "source": [
    "Start = int(input(\"請輸入一個正整數的起始值：\"))\n",
    "End = int(input(\"請輸入一個正整數的終止值：\"))\n",
    "Sum = 0                                                # Sum初始值設為 0\n",
    "\n",
    "for Num in range(Start, End+1, 1):                     # 間隔值為 1\n",
    "    Sum += Num\n",
    "print(\"%d 到 %d 整數和：%d\" %(Start, End, Sum))          #利用 % 參數格式化列印"
   ]
  },
  {
   "cell_type": "code",
   "execution_count": 2,
   "metadata": {},
   "outputs": [
    {
     "name": "stdout",
     "output_type": "stream",
     "text": [
      "請輸入一個正整數的起始值：1\n",
      "請輸入一個正整數的終止值：10\n",
      "1 到 10 整數和：55\n"
     ]
    }
   ],
   "source": [
    "Start = int(input(\"請輸入一個正整數的起始值：\"))\n",
    "End = int(input(\"請輸入一個正整數的終止值：\"))\n",
    "Sum = 0                                                # Sum初始值設為 0\n",
    "\n",
    "for Num in range(Start, End+1, 1):                     # 間隔值為 1\n",
    "    Sum += Num\n",
    "print(\"{} 到 {} 整數和：{}\" .format(Start, End, Sum))    #利用 format() 參數格式化列印"
   ]
  },
  {
   "cell_type": "markdown",
   "metadata": {},
   "source": [
    "# While Loop"
   ]
  },
  {
   "cell_type": "code",
   "execution_count": 3,
   "metadata": {},
   "outputs": [
    {
     "name": "stdout",
     "output_type": "stream",
     "text": [
      "請輸入一個正整數的起始值：1\n",
      "請輸入一個正整數的終止值：10\n",
      "1 到 10 整數和：55\n"
     ]
    }
   ],
   "source": [
    "Start = int(input(\"請輸入一個正整數的起始值：\"))\n",
    "Initial = Start                                           # 記錄初始值並指給 Initial儲存\n",
    "End = int(input(\"請輸入一個正整數的終止值：\"))\n",
    "Sum = 0                                                   # Sum初始值設為 0\n",
    "\n",
    "while (Start <= End):\n",
    "    Sum += Start\n",
    "    Start += 1\n",
    "print(\"%d 到 %d 整數和：%d\" %(Initial, End, Sum))          #利用 % 參數格式化列印"
   ]
  },
  {
   "cell_type": "code",
   "execution_count": 4,
   "metadata": {},
   "outputs": [
    {
     "name": "stdout",
     "output_type": "stream",
     "text": [
      "請輸入一個正整數的起始值：1\n",
      "請輸入一個正整數的終止值：10\n",
      "1 到 10 整數和：55\n"
     ]
    }
   ],
   "source": [
    "Start = int(input(\"請輸入一個正整數的起始值：\"))\n",
    "Initial = Start                                           # 記錄初始值並指給 Initial儲存\n",
    "End = int(input(\"請輸入一個正整數的終止值：\"))\n",
    "Sum = 0                                                   # Sum初始值設為 0\n",
    "\n",
    "while (Start <= End):\n",
    "    Sum += Start\n",
    "    Start += 1\n",
    "print(\"{} 到 {} 整數和：{}\" .format(Initial, End, Sum))     #利用 format() 參數格式化列印"
   ]
  },
  {
   "cell_type": "code",
   "execution_count": null,
   "metadata": {},
   "outputs": [],
   "source": []
  }
 ],
 "metadata": {
  "kernelspec": {
   "display_name": "Python 3",
   "language": "python",
   "name": "python3"
  },
  "language_info": {
   "codemirror_mode": {
    "name": "ipython",
    "version": 3
   },
   "file_extension": ".py",
   "mimetype": "text/x-python",
   "name": "python",
   "nbconvert_exporter": "python",
   "pygments_lexer": "ipython3",
   "version": "3.9.1"
  }
 },
 "nbformat": 4,
 "nbformat_minor": 4
}
