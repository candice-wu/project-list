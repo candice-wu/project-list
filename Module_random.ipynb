{
 "cells": [
  {
   "cell_type": "markdown",
   "metadata": {},
   "source": [
    "# randint() 函式\n",
    "- **擲骰子遊戲**"
   ]
  },
  {
   "cell_type": "code",
   "execution_count": 1,
   "metadata": {},
   "outputs": [
    {
     "name": "stdout",
     "output_type": "stream",
     "text": [
      "按任意鍵再按[ENTER]鍵擲骰子，直接按[ENTER]鍵則結束：a\n",
      "擲出的骰子點數為： 6\n",
      "按任意鍵再按[ENTER]鍵擲骰子，直接按[ENTER]鍵則結束：b\n",
      "擲出的骰子點數為： 3\n",
      "按任意鍵再按[ENTER]鍵擲骰子，直接按[ENTER]鍵則結束：c\n",
      "擲出的骰子點數為： 4\n",
      "按任意鍵再按[ENTER]鍵擲骰子，直接按[ENTER]鍵則結束：e\n",
      "擲出的骰子點數為： 3\n",
      "按任意鍵再按[ENTER]鍵擲骰子，直接按[ENTER]鍵則結束：f\n",
      "擲出的骰子點數為： 3\n",
      "按任意鍵再按[ENTER]鍵擲骰子，直接按[ENTER]鍵則結束：g\n",
      "擲出的骰子點數為： 2\n",
      "按任意鍵再按[ENTER]鍵擲骰子，直接按[ENTER]鍵則結束：h\n",
      "擲出的骰子點數為： 5\n",
      "按任意鍵再按[ENTER]鍵擲骰子，直接按[ENTER]鍵則結束：i\n",
      "擲出的骰子點數為： 3\n",
      "按任意鍵再按[ENTER]鍵擲骰子，直接按[ENTER]鍵則結束：j\n",
      "擲出的骰子點數為： 5\n",
      "按任意鍵再按[ENTER]鍵擲骰子，直接按[ENTER]鍵則結束：k\n",
      "擲出的骰子點數為： 3\n",
      "按任意鍵再按[ENTER]鍵擲骰子，直接按[ENTER]鍵則結束：l\n",
      "擲出的骰子點數為： 4\n",
      "按任意鍵再按[ENTER]鍵擲骰子，直接按[ENTER]鍵則結束：m\n",
      "擲出的骰子點數為： 1\n",
      "按任意鍵再按[ENTER]鍵擲骰子，直接按[ENTER]鍵則結束：n\n",
      "擲出的骰子點數為： 1\n",
      "按任意鍵再按[ENTER]鍵擲骰子，直接按[ENTER]鍵則結束：o\n",
      "擲出的骰子點數為： 4\n",
      "按任意鍵再按[ENTER]鍵擲骰子，直接按[ENTER]鍵則結束：a\n",
      "擲出的骰子點數為： 2\n",
      "按任意鍵再按[ENTER]鍵擲骰子，直接按[ENTER]鍵則結束：\n",
      "擲骰子遊戲結束！\n"
     ]
    }
   ],
   "source": [
    "import random as r                                                       # 匯入 import 模組，且別名為 r\n",
    "\n",
    "while True:                                                              # 使用無窮迴圈 (loop forever)\n",
    "    inkey = input(\"按任意鍵再按[ENTER]鍵擲骰子，直接按[ENTER]鍵則結束：\")\n",
    "    if (len(inkey) > 0):\n",
    "        num = r.randint(1, 6)                                            # 在 1(含)～6(含) 之間取得一個整數亂數\n",
    "        print(\"擲出的骰子點數為：\", str(num))                               # 先將亂數取出的整數值轉成字串，再列印\n",
    "    else:\n",
    "        print(\"擲骰子遊戲結束！\")\n",
    "        break                                                            # 利用 break 強制跳出無窮迴圈"
   ]
  },
  {
   "cell_type": "markdown",
   "metadata": {},
   "source": [
    "# choice() 函式\n",
    "- **擲銅板遊戲**\n",
    ">寫法一："
   ]
  },
  {
   "cell_type": "code",
   "execution_count": 2,
   "metadata": {},
   "outputs": [
    {
     "name": "stdout",
     "output_type": "stream",
     "text": [
      "按任意鍵再按[ENTER]鍵擲銅板，直接按[ENTER]鍵則結束：t\n",
      "擲出的銅板結果為：back\n",
      "按任意鍵再按[ENTER]鍵擲銅板，直接按[ENTER]鍵則結束：o\n",
      "擲出的銅板結果為：back\n",
      "按任意鍵再按[ENTER]鍵擲銅板，直接按[ENTER]鍵則結束：y\n",
      "擲出的銅板結果為：back\n",
      "按任意鍵再按[ENTER]鍵擲銅板，直接按[ENTER]鍵則結束：p\n",
      "擲出的銅板結果為：front\n",
      "按任意鍵再按[ENTER]鍵擲銅板，直接按[ENTER]鍵則結束：q\n",
      "擲出的銅板結果為：back\n",
      "按任意鍵再按[ENTER]鍵擲銅板，直接按[ENTER]鍵則結束：\n",
      "擲銅板遊戲結束！\n"
     ]
    }
   ],
   "source": [
    "import random as r                                                       # 匯入 import 模組，且別名為 r\n",
    "\n",
    "while True:\n",
    "    inkey = input(\"按任意鍵再按[ENTER]鍵擲銅板，直接按[ENTER]鍵則結束：\")\n",
    "    if (len(inkey) > 0):\n",
    "        result = r.choice([\"front\", \"back\"])                             # choice() 可從字串或串列中，取出一個字元或元素\n",
    "        print(\"擲出的銅板結果為：%s\" %(result))                             # 利用參數格式化 %s，列印字串\n",
    "    else:\n",
    "        print(\"擲銅板遊戲結束！\")\n",
    "        break"
   ]
  },
  {
   "cell_type": "markdown",
   "metadata": {},
   "source": [
    "# choice() 函式\n",
    "- **擲銅板遊戲**\n",
    ">寫法二："
   ]
  },
  {
   "cell_type": "code",
   "execution_count": 3,
   "metadata": {},
   "outputs": [
    {
     "name": "stdout",
     "output_type": "stream",
     "text": [
      "按任意鍵再按[ENTER]鍵擲銅板，直接按[ENTER]鍵則結束：t\n",
      "擲出的銅板結果為：back\n",
      "按任意鍵再按[ENTER]鍵擲銅板，直接按[ENTER]鍵則結束：u\n",
      "擲出的銅板結果為：front\n",
      "按任意鍵再按[ENTER]鍵擲銅板，直接按[ENTER]鍵則結束：\n",
      "擲銅板遊戲結束！\n"
     ]
    }
   ],
   "source": [
    "import random as r                                                       # 匯入 import 模組，且別名為 r\n",
    "\n",
    "coin = [\"front\", \"back\"]                                                 # 宣告串列變數 coin\n",
    "\n",
    "while True:\n",
    "    inkey = input(\"按任意鍵再按[ENTER]鍵擲銅板，直接按[ENTER]鍵則結束：\")\n",
    "    if (len(inkey) > 0):\n",
    "        result = r.choice(coin)\n",
    "        print(\"擲出的銅板結果為：%s\" %(result))                             # 利用參數格式化 %s，列印字串\n",
    "    else:\n",
    "        print(\"擲銅板遊戲結束！\")\n",
    "        break"
   ]
  },
  {
   "cell_type": "markdown",
   "metadata": {},
   "source": [
    "# sample() 函式\n",
    "- **猜大樂透號碼**"
   ]
  },
  {
   "cell_type": "code",
   "execution_count": 9,
   "metadata": {},
   "outputs": [
    {
     "name": "stdout",
     "output_type": "stream",
     "text": [
      "本期大樂透中獎號碼為： 10, 17, 21, 29, 38, 49\n",
      "本期大樂透特別號碼為： 27\n"
     ]
    }
   ],
   "source": [
    "import random                                # 匯入 import 模組，但不額外命名\n",
    "\n",
    "lottery = random.sample(range(1, 50), 7)     # 利用 sample() 自 range(1, 50(不含)) 隨機取出7個亂數，並寫入lottery裡\n",
    "special = lottery.pop()                      # 自lottery 取出最後一個參數值，當作特別號碼\n",
    "\n",
    "lottery.sort()                               # 將中獎號碼由小至大排序\n",
    "\n",
    "print(\"本期大樂透中獎號碼為：\", end = \" \")\n",
    "for i in range(6):                           # range 範圍 = 0~5，共6次\n",
    "    if i == 5:\n",
    "        print(str(lottery[i]))               # 當執行到第6次，就在列印後換行\n",
    "    else:\n",
    "        print(str(lottery[i]), end = \", \")   # 尚未執行到第6次，則以逗號分隔中獎號碼\n",
    "\n",
    "print(\"本期大樂透特別號碼為：\", str(special))    # 列印特別號碼\n"
   ]
  },
  {
   "cell_type": "code",
   "execution_count": null,
   "metadata": {},
   "outputs": [],
   "source": []
  }
 ],
 "metadata": {
  "kernelspec": {
   "display_name": "Python 3",
   "language": "python",
   "name": "python3"
  },
  "language_info": {
   "codemirror_mode": {
    "name": "ipython",
    "version": 3
   },
   "file_extension": ".py",
   "mimetype": "text/x-python",
   "name": "python",
   "nbconvert_exporter": "python",
   "pygments_lexer": "ipython3",
   "version": "3.9.1"
  }
 },
 "nbformat": 4,
 "nbformat_minor": 4
}
