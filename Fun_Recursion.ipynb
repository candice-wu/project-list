{
 "cells": [
  {
   "cell_type": "markdown",
   "id": "equipped-interface",
   "metadata": {},
   "source": [
    "# Factorial 階層"
   ]
  },
  {
   "cell_type": "code",
   "execution_count": 1,
   "id": "framed-patrick",
   "metadata": {},
   "outputs": [
    {
     "name": "stdout",
     "output_type": "stream",
     "text": [
      "120\n"
     ]
    }
   ],
   "source": [
    "def factorial(n):                                          # 定義 factorial函數\n",
    "    if n < 2:                                              # 設定條件式當作 Base Case\n",
    "        return 1\n",
    "    \n",
    "    return (n * factorial(n-1))                            # 回傳 Recursive Case\n",
    "\n",
    "print(factorial(5))                                        # Should be 120"
   ]
  },
  {
   "cell_type": "code",
   "execution_count": 2,
   "id": "female-penny",
   "metadata": {},
   "outputs": [
    {
     "name": "stdout",
     "output_type": "stream",
     "text": [
      "Factorial called with: 5\n",
      "Factorial called with: 4\n",
      "Factorial called with: 3\n",
      "Factorial called with: 2\n",
      "Factorial called with: 1\n",
      "Returning 1\n",
      "120\n"
     ]
    }
   ],
   "source": [
    "def factorial(n):                                          # 定義 factorial函數\n",
    "    print(\"Factorial called with: \" + str(n))              # 印出當下的 n值\n",
    "    \n",
    "    if n < 2:                                              # 設定條件式當作 Base Case\n",
    "        print(\"Returning 1\")\n",
    "        return 1\n",
    "    \n",
    "    result = n * factorial(n-1)                            # Recursive Case\n",
    "    return result\n",
    "\n",
    "print(factorial(5))                                        # Should be 120"
   ]
  },
  {
   "cell_type": "code",
   "execution_count": 3,
   "id": "small-casino",
   "metadata": {},
   "outputs": [
    {
     "name": "stdout",
     "output_type": "stream",
     "text": [
      "請輸入階層數：6\n",
      "6! = 720\n"
     ]
    }
   ],
   "source": [
    "def factorial(n):                                          # 定義 factorial函數\n",
    "    if n < 2:                                              # 設定條件式當作 Base Case\n",
    "        return 1\n",
    "    \n",
    "    return (n * factorial(n-1))                            # 回傳 Recursive Case\n",
    "\n",
    "input_v = int(input(\"請輸入階層數：\"))                       # 由手動輸入值指派給 factorial參數值\n",
    "print(\"{}! = {}\" .format(input_v, factorial(input_v)))     # 利用 format() 參數格式化列印"
   ]
  },
  {
   "cell_type": "markdown",
   "id": "proper-compound",
   "metadata": {},
   "source": [
    "# Accumulate 累加\n",
    "> The function sum_positive_numbers should return the sum of all positive numbers between the number n received and 1.\n",
    "> - For example, when n is 3 it should return 1+2+3=6, and when n is 5 it should return 1+2+3+4+5=15. "
   ]
  },
  {
   "cell_type": "code",
   "execution_count": 4,
   "id": "respected-evaluation",
   "metadata": {},
   "outputs": [
    {
     "name": "stdout",
     "output_type": "stream",
     "text": [
      "6\n",
      "15\n"
     ]
    }
   ],
   "source": [
    "def sum_positive_numbers(n):                              # 定義 sum_positive_numbers函數\n",
    "    if n < 1:                                             # The base case is n being smaller than 1\n",
    "        return 0\n",
    "\n",
    "    # The recursive case is adding this number to the sum of the numbers smaller than this one.\n",
    "    return n + sum_positive_numbers(n-1)\n",
    "\n",
    "print(sum_positive_numbers(3))                            # Should be 6\n",
    "print(sum_positive_numbers(5))                            # Should be 15"
   ]
  },
  {
   "cell_type": "code",
   "execution_count": null,
   "id": "constant-lotus",
   "metadata": {},
   "outputs": [],
   "source": []
  }
 ],
 "metadata": {
  "kernelspec": {
   "display_name": "Python 3",
   "language": "python",
   "name": "python3"
  },
  "language_info": {
   "codemirror_mode": {
    "name": "ipython",
    "version": 3
   },
   "file_extension": ".py",
   "mimetype": "text/x-python",
   "name": "python",
   "nbconvert_exporter": "python",
   "pygments_lexer": "ipython3",
   "version": "3.9.1"
  }
 },
 "nbformat": 4,
 "nbformat_minor": 5
}
