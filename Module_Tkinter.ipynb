{
 "cells": [
  {
   "cell_type": "markdown",
   "id": "flying-example",
   "metadata": {},
   "source": [
    "# 建立空視窗"
   ]
  },
  {
   "cell_type": "code",
   "execution_count": 1,
   "id": "neutral-nitrogen",
   "metadata": {},
   "outputs": [],
   "source": [
    "import tkinter as tk        # 導入tkinter模組且別名為 tk\n",
    "\n",
    "win = tk.Tk()               # 建立主視窗名稱為 win\n",
    "win.geometry(\"450x100\")     # 設定主視窗尺寸\n",
    "win.title(\"這是主視窗\")       # 設定主視窗標題，若未設定則系統預設＝tk\n",
    "win.mainloop()              # 讓程式進入與使用者互動模式，等待使用者觸發事件後進行處理"
   ]
  },
  {
   "cell_type": "markdown",
   "id": "cosmetic-fantasy",
   "metadata": {},
   "source": [
    "# 建立標籤元件\n",
    "> **目的：顯示一段文字**"
   ]
  },
  {
   "cell_type": "code",
   "execution_count": 2,
   "id": "pregnant-escape",
   "metadata": {},
   "outputs": [],
   "source": [
    "import tkinter as tk                         # 導入tkinter模組且別名為 tk\n",
    "\n",
    "main = tk.Tk()                               # 建立主視窗名稱為 main\n",
    "main.geometry(\"450x150\")                     # 設定主視窗尺寸\n",
    "main.title(\"Main\")                           # 設定主視窗標題，若未設定則系統預設＝tk\n",
    "\n",
    "label = tk.Label(main,\n",
    "                 width = 10,                 # 設定標籤元件寬度\n",
    "                 height = 5,                 # 設定標籤元件高度\n",
    "                 text = \"這是標籤元件\",        # 設定標籤元件的文字內容\n",
    "                 foreground = \"red\",         # 設定標籤元件的文字顏色\n",
    "                 background = \"yellow\",      # 設定標籤元件的背景顏色\n",
    "                 font = (\"新細明體\", 12),     # 設定標籤元件的文字字體與字型大小\n",
    "                 padx = 20,                  # 設定標籤元件與視窗的水平間距\n",
    "                 pady = 20)                  # 設定標籤元件與視窗的垂直間距\n",
    "\n",
    "label.pack()                                 # 將標籤元件視為矩形物件顯示\n",
    "main.mainloop()                              # 讓程式進入與使用者互動模式，等待使用者觸發事件後進行處理"
   ]
  },
  {
   "cell_type": "markdown",
   "id": "iraqi-power",
   "metadata": {},
   "source": [
    "# 建立按鈕元件\n",
    "> **目的：觸發click事件**"
   ]
  },
  {
   "cell_type": "code",
   "execution_count": 4,
   "id": "offshore-washington",
   "metadata": {},
   "outputs": [],
   "source": [
    "def clickme():                         # 建立函數 clickme\n",
    "    global count\n",
    "    count += 1\n",
    "    labeltext.set(\"您按我{}次了！\" .format(count))\n",
    "    \n",
    "    if (btntext.get() == \"按我！\"):\n",
    "        btntext.set(\"回復原文字！\")\n",
    "    else:\n",
    "        btntext.set(\"按我！\")\n",
    "\n",
    "\n",
    "\n",
    "import tkinter as tk\n",
    "\n",
    "win = tk.Tk()                          # 建立主視窗名稱為 win\n",
    "win.geometry(\"450x100\")                # 設定主視窗尺寸\n",
    "win.title(\"主視窗\")                     # 設定主視窗標題，若未設定則系統預設＝tk\n",
    "labeltext = tk.StringVar()             # 建立文字型態的標籤文字變數\n",
    "btntext = tk.StringVar()               # 建立文字型態的按鈕文字變數\n",
    "\n",
    "count = 0                              # 建立計數變數且預設值＝0\n",
    "\n",
    "label = tk.Label(win, fg = \"red\", bg = \"yellow\", textvariable = labeltext)  # 建立標籤元件label且設定文字型態的標籤文字變數labeltext\n",
    "labeltext.set(\"歡迎光臨Tkinter！\")       # 設定標籤元件的文字內容，初始值＝歡迎光臨Tkinter！\n",
    "label.pack()                           # 將標籤元件視為矩形物件顯示\n",
    "\n",
    "button = tk.Button(win, textvariable = btntext, command = clickme)  # 建立按鈕元件Button且設定文字型態的標籤文字變數btntext\n",
    "btntext.set(\"按我！\")                   # 設定按鈕元件的文字內容，初始值＝按我！\n",
    "button.pack()                          # 將按鈕元件視為矩形物件顯示\n",
    "\n",
    "win.mainloop()                         # 讓程式進入與使用者互動模式，等待使用者觸發事件後進行處理"
   ]
  },
  {
   "cell_type": "code",
   "execution_count": null,
   "id": "crude-threat",
   "metadata": {},
   "outputs": [],
   "source": []
  }
 ],
 "metadata": {
  "kernelspec": {
   "display_name": "Python 3",
   "language": "python",
   "name": "python3"
  },
  "language_info": {
   "codemirror_mode": {
    "name": "ipython",
    "version": 3
   },
   "file_extension": ".py",
   "mimetype": "text/x-python",
   "name": "python",
   "nbconvert_exporter": "python",
   "pygments_lexer": "ipython3",
   "version": "3.9.1"
  }
 },
 "nbformat": 4,
 "nbformat_minor": 5
}
