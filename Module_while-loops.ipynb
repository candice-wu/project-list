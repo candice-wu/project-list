{
 "cells": [
  {
   "cell_type": "markdown",
   "id": "internal-attack",
   "metadata": {},
   "source": [
    "# Prime factor 質數\n",
    "> Use print_prime_factors function print all the prime factors of a number.\n",
    "> - A prime factor is a number that is prime and divides another without a remainder."
   ]
  },
  {
   "cell_type": "code",
   "execution_count": 1,
   "id": "abstract-aurora",
   "metadata": {},
   "outputs": [
    {
     "name": "stdout",
     "output_type": "stream",
     "text": [
      "2\n",
      "2\n",
      "5\n",
      "5\n"
     ]
    },
    {
     "data": {
      "text/plain": [
       "'Done'"
      ]
     },
     "execution_count": 1,
     "metadata": {},
     "output_type": "execute_result"
    }
   ],
   "source": [
    "def print_prime_factors(number):\n",
    "    factor = 2                             # Start with two, which is the first prime\n",
    "    \n",
    "    while factor <= number:                # Keep going until the factor is larger than the number \n",
    "        if number % factor == 0:           # Check if factor is a divisor of number   \n",
    "            print(factor)                  # If it is, print it and divide the original number\n",
    "            number = number / factor\n",
    "        else:     \n",
    "            factor += 1                    # If it's not, increment the factor by one\n",
    "    return \"Done\"\n",
    "\n",
    "print_prime_factors(100)"
   ]
  },
  {
   "cell_type": "code",
   "execution_count": 2,
   "id": "novel-chicken",
   "metadata": {},
   "outputs": [
    {
     "name": "stdout",
     "output_type": "stream",
     "text": [
      "False\n",
      "True\n",
      "True\n",
      "False\n"
     ]
    }
   ],
   "source": [
    "def is_power_of_two(n):\n",
    "    \n",
    "    # Check n is not equal to 0 to avoid an infinite loop\n",
    "    # Check if the number can be divided by two without a remainder\n",
    "    while (n!=0) and (n % 2 == 0):\n",
    "        n = n / 2\n",
    "    \n",
    "    # If after dividing by two the number is 1, it's a power of two\n",
    "    if n == 1:\n",
    "        return True\n",
    "    return False\n",
    "  \n",
    "\n",
    "print(is_power_of_two(0)) # Should be False\n",
    "print(is_power_of_two(1)) # Should be True\n",
    "print(is_power_of_two(8)) # Should be True\n",
    "print(is_power_of_two(9)) # Should be False"
   ]
  },
  {
   "cell_type": "markdown",
   "id": "exclusive-harvey",
   "metadata": {},
   "source": [
    "# 加總無餘數的除數\n",
    "> Use sum_divisors functions to return the sum of all the divisors of a number, without including it.\n",
    "> - A divisor is a number that divides into another without a remainder."
   ]
  },
  {
   "cell_type": "code",
   "execution_count": 3,
   "id": "exposed-album",
   "metadata": {},
   "outputs": [
    {
     "name": "stdout",
     "output_type": "stream",
     "text": [
      "0\n",
      "1\n",
      "10\n",
      "6\n"
     ]
    }
   ],
   "source": [
    "def sum_divisors(n):\n",
    "    sum = 0\n",
    "    \n",
    "    # Return the sum of all divisors of n, not including n\n",
    "    divisor = 1\n",
    "    \n",
    "    while (n != 0) and (divisor < n) and (n % divisor == 0):\n",
    "        sum += divisor\n",
    "        divisor += 1\n",
    "    \n",
    "    if n == 0:\n",
    "        return 0\n",
    "    \n",
    "    return sum\n",
    "\n",
    "\n",
    "print(sum_divisors(0))\n",
    "# 0\n",
    "print(sum_divisors(3)) # Should sum of 1\n",
    "# 1\n",
    "print(sum_divisors(36)) # Should sum of 1+2+3+4+6+9+12+18\n",
    "# 55\n",
    "print(sum_divisors(102)) # Should be sum of 2+3+6+17+34+51\n",
    "# 114\n"
   ]
  },
  {
   "cell_type": "code",
   "execution_count": 4,
   "id": "jewish-curtis",
   "metadata": {},
   "outputs": [
    {
     "name": "stdout",
     "output_type": "stream",
     "text": [
      "result=  0 \n",
      "\n",
      "result=  1 \n",
      "\n",
      "result=  55 \n",
      "\n",
      "result=  114 \n",
      "\n"
     ]
    }
   ],
   "source": [
    "def sum_divisors(n):\n",
    "    sum =0\n",
    "    divisor =0\n",
    "    \n",
    "    while (n >= divisor):\n",
    "        divisor +=1\n",
    "        \n",
    "        #看現在的devisor數字\n",
    "        #print (divisor)\n",
    "        \n",
    "        if (n % divisor != 0):\n",
    "            continue\n",
    "        \n",
    "        c = int(n/divisor)\n",
    "\n",
    "        if c!=n:\n",
    "            sum += c\n",
    "\n",
    "        #輸出結果, Debug 用\n",
    "        #print (divisor , c, sum ,n )\n",
    " \n",
    "        if n==0:\n",
    "            return 0\n",
    "\n",
    "    return sum\n",
    "    \n",
    "print(\"result= \", sum_divisors(0), \"\\n\")\n",
    "print(\"result= \", sum_divisors(3), \"\\n\")\n",
    "print(\"result= \", sum_divisors(36), \"\\n\")\n",
    "print(\"result= \", sum_divisors(102), \"\\n\")"
   ]
  },
  {
   "cell_type": "markdown",
   "id": "every-revision",
   "metadata": {},
   "source": [
    "# Multiplication Table 九九乘法表\n",
    "> The multiplication_table function prints the results of a number passed to it multiplied by 1 through 5.\n",
    "> - An additional requirement is that the result is not to exceed 25, which is done with the break statement."
   ]
  },
  {
   "cell_type": "code",
   "execution_count": 5,
   "id": "crude-spain",
   "metadata": {},
   "outputs": [
    {
     "name": "stdout",
     "output_type": "stream",
     "text": [
      "3x1=3\n",
      "3x2=6\n",
      "3x3=9\n",
      "3x4=12\n",
      "3x5=15\n",
      "5x1=5\n",
      "5x2=10\n",
      "5x3=15\n",
      "5x4=20\n",
      "5x5=25\n",
      "8x1=8\n",
      "8x2=16\n",
      "8x3=24\n"
     ]
    }
   ],
   "source": [
    "def multiplication_table(number):\n",
    "    # Initialize the starting point of the multiplication table\n",
    "    multiplier = 1\n",
    "    \n",
    "    # Only want to loop through 5\n",
    "    while multiplier <= 5:\n",
    "        result = number * multiplier\n",
    "        \n",
    "        # What is the additional condition to exit out of the loop?\n",
    "        if multiplier > 5 or result > 25:\n",
    "            break\n",
    "        print(str(number) + \"x\" + str(multiplier) + \"=\" + str(result))\n",
    "        \n",
    "        # Increment the variable for the loop\n",
    "        multiplier += 1\n",
    "\n",
    "multiplication_table(3)\n",
    "# Should print: 3x1=3 3x2=6 3x3=9 3x4=12 3x5=15\n",
    "\n",
    "multiplication_table(5) \n",
    "# Should print: 5x1=5 5x2=10 5x3=15 5x4=20 5x5=25\n",
    "\n",
    "multiplication_table(8)\n",
    "# Should print: 8x1=8 8x2=16 8x3=24"
   ]
  },
  {
   "cell_type": "code",
   "execution_count": null,
   "id": "silver-librarian",
   "metadata": {},
   "outputs": [],
   "source": []
  }
 ],
 "metadata": {
  "kernelspec": {
   "display_name": "Python 3",
   "language": "python",
   "name": "python3"
  },
  "language_info": {
   "codemirror_mode": {
    "name": "ipython",
    "version": 3
   },
   "file_extension": ".py",
   "mimetype": "text/x-python",
   "name": "python",
   "nbconvert_exporter": "python",
   "pygments_lexer": "ipython3",
   "version": "3.9.1"
  }
 },
 "nbformat": 4,
 "nbformat_minor": 5
}
