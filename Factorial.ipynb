{
 "cells": [
  {
   "cell_type": "code",
   "execution_count": 1,
   "id": "crucial-radar",
   "metadata": {},
   "outputs": [
    {
     "name": "stdout",
     "output_type": "stream",
     "text": [
      "120\n"
     ]
    }
   ],
   "source": [
    "result = 1                                                 # result 初始值設為 1\n",
    "\n",
    "for i in range(1, 5+1):\n",
    "    result *= i\n",
    "print(result)"
   ]
  },
  {
   "cell_type": "code",
   "execution_count": 2,
   "id": "naval-dream",
   "metadata": {},
   "outputs": [
    {
     "name": "stdout",
     "output_type": "stream",
     "text": [
      "24\n",
      "120\n"
     ]
    }
   ],
   "source": [
    "def factorial(n):                                          # 定義 factorial函數\n",
    "    result = 1                                             # result 初始值設為 1\n",
    "    \n",
    "    for i in range (1, n+1):\n",
    "        result *= i\n",
    "    return result\n",
    "\n",
    "print(factorial(4))                                        # 指定 factorial參數＝4\n",
    "print(factorial(5))                                        # 指定 factorial參數＝5"
   ]
  },
  {
   "cell_type": "code",
   "execution_count": 3,
   "id": "integral-trance",
   "metadata": {},
   "outputs": [
    {
     "name": "stdout",
     "output_type": "stream",
     "text": [
      "請輸入階層數：5\n",
      "5! = 120\n"
     ]
    }
   ],
   "source": [
    "def factorial(n):                                          # 定義 factorial函數\n",
    "    result = 1                                             # result 初始值設為 1\n",
    "    \n",
    "    for i in range(1, n+1):\n",
    "        result *= i\n",
    "    return result\n",
    "\n",
    "input_v = int(input(\"請輸入階層數：\"))                       # 由手動輸入值指派給 factorial參數值\n",
    "print(str(input_v) + \"! = \" + str(factorial(input_v)))"
   ]
  },
  {
   "cell_type": "code",
   "execution_count": 4,
   "id": "timely-guest",
   "metadata": {},
   "outputs": [
    {
     "name": "stdout",
     "output_type": "stream",
     "text": [
      "請輸入階層數：5\n",
      "5! = 120\n"
     ]
    }
   ],
   "source": [
    "def factorial(n):                                          # 定義 factorial函數\n",
    "    result = 1                                             # result 初始值設為 1\n",
    "    \n",
    "    for i in range(1, n+1):\n",
    "        result *= i\n",
    "    return result\n",
    "\n",
    "input_v = int(input(\"請輸入階層數：\"))\n",
    "print(\"%d! = %d\" %(input_v, factorial(input_v)))           # 利用 % 參數格式化列印"
   ]
  },
  {
   "cell_type": "code",
   "execution_count": 5,
   "id": "rental-material",
   "metadata": {},
   "outputs": [
    {
     "name": "stdout",
     "output_type": "stream",
     "text": [
      "請輸入階層數：5\n",
      "5! = 120\n"
     ]
    }
   ],
   "source": [
    "def factorial(n):                                          # 定義 factorial函數\n",
    "    result = 1                                             # result 初始值設為 1\n",
    "    \n",
    "    for i in range(1, n+1):\n",
    "        result *= i\n",
    "    return result\n",
    "\n",
    "input_v = int(input(\"請輸入階層數：\"))\n",
    "print(\"{}! = {}\" .format(input_v, factorial(input_v)))    # 利用 format() 參數格式化列印"
   ]
  },
  {
   "cell_type": "code",
   "execution_count": null,
   "id": "coordinated-lounge",
   "metadata": {},
   "outputs": [],
   "source": []
  }
 ],
 "metadata": {
  "kernelspec": {
   "display_name": "Python 3",
   "language": "python",
   "name": "python3"
  },
  "language_info": {
   "codemirror_mode": {
    "name": "ipython",
    "version": 3
   },
   "file_extension": ".py",
   "mimetype": "text/x-python",
   "name": "python",
   "nbconvert_exporter": "python",
   "pygments_lexer": "ipython3",
   "version": "3.9.1"
  }
 },
 "nbformat": 4,
 "nbformat_minor": 5
}
