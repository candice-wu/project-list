{
 "cells": [
  {
   "cell_type": "markdown",
   "id": "neural-syntax",
   "metadata": {},
   "source": [
    "# For Loops"
   ]
  },
  {
   "cell_type": "code",
   "execution_count": 1,
   "id": "crucial-radar",
   "metadata": {},
   "outputs": [
    {
     "name": "stdout",
     "output_type": "stream",
     "text": [
      "5! = 120\n"
     ]
    }
   ],
   "source": [
    "result = 1                                                 # result 初始值設為 1\n",
    "\n",
    "for i in range(1, 5+1):                                    # 程式直接指定階層數＝5!\n",
    "    result *= i\n",
    "    \n",
    "print(str(i) + \"! = \" + str(result))"
   ]
  },
  {
   "cell_type": "code",
   "execution_count": 2,
   "id": "present-black",
   "metadata": {},
   "outputs": [
    {
     "name": "stdout",
     "output_type": "stream",
     "text": [
      "請輸入階層數：5\n",
      "5! = 120\n"
     ]
    }
   ],
   "source": [
    "result = 1                                                 # result 初始值設為 1\n",
    "i = int(input(\"請輸入階層數：\"))                             # 由手動輸入值指派給 factorial參數值\n",
    "\n",
    "for i in range(1, i+1):\n",
    "    result *= i\n",
    "\n",
    "print(str(i) + \"! = \" + str(result))"
   ]
  },
  {
   "cell_type": "code",
   "execution_count": 3,
   "id": "proved-phase",
   "metadata": {},
   "outputs": [
    {
     "name": "stdout",
     "output_type": "stream",
     "text": [
      "請輸入階層數：0\n",
      "0! = 1\n"
     ]
    }
   ],
   "source": [
    "result = 1                                                 # result 初始值設為 1\n",
    "i = int(input(\"請輸入階層數：\"))                             # 由手動輸入值指派給 factorial參數值\n",
    "\n",
    "for i in range(1, i+1):\n",
    "    result *= i\n",
    "\n",
    "print(\"%d! = %d\" %(i, result))                            # 利用 % 參數格式化列印"
   ]
  },
  {
   "cell_type": "code",
   "execution_count": 4,
   "id": "charged-profile",
   "metadata": {},
   "outputs": [
    {
     "name": "stdout",
     "output_type": "stream",
     "text": [
      "請輸入階層數：1\n",
      "1! = 1\n"
     ]
    }
   ],
   "source": [
    "result = 1                                                 # result 初始值設為 1\n",
    "i = int(input(\"請輸入階層數：\"))                             # 由手動輸入值指派給 factorial參數值\n",
    "\n",
    "for i in range(1, i+1):\n",
    "    result *= i\n",
    "    \n",
    "print(\"{}! = {}\" .format(i, result))                       # 利用 format() 參數格式化列印"
   ]
  },
  {
   "cell_type": "markdown",
   "id": "driven-consistency",
   "metadata": {},
   "source": [
    "# While Loops"
   ]
  },
  {
   "cell_type": "code",
   "execution_count": 5,
   "id": "starting-department",
   "metadata": {},
   "outputs": [
    {
     "name": "stdout",
     "output_type": "stream",
     "text": [
      "5! = 120\n"
     ]
    }
   ],
   "source": [
    "result = 1                                                 # result 初始值設為 1\n",
    "i = 1                                                      # i 初始值設為 1\n",
    "\n",
    "while (i <= 5):                                            # 程式直接指定階層數＝5!\n",
    "    result *= i\n",
    "    i += 1                                                 # 增量值＋1\n",
    "    \n",
    "print(str(i-1) + \"! = \" + str(result))"
   ]
  },
  {
   "cell_type": "code",
   "execution_count": 6,
   "id": "subject-airline",
   "metadata": {},
   "outputs": [
    {
     "name": "stdout",
     "output_type": "stream",
     "text": [
      "請輸入階層數：2\n",
      "2! = 2\n"
     ]
    }
   ],
   "source": [
    "result = 1                                                 # result 初始值設為 1\n",
    "i = 1                                                      # i 初始值設為 1\n",
    "input_v = int(input(\"請輸入階層數：\"))                       # 由手動輸入值指派給 factorial參數值\n",
    "\n",
    "while (i <= input_v):\n",
    "    result *= i\n",
    "    i += 1                                                 # 增量值＋1\n",
    "    \n",
    "print(str(i-1) + \"! = \" + str(result))"
   ]
  },
  {
   "cell_type": "code",
   "execution_count": 7,
   "id": "impaired-richmond",
   "metadata": {},
   "outputs": [
    {
     "name": "stdout",
     "output_type": "stream",
     "text": [
      "請輸入階層數：10\n",
      "10! = 3628800\n"
     ]
    }
   ],
   "source": [
    "result = 1                                                 # result 初始值設為 1\n",
    "i = 1                                                      # i 初始值設為 1\n",
    "input_v = int(input(\"請輸入階層數：\"))                       # 由手動輸入值指派給 factorial參數值\n",
    "\n",
    "while (i <= input_v):\n",
    "    result *= i\n",
    "    i += 1                                                 # 增量值＋1\n",
    "\n",
    "print(\"%d! = %d\" %(input_v, result))                       # 利用 % 參數格式化列印"
   ]
  },
  {
   "cell_type": "code",
   "execution_count": 8,
   "id": "precious-victim",
   "metadata": {},
   "outputs": [
    {
     "name": "stdout",
     "output_type": "stream",
     "text": [
      "請輸入階層數：6\n",
      "6! = 720\n"
     ]
    }
   ],
   "source": [
    "result = 1                                                 # result 初始值設為 1\n",
    "i = 1                                                      # i 初始值設為 1\n",
    "input_v = int(input(\"請輸入階層數：\"))                       # 由手動輸入值指派給 factorial參數值\n",
    "\n",
    "while (i <= input_v):\n",
    "    result *= i\n",
    "    i += 1                                                 # 增量值＋1\n",
    "    \n",
    "print(\"{}! = {}\" .format(input_v, result))                 # 利用 format() 參數格式化列印"
   ]
  },
  {
   "cell_type": "markdown",
   "id": "removable-count",
   "metadata": {},
   "source": [
    "# Functions"
   ]
  },
  {
   "cell_type": "code",
   "execution_count": 9,
   "id": "naval-dream",
   "metadata": {},
   "outputs": [
    {
     "name": "stdout",
     "output_type": "stream",
     "text": [
      "24\n",
      "120\n"
     ]
    }
   ],
   "source": [
    "def factorial(n):                                          # 定義 factorial函數\n",
    "    result = 1                                             # result 初始值設為 1\n",
    "    \n",
    "    for i in range (1, n+1):\n",
    "        result *= i\n",
    "    return result\n",
    "\n",
    "print(factorial(4))                                        # 指定 factorial參數＝4，即直接指定階層數＝4!\n",
    "print(factorial(5))                                        # 指定 factorial參數＝5，即直接指定階層數＝5!"
   ]
  },
  {
   "cell_type": "code",
   "execution_count": 10,
   "id": "integral-trance",
   "metadata": {},
   "outputs": [
    {
     "name": "stdout",
     "output_type": "stream",
     "text": [
      "請輸入階層數：10\n",
      "10! = 3628800\n"
     ]
    }
   ],
   "source": [
    "def factorial(n):                                          # 定義 factorial函數\n",
    "    result = 1                                             # result 初始值設為 1\n",
    "    \n",
    "    for i in range(1, n+1):\n",
    "        result *= i\n",
    "    return result\n",
    "\n",
    "input_v = int(input(\"請輸入階層數：\"))                       # 由手動輸入值指派給 factorial參數值\n",
    "print(str(input_v) + \"! = \" + str(factorial(input_v)))"
   ]
  },
  {
   "cell_type": "code",
   "execution_count": 11,
   "id": "timely-guest",
   "metadata": {},
   "outputs": [
    {
     "name": "stdout",
     "output_type": "stream",
     "text": [
      "請輸入階層數：9\n",
      "9! = 362880\n"
     ]
    }
   ],
   "source": [
    "def factorial(n):                                          # 定義 factorial函數\n",
    "    result = 1                                             # result 初始值設為 1\n",
    "    \n",
    "    for i in range(1, n+1):\n",
    "        result *= i\n",
    "    return result\n",
    "\n",
    "input_v = int(input(\"請輸入階層數：\"))                       # 由手動輸入值指派給 factorial參數值\n",
    "print(\"%d! = %d\" %(input_v, factorial(input_v)))           # 利用 % 參數格式化列印"
   ]
  },
  {
   "cell_type": "code",
   "execution_count": 12,
   "id": "rental-material",
   "metadata": {},
   "outputs": [
    {
     "name": "stdout",
     "output_type": "stream",
     "text": [
      "請輸入階層數：3\n",
      "3! = 6\n"
     ]
    }
   ],
   "source": [
    "def factorial(n):                                          # 定義 factorial函數\n",
    "    result = 1                                             # result 初始值設為 1\n",
    "    \n",
    "    for i in range(1, n+1):\n",
    "        result *= i\n",
    "    return result\n",
    "\n",
    "input_v = int(input(\"請輸入階層數：\"))                       # 由手動輸入值指派給 factorial參數值\n",
    "print(\"{}! = {}\" .format(input_v, factorial(input_v)))     # 利用 format() 參數格式化列印"
   ]
  },
  {
   "cell_type": "code",
   "execution_count": 13,
   "id": "occasional-fault",
   "metadata": {},
   "outputs": [
    {
     "name": "stdout",
     "output_type": "stream",
     "text": [
      "0 1\n",
      "1 1\n",
      "2 2\n",
      "3 6\n",
      "4 24\n",
      "5 120\n",
      "6 720\n",
      "7 5040\n",
      "8 40320\n",
      "9 362880\n"
     ]
    }
   ],
   "source": [
    "def factorial(n):\n",
    "    result = 1\n",
    "    \n",
    "    for x in range(1, n):\n",
    "        result = result * x\n",
    "    return result\n",
    "\n",
    "for n in range(0, 10):\n",
    "    print(n, factorial(n+1))"
   ]
  },
  {
   "cell_type": "markdown",
   "id": "finite-growing",
   "metadata": {},
   "source": [
    "# Recursive Function"
   ]
  },
  {
   "cell_type": "code",
   "execution_count": 14,
   "id": "alternative-peninsula",
   "metadata": {},
   "outputs": [
    {
     "name": "stdout",
     "output_type": "stream",
     "text": [
      "120\n"
     ]
    }
   ],
   "source": [
    "def factorial(n):                                          # 定義 factorial函數\n",
    "    if n < 2:                                              # 設定條件式當作 Base Case\n",
    "        return 1\n",
    "    \n",
    "    return n*factorial(n-1)                                # Recursive Case\n",
    "\n",
    "print(factorial(5))"
   ]
  },
  {
   "cell_type": "code",
   "execution_count": 15,
   "id": "fiscal-pleasure",
   "metadata": {},
   "outputs": [
    {
     "name": "stdout",
     "output_type": "stream",
     "text": [
      "Factorial called with: 5\n",
      "Factorial called with: 4\n",
      "Factorial called with: 3\n",
      "Factorial called with: 2\n",
      "Factorial called with: 1\n",
      "Returning 1\n",
      "120\n"
     ]
    }
   ],
   "source": [
    "def factorial(n):                                          # 定義 factorial函數\n",
    "    print(\"Factorial called with: \" + str(n))              # 印出當下的 n值\n",
    "    \n",
    "    if n < 2:                                              # 設定條件式當作 Base Case\n",
    "        print(\"Returning 1\")\n",
    "        return 1\n",
    "    \n",
    "    result = n * factorial(n-1)                            # Recursive Case\n",
    "    return result\n",
    "\n",
    "print(factorial(5))"
   ]
  },
  {
   "cell_type": "code",
   "execution_count": null,
   "id": "retained-jaguar",
   "metadata": {},
   "outputs": [],
   "source": []
  }
 ],
 "metadata": {
  "kernelspec": {
   "display_name": "Python 3",
   "language": "python",
   "name": "python3"
  },
  "language_info": {
   "codemirror_mode": {
    "name": "ipython",
    "version": 3
   },
   "file_extension": ".py",
   "mimetype": "text/x-python",
   "name": "python",
   "nbconvert_exporter": "python",
   "pygments_lexer": "ipython3",
   "version": "3.9.1"
  }
 },
 "nbformat": 4,
 "nbformat_minor": 5
}
