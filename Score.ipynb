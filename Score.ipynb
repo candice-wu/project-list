{
 "cells": [
  {
   "cell_type": "markdown",
   "metadata": {},
   "source": [
    "### 輸入學生成績，當成績為-1則結束程式，且自動顯示總成績與平均成績"
   ]
  },
  {
   "cell_type": "markdown",
   "metadata": {},
   "source": [
    ">寫法一：While Loop"
   ]
  },
  {
   "cell_type": "code",
   "execution_count": 5,
   "metadata": {},
   "outputs": [
    {
     "name": "stdout",
     "output_type": "stream",
     "text": [
      "請輸入第 1 學生成績：87\n",
      "請輸入第 2 學生成績：92\n",
      "請輸入第 3 學生成績：64\n",
      "請輸入第 4 學生成績：58\n",
      "請輸入第 5 學生成績：-1\n",
      "共有 4 位學生\n",
      "本班總成績：301 分，平均成績：75.25 分\n"
     ]
    }
   ],
   "source": [
    "Total = Student = Score = 0\n",
    "\n",
    "while (Score != -1):                                      # 當成績輸入＝-1，跳出While迴圈\n",
    "    Student += 1                                          # 遞增欲輸入成績的學生數\n",
    "    Total += Score                                        # 不能放在Score程式後，若Score=-1則會列入計算而有錯誤結果\n",
    "    Score = int(input(\"請輸入第 %d 學生成績：\" %(Student)))\n",
    "\n",
    "Avg = Total / (Student - 1)                               # 不計入成績＝-1的那位學生\n",
    "print(\"共有 %d 位學生\" %(Student - 1))\n",
    "print(\"本班總成績：%d 分，平均成績：%5.2f 分\" %(Total, Avg))"
   ]
  },
  {
   "cell_type": "markdown",
   "metadata": {},
   "source": [
    ">寫法二：append() function"
   ]
  },
  {
   "cell_type": "code",
   "execution_count": 7,
   "metadata": {},
   "outputs": [
    {
     "name": "stdout",
     "output_type": "stream",
     "text": [
      "請輸入第 1 位學生成績：87\n",
      "請輸入第 2 位學生成績：92\n",
      "請輸入第 3 位學生成績：64\n",
      "請輸入第 4 位學生成績：58\n",
      "請輸入第 5 位學生成績：-1\n",
      "共有 4 位學生\n",
      "本班總成績：301 分，平均成績：75.25 分\n"
     ]
    }
   ],
   "source": [
    "Score = []                                                          # 建一個空串列\n",
    "Total = Grades = 0\n",
    "\n",
    "while (Grades != -1):                                               # 當成績輸入＝-1，跳出While迴圈\n",
    "    Grades = int(input(\"請輸入第 %d 位學生成績：\" %(len(Score) + 1)))  # 利用len()取得Score串列元素量，再遞增欲輸入成績的學生數\n",
    "    Score.append(Grades)                                            # 利用append()將輸入的成績存入Score串列\n",
    "\n",
    "print(\"共有 %d 位學生\" %(len(Score) - 1))                            # 不計入成績＝-1的那位學生\n",
    "\n",
    "for i in range(0, len(Score) - 1):                                 # 不計入成績＝-1的那位學生\n",
    "    Total += Score[i]\n",
    "\n",
    "Avg = Total / (len(Score) - 1)                                     # 不計入成績＝-1的那位學生\n",
    "print(\"本班總成績：%d 分，平均成績：%5.2f 分\" %(Total, Avg))"
   ]
  },
  {
   "cell_type": "code",
   "execution_count": null,
   "metadata": {},
   "outputs": [],
   "source": []
  }
 ],
 "metadata": {
  "kernelspec": {
   "display_name": "Python 3",
   "language": "python",
   "name": "python3"
  },
  "language_info": {
   "codemirror_mode": {
    "name": "ipython",
    "version": 3
   },
   "file_extension": ".py",
   "mimetype": "text/x-python",
   "name": "python",
   "nbconvert_exporter": "python",
   "pygments_lexer": "ipython3",
   "version": "3.9.1"
  }
 },
 "nbformat": 4,
 "nbformat_minor": 4
}
