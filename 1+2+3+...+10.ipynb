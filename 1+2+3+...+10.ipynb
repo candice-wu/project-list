{
 "cells": [
  {
   "cell_type": "markdown",
   "metadata": {},
   "source": [
    "# For loop"
   ]
  },
  {
   "cell_type": "code",
   "execution_count": 1,
   "metadata": {},
   "outputs": [
    {
     "name": "stdout",
     "output_type": "stream",
     "text": [
      "1 到 10 整數和：55\n"
     ]
    }
   ],
   "source": [
    "Sum = 0\n",
    "\n",
    "for Num in range(1,10+1):\n",
    "    Sum += Num\n",
    "print(\"1 到 10 整數和：%d\" %(Sum))         #利用 % 參數格式化列印"
   ]
  },
  {
   "cell_type": "code",
   "execution_count": 2,
   "metadata": {},
   "outputs": [
    {
     "name": "stdout",
     "output_type": "stream",
     "text": [
      "1 到 10 整數和：55\n"
     ]
    }
   ],
   "source": [
    "Sum = 0\n",
    "\n",
    "for Num in range(1,10+1):\n",
    "    Sum += Num\n",
    "print(\"1 到 10 整數和：{}\" .format(Sum))   #利用 format() 參數格式化列印"
   ]
  },
  {
   "cell_type": "markdown",
   "metadata": {},
   "source": [
    "# While loop"
   ]
  },
  {
   "cell_type": "code",
   "execution_count": 3,
   "metadata": {},
   "outputs": [
    {
     "name": "stdout",
     "output_type": "stream",
     "text": [
      "1 到 10 整數和：55\n"
     ]
    }
   ],
   "source": [
    "Num = 1\n",
    "Sum = 0\n",
    "\n",
    "while (Num <= 10):\n",
    "    Sum += Num\n",
    "    Num += 1\n",
    "print(\"1 到 10 整數和：%d\" %(Sum))         #利用 % 參數格式化列印"
   ]
  },
  {
   "cell_type": "code",
   "execution_count": 4,
   "metadata": {},
   "outputs": [
    {
     "name": "stdout",
     "output_type": "stream",
     "text": [
      "1 到 10 整數和：55\n"
     ]
    }
   ],
   "source": [
    "Num = 1\n",
    "Sum = 0\n",
    "\n",
    "while (Num <= 10):\n",
    "    Sum += Num\n",
    "    Num += 1\n",
    "print(\"1 到 10 整數和：{}\" .format(Sum))   #利用 format() 參數格式化列印"
   ]
  },
  {
   "cell_type": "code",
   "execution_count": 5,
   "metadata": {},
   "outputs": [
    {
     "name": "stdout",
     "output_type": "stream",
     "text": [
      "1 到 10 整數和：55\n"
     ]
    }
   ],
   "source": [
    "Num = 0\n",
    "Sum = 0\n",
    "\n",
    "while (Num < 10):\n",
    "    Num += 1\n",
    "    Sum += Num\n",
    "print(\"1 到 10 整數和：%d\" %(Sum))         #利用 % 參數格式化列印"
   ]
  },
  {
   "cell_type": "code",
   "execution_count": 6,
   "metadata": {},
   "outputs": [
    {
     "name": "stdout",
     "output_type": "stream",
     "text": [
      "1 到 10 整數和：55\n"
     ]
    }
   ],
   "source": [
    "Num = 0\n",
    "Sum = 0\n",
    "\n",
    "while (Num < 10):\n",
    "    Num += 1\n",
    "    Sum += Num\n",
    "print(\"1 到 10 整數和：{}\" .format(Sum))   #利用 format() 參數格式化列印"
   ]
  },
  {
   "cell_type": "code",
   "execution_count": null,
   "metadata": {},
   "outputs": [],
   "source": []
  }
 ],
 "metadata": {
  "kernelspec": {
   "display_name": "Python 3",
   "language": "python",
   "name": "python3"
  },
  "language_info": {
   "codemirror_mode": {
    "name": "ipython",
    "version": 3
   },
   "file_extension": ".py",
   "mimetype": "text/x-python",
   "name": "python",
   "nbconvert_exporter": "python",
   "pygments_lexer": "ipython3",
   "version": "3.9.0"
  }
 },
 "nbformat": 4,
 "nbformat_minor": 4
}
