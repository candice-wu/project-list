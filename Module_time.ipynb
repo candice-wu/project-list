{
 "cells": [
  {
   "cell_type": "code",
   "execution_count": 1,
   "metadata": {},
   "outputs": [
    {
     "name": "stdout",
     "output_type": "stream",
     "text": [
      "1610736151.587213\n"
     ]
    }
   ],
   "source": [
    "import time\n",
    "\n",
    "print(time.time())       # 自1970年1月1日 00:00:00 至今已達的秒數(時間數值)"
   ]
  },
  {
   "cell_type": "code",
   "execution_count": 2,
   "metadata": {},
   "outputs": [
    {
     "name": "stdout",
     "output_type": "stream",
     "text": [
      "time.struct_time(tm_year=2021, tm_mon=1, tm_mday=16, tm_hour=2, tm_min=42, tm_sec=31, tm_wday=5, tm_yday=16, tm_isdst=0)\n",
      "Sat Jan 16 02:42:31 2021\n"
     ]
    }
   ],
   "source": [
    "print(time.localtime())  # 取得使用者時區的當下日期與時間資訊，為 \"元組資料型態\"\n",
    "\n",
    "print(time.ctime())      # 取得使用者時區的當下日期與時間資訊，為 \"字串\""
   ]
  },
  {
   "cell_type": "code",
   "execution_count": 3,
   "metadata": {},
   "outputs": [
    {
     "name": "stdout",
     "output_type": "stream",
     "text": [
      "time.struct_time(tm_year=2021, tm_mon=1, tm_mday=16, tm_hour=2, tm_min=42, tm_sec=31, tm_wday=5, tm_yday=16, tm_isdst=0)\n",
      "time.struct_time(tm_year=2021, tm_mon=1, tm_mday=16, tm_hour=2, tm_min=42, tm_sec=31, tm_wday=5, tm_yday=16, tm_isdst=0)\n"
     ]
    }
   ],
   "source": [
    "# 寫法不同，結果相同\n",
    "\n",
    "print(time.localtime())\n",
    "\n",
    "print(time.localtime(time.time()))"
   ]
  },
  {
   "cell_type": "markdown",
   "metadata": {},
   "source": [
    "# 取得單一項目值"
   ]
  },
  {
   "cell_type": "code",
   "execution_count": 4,
   "metadata": {},
   "outputs": [
    {
     "name": "stdout",
     "output_type": "stream",
     "text": [
      "2021\n",
      "2021\n"
     ]
    }
   ],
   "source": [
    "value = time.localtime()   # 宣告一個變數 value\n",
    "\n",
    "print(value.tm_year)       # 以 \"物件.名稱\"  取值(西元年)\n",
    "print(value[0])            # 以 \"元組(索引)\" 取值(西元年)"
   ]
  },
  {
   "cell_type": "code",
   "execution_count": 5,
   "metadata": {},
   "outputs": [
    {
     "name": "stdout",
     "output_type": "stream",
     "text": [
      "1\n",
      "1\n"
     ]
    }
   ],
   "source": [
    "print(value.tm_mon)        # 以 \"物件.名稱\"  取值(月份)\n",
    "print(value[1])            # 以 \"元組(索引)\" 取值(月份)"
   ]
  },
  {
   "cell_type": "code",
   "execution_count": 6,
   "metadata": {},
   "outputs": [
    {
     "name": "stdout",
     "output_type": "stream",
     "text": [
      "16\n",
      "16\n"
     ]
    }
   ],
   "source": [
    "print(value.tm_yday)       # 以 \"物件.名稱\"  取值(一年中的第幾天)\n",
    "print(value[7])            # 以 \"元組(索引)\" 取值(一年中的第幾天)"
   ]
  },
  {
   "cell_type": "markdown",
   "metadata": {},
   "source": [
    "# 以中華民國年份，顯示當下時刻及節約時間資訊"
   ]
  },
  {
   "cell_type": "code",
   "execution_count": 7,
   "metadata": {},
   "outputs": [
    {
     "name": "stdout",
     "output_type": "stream",
     "text": [
      "現在時刻：中華民國：110年1月16日2點42分31秒 星期六\n",
      "今天是今年的第 16 天，此地無日光節約時間\n"
     ]
    }
   ],
   "source": [
    "import time as t\n",
    "\n",
    "week = [\"一\",  \"二\", \"三\", \"四\", \"五\", \"六\", \"日\"]      # 建立星期的對應串列\n",
    "dst = [\"無日光節約時間\", \"有日光節約時間\"]                # 建立日光節約時間的對應串列\n",
    "\n",
    "time1 = t.localtime()\n",
    "\n",
    "show = \"現在時刻：中華民國：\" + str(int(time1.tm_year)-1911) + \"年\"\n",
    "show += str(time1.tm_mon) + \"月\" + str(time1.tm_mday) + \"日\"\n",
    "show += str(time1.tm_hour) + \"點\" + str(time1.tm_min) + \"分\"\n",
    "show += str(time1.tm_sec) + \"秒 星期\" + week[time1.tm_wday] + \"\\n\"\n",
    "\n",
    "show += \"今天是今年的第 \" + str(time1.tm_yday) + \" 天，此地\" + dst[time1.tm_isdst]\n",
    "\n",
    "print(show)"
   ]
  },
  {
   "cell_type": "code",
   "execution_count": null,
   "metadata": {},
   "outputs": [],
   "source": []
  }
 ],
 "metadata": {
  "kernelspec": {
   "display_name": "Python 3",
   "language": "python",
   "name": "python3"
  },
  "language_info": {
   "codemirror_mode": {
    "name": "ipython",
    "version": 3
   },
   "file_extension": ".py",
   "mimetype": "text/x-python",
   "name": "python",
   "nbconvert_exporter": "python",
   "pygments_lexer": "ipython3",
   "version": "3.9.1"
  }
 },
 "nbformat": 4,
 "nbformat_minor": 4
}
