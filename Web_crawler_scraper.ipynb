{
 "cells": [
  {
   "cell_type": "markdown",
   "id": "local-february",
   "metadata": {},
   "source": [
    "# httpbin.org\n",
    "- **requests 與 response 的測試工具**\n",
    "> 可對 httpbin.org 發送 Get 或 Post 請求行為，它在接收後會以 json 格式回傳請求的資料\n",
    ">> - args (參數)\n",
    ">> - headers (標頭資料)\n",
    ">> - origin (來源IP位址)\n",
    ">> - url (請求網址): 將URL參數及值合併在網址後面"
   ]
  },
  {
   "cell_type": "code",
   "execution_count": 1,
   "id": "critical-forty",
   "metadata": {},
   "outputs": [
    {
     "name": "stdout",
     "output_type": "stream",
     "text": [
      "{\n",
      "  \"args\": {\n",
      "    \"key1\": \"value1\", \n",
      "    \"key2\": \"value2\"\n",
      "  }, \n",
      "  \"headers\": {\n",
      "    \"Accept\": \"*/*\", \n",
      "    \"Accept-Encoding\": \"gzip, deflate\", \n",
      "    \"Host\": \"httpbin.org\", \n",
      "    \"User-Agent\": \"python-requests/2.25.1\", \n",
      "    \"X-Amzn-Trace-Id\": \"Root=1-6004ae69-6aab1960654afea56d8d9581\"\n",
      "  }, \n",
      "  \"origin\": \"36.233.83.183\", \n",
      "  \"url\": \"http://httpbin.org/get?key1=value1&key2=value2\"\n",
      "}\n",
      "\n"
     ]
    }
   ],
   "source": [
    "# Get請求：利用瀏覽器輸入指定網址，當指定的web server接收到要求並回應內容（顯示網頁內容於瀏覽器）\n",
    "\n",
    "\n",
    "import requests                                               # 導入requests模組\n",
    "\n",
    "payload = {\"key1\":\"value1\", \"key2\":\"value2\"}                  # 將查詢參數定義為字典資料型態\n",
    "\n",
    "r = requests.get(\"http://httpbin.org/get\", params = payload)  # 加入Get請求中，且須將URL參數內容設定為 \"params參數\"\n",
    "\n",
    "print(r.text)                                                 # 列印網頁原始碼資料"
   ]
  },
  {
   "cell_type": "code",
   "execution_count": 2,
   "id": "mounted-basis",
   "metadata": {},
   "outputs": [
    {
     "name": "stdout",
     "output_type": "stream",
     "text": [
      "{\n",
      "  \"args\": {}, \n",
      "  \"data\": \"\", \n",
      "  \"files\": {}, \n",
      "  \"form\": {\n",
      "    \"key1\": \"value1\", \n",
      "    \"key2\": \"value2\"\n",
      "  }, \n",
      "  \"headers\": {\n",
      "    \"Accept\": \"*/*\", \n",
      "    \"Accept-Encoding\": \"gzip, deflate\", \n",
      "    \"Content-Length\": \"23\", \n",
      "    \"Content-Type\": \"application/x-www-form-urlencoded\", \n",
      "    \"Host\": \"httpbin.org\", \n",
      "    \"User-Agent\": \"python-requests/2.25.1\", \n",
      "    \"X-Amzn-Trace-Id\": \"Root=1-6004ae69-371dab5f18f9436f1060f378\"\n",
      "  }, \n",
      "  \"json\": null, \n",
      "  \"origin\": \"36.233.83.183\", \n",
      "  \"url\": \"http://httpbin.org/post\"\n",
      "}\n",
      "\n"
     ]
    }
   ],
   "source": [
    "# Post請求：只要網頁中有讓使用者填入資料的表單，均需要用Post請求來進行傳送\n",
    "\n",
    "import requests                                               # 導入requests模組\n",
    "\n",
    "payload = {\"key1\":\"value1\", \"key2\":\"value2\"}                  # 將傳遞參數定義為字典資料型態\n",
    "\n",
    "r = requests.post(\"http://httpbin.org/post\", data = payload)  # 加入Post請求中，且須將傳遞參數內容設定為 \"data參數\"\n",
    "\n",
    "print(r.text)                                                 # 列印網頁原始碼資料"
   ]
  },
  {
   "cell_type": "markdown",
   "id": "interim-handbook",
   "metadata": {},
   "source": [
    "# 網路爬蟲 (Web Crawler｜Spider｜Spiderbot｜Crawler)\n",
    "- **請求網頁內容**\n"
   ]
  },
  {
   "cell_type": "code",
   "execution_count": 3,
   "id": "sustainable-macedonia",
   "metadata": {},
   "outputs": [
    {
     "name": "stdout",
     "output_type": "stream",
     "text": [
      "<!doctype html>\n",
      "<html>\n",
      "  <head>\n",
      "    <meta charset=\"UTF-8\">\n",
      "    <title>Hello</title>\n",
      "  </head>\n",
      "  <body>\n",
      "    <p>Hello World!</p>\n",
      "  </body>\n",
      "</html>\n"
     ]
    }
   ],
   "source": [
    "import requests                            # 導入requests模組\n",
    "url = \"http://www.ehappy.tw/demo.htm\"      # 將目標網址指定給變數(url)\n",
    "\n",
    "r = requests.get(url)                      # 發送Get請求，並指派給新建立的response物件(r)\n",
    "\n",
    "r.encoding = \"UTF-8\"                       # 設定response物件的encoding編碼屬性以避免亂碼，常見的是 UTF-8 或 Big5\n",
    "\n",
    "if r.status_code == requests.codes.ok:     # 檢查 HTTP回應碼是否為 200(requests.code.ok)\n",
    "    print(r.text)                          # 列印網頁原始碼資料"
   ]
  },
  {
   "cell_type": "code",
   "execution_count": 4,
   "id": "respiratory-borough",
   "metadata": {},
   "outputs": [
    {
     "name": "stdout",
     "output_type": "stream",
     "text": [
      "b'<!doctype html>\\n<html>\\n  <head>\\n    <meta charset=\"UTF-8\">\\n    <title>Hello</title>\\n  </head>\\n  <body>\\n    <p>Hello World!</p>\\n  </body>\\n</html>'\n"
     ]
    }
   ],
   "source": [
    "import requests                            # 導入requests模組\n",
    "url = \"http://www.ehappy.tw/demo.htm\"      # 將目標網址指定給變數(url)\n",
    "\n",
    "r = requests.get(url)                      # 發送Get請求，並指派給新建立的response物件(r)\n",
    "\n",
    "r.encoding = \"UTF-8\"                       # 設定response物件的encoding編碼屬性以避免亂碼，常見的是 UTF-8 或 Big5\n",
    "\n",
    "if r.status_code == requests.codes.ok:     # 檢查 HTTP回應碼是否為 200(requests.code.ok)\n",
    "    print(r.content)                       # 列印網站二進位檔案資料"
   ]
  },
  {
   "cell_type": "code",
   "execution_count": 5,
   "id": "rapid-imagination",
   "metadata": {},
   "outputs": [
    {
     "name": "stdout",
     "output_type": "stream",
     "text": [
      "200\n",
      "<Response [200]>\n"
     ]
    }
   ],
   "source": [
    "import requests                            # 導入requests模組\n",
    "url = \"http://www.ehappy.tw/demo.htm\"      # 將目標網址指定給變數(url)\n",
    "\n",
    "r = requests.get(url)                      # 發送Get請求，並指派給新建立的response物件(r)\n",
    "\n",
    "r.encoding = \"UTF-8\"                       # 設定response物件的encoding編碼屬性以避免亂碼，常見的是 UTF-8 或 Big5\n",
    "\n",
    "if r.status_code == requests.codes.ok:     # 檢查 HTTP回應碼是否為 200(requests.code.ok)\n",
    "    print(r.status_code)                   # 列印 HTTP狀態碼\n",
    "    print(r)"
   ]
  },
  {
   "cell_type": "markdown",
   "id": "stone-jamaica",
   "metadata": {},
   "source": [
    "- **自訂 HTTP Headers 偽裝瀏覽器操作**"
   ]
  },
  {
   "cell_type": "code",
   "execution_count": 6,
   "id": "medium-purple",
   "metadata": {},
   "outputs": [
    {
     "name": "stdout",
     "output_type": "stream",
     "text": [
      "200\n",
      "<Response [200]>\n"
     ]
    }
   ],
   "source": [
    "import requests                            # 導入requests模組\n",
    "\n",
    "train = \"https://www.thsrc.com.tw\"         # 將台灣高鐵首頁指定給變數(train)\n",
    "\n",
    "\n",
    "# 自訂HTTP Headers，可至 https://httpbin.org/get 查詢本機 User-Agent並複製貼上\n",
    "headers = {\n",
    "    \"User-Agent\": \"Mozilla/5.0 (Macintosh; Intel Mac OS X 10_15_6) AppleWebKit/605.1.15 (KHTML, like Gecko) Version/14.0.2 Safari/605.1.15\", \n",
    "}\n",
    "\n",
    "r = requests.get(train, headers = headers) # 將自訂HTTP Headers加人Get請求中，並指派給新建立的response物件(r)\n",
    "\n",
    "print(r.status_code)                       # 列印 HTTP狀態碼，若為200表示正確讀取；若未加自訂HTTP Headers則程式會無法正確執行\n",
    "print(r)"
   ]
  },
  {
   "cell_type": "markdown",
   "id": "dimensional-pharmacy",
   "metadata": {},
   "source": [
    "# 網頁抓取 (Web Scraper｜Web harvesting｜Web data extraction)\n",
    "- **抓取所需資料 + 儲存資料**"
   ]
  },
  {
   "cell_type": "code",
   "execution_count": 7,
   "id": "daily-damages",
   "metadata": {},
   "outputs": [
    {
     "name": "stdout",
     "output_type": "stream",
     "text": [
      "<title>我是網頁標題</title>\n",
      "我是網頁標題\n",
      "<h1 class=\"large\">我是標題</h1>\n",
      "我是標題\n",
      "<p>我是段落</p>\n",
      "我是段落\n",
      "<img alt=\"我是圖片\" src=\"https://www.w3.org/html/logo/downloads/HTML5_Logo_256.png\"/>\n",
      "\n",
      "<a href=\"http://www.e-happy.com.tw\">我是超連結</a>\n",
      "我是超連結\n"
     ]
    }
   ],
   "source": [
    "import requests                                          # 導入requests模組\n",
    "from bs4 import BeautifulSoup                            # 自beautifulsoup4模組導入BeautifulSoup函式\n",
    "\n",
    "test = requests.get(\"http://ehappy.tw/bsdemo1.htm\")      # 將目標網址指定給變數(url)\n",
    "\n",
    "test.encoding = \"UTF-8\"                                  # 設定response物件的encoding編碼屬性以避免亂碼，常見的是 UTF-8 或 Big5\n",
    "\n",
    "sp = BeautifulSoup(test.text, \"lxml\")                    # 利用lxml解析器去解析reguests模組取得的網頁原始碼，並指派給新建立的BeautifulSoup物件(sp)\n",
    "\n",
    "print(sp.title)                                          # 列印網頁的標題(含HTML的標籤tag)\n",
    "print(sp.title.text)                                     # 列印網頁的標題\n",
    "print(sp.h1)                                             # 列印標註的標題(含HTML的標籤tag)\n",
    "print(sp.h1.text)                                        # 列印標註的標題\n",
    "print(sp.p)                                              # 列印文件段落(含HTML的標籤tag)\n",
    "print(sp.p.text)                                         # 列印文件段落\n",
    "print(sp.img)                                            # 列印圖片(含HTML的標籤tag)\n",
    "print(sp.img.text)                                       # 列印圖片\n",
    "print(sp.a)                                              # 列印超連結名稱(含HTML的標籤tag)\n",
    "print(sp.a.text)                                         # 列印超連結名稱"
   ]
  },
  {
   "cell_type": "code",
   "execution_count": 8,
   "id": "increased-sunrise",
   "metadata": {},
   "outputs": [
    {
     "name": "stdout",
     "output_type": "stream",
     "text": [
      "<title>我是網頁標題</title>\n",
      "我是網頁標題\n",
      "<h1 class=\"large\">我是標題</h1>\n",
      "我是標題\n",
      "<p>我是段落</p>\n",
      "我是段落\n",
      "<img alt=\"我是圖片\" src=\"https://www.w3.org/html/logo/downloads/HTML5_Logo_256.png\"/>\n",
      "\n",
      "<a href=\"http://www.e-happy.com.tw\">我是超連結</a>\n",
      "我是超連結\n"
     ]
    }
   ],
   "source": [
    "import requests\n",
    "from bs4 import BeautifulSoup\n",
    "\n",
    "test = requests.get(\"http://ehappy.tw/bsdemo1.htm\")\n",
    "\n",
    "test.encoding = \"UTF-8\"\n",
    "\n",
    "sp = BeautifulSoup(test.text, \"html.parser\")             # 利用Python內建解析器去解析reguests模組取得的網頁原始碼，並指派給新建立的BeautifulSoup物件(sp)\n",
    "\n",
    "print(sp.title)                                          # 列印網頁的標題(含HTML的標籤tag)\n",
    "print(sp.title.text)                                     # 列印網頁的標題\n",
    "print(sp.h1)                                             # 列印標註的標題(含HTML的標籤tag)\n",
    "print(sp.h1.text)                                        # 列印標註的標題\n",
    "print(sp.p)                                              # 列印文件段落(含HTML的標籤tag)\n",
    "print(sp.p.text)                                         # 列印文件段落\n",
    "print(sp.img)                                            # 列印圖片(含HTML的標籤tag)\n",
    "print(sp.img.text)                                       # 列印圖片\n",
    "print(sp.a)                                              # 列印超連結名稱(含HTML的標籤tag)\n",
    "print(sp.a.text)                                         # 列印超連結名稱"
   ]
  },
  {
   "cell_type": "code",
   "execution_count": null,
   "id": "personal-dispute",
   "metadata": {},
   "outputs": [],
   "source": []
  }
 ],
 "metadata": {
  "kernelspec": {
   "display_name": "Python 3",
   "language": "python",
   "name": "python3"
  },
  "language_info": {
   "codemirror_mode": {
    "name": "ipython",
    "version": 3
   },
   "file_extension": ".py",
   "mimetype": "text/x-python",
   "name": "python",
   "nbconvert_exporter": "python",
   "pygments_lexer": "ipython3",
   "version": "3.9.1"
  }
 },
 "nbformat": 4,
 "nbformat_minor": 5
}
