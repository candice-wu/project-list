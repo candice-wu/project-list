{
 "cells": [
  {
   "cell_type": "markdown",
   "id": "minus-manchester",
   "metadata": {},
   "source": [
    "# 計算總秒數"
   ]
  },
  {
   "cell_type": "code",
   "execution_count": 1,
   "id": "atomic-steering",
   "metadata": {},
   "outputs": [
    {
     "name": "stdout",
     "output_type": "stream",
     "text": [
      "3723\n"
     ]
    }
   ],
   "source": [
    "def print_seconds(hours, minutes, seconds):\n",
    "    print((3600*hours) + (60*minutes) + seconds)\n",
    "    \n",
    "print_seconds(1, 2, 3)"
   ]
  },
  {
   "cell_type": "markdown",
   "id": "automotive-equation",
   "metadata": {},
   "source": [
    "# 計算多個三角形面積並作加總"
   ]
  },
  {
   "cell_type": "code",
   "execution_count": 2,
   "id": "protective-nature",
   "metadata": {},
   "outputs": [
    {
     "name": "stdout",
     "output_type": "stream",
     "text": [
      "The same of both areas is: 20.5\n"
     ]
    }
   ],
   "source": [
    "def area_triangle(base, height):\n",
    "    return (base * height) / 2\n",
    "\n",
    "area_a = area_triangle(5, 4)\n",
    "area_b = area_triangle(7, 3)\n",
    "\n",
    "sum_area = area_a + area_b\n",
    "\n",
    "print(\"The same of both areas is: \" + str(sum_area))"
   ]
  },
  {
   "cell_type": "markdown",
   "id": "satisfied-rachel",
   "metadata": {},
   "source": [
    "# 計算多個總秒數並作加總\n",
    "> Use the get_seconds function to work out the amount of seconds in 2 hours and 30 minutes, then add this number to the amount of seconds in 45 minutes and 15 seconds. Then print the result."
   ]
  },
  {
   "cell_type": "code",
   "execution_count": 3,
   "id": "verified-advertiser",
   "metadata": {},
   "outputs": [
    {
     "name": "stdout",
     "output_type": "stream",
     "text": [
      "11715\n"
     ]
    }
   ],
   "source": [
    "def get_seconds(hours, minutes, seconds):\n",
    "    return (3600 * hours) + (60 * minutes) + seconds\n",
    "\n",
    "amount_a = get_seconds(2, 30, 0)\n",
    "amount_b = get_seconds(0, 45, 15)\n",
    "\n",
    "result = amount_a + amount_b\n",
    "\n",
    "print(result)"
   ]
  },
  {
   "cell_type": "markdown",
   "id": "comparative-scheme",
   "metadata": {},
   "source": [
    "# 秒數轉換時、分、秒"
   ]
  },
  {
   "cell_type": "code",
   "execution_count": 4,
   "id": "intense-culture",
   "metadata": {},
   "outputs": [
    {
     "name": "stdout",
     "output_type": "stream",
     "text": [
      "1 23 20\n"
     ]
    }
   ],
   "source": [
    "def convert_seconds(seconds):\n",
    "    hours = seconds // 3600\n",
    "    minutes = (seconds - (hours * 3600)) // 60\n",
    "    remaining_seconds = (seconds - (hours * 3600) - (minutes * 60))\n",
    "    return hours, minutes, remaining_seconds\n",
    "\n",
    "hours, minutes, remaining_seconds = convert_seconds(5000)\n",
    "\n",
    "print(hours, minutes, remaining_seconds)"
   ]
  },
  {
   "cell_type": "markdown",
   "id": "deadly-ground",
   "metadata": {},
   "source": [
    "# 僅有print()，無return statement"
   ]
  },
  {
   "cell_type": "code",
   "execution_count": 5,
   "id": "naked-bishop",
   "metadata": {},
   "outputs": [
    {
     "name": "stdout",
     "output_type": "stream",
     "text": [
      "Welcome, Christine\n"
     ]
    }
   ],
   "source": [
    "def greeting(name):\n",
    "    print(\"Welcome, \" + name)    # printed a message and didn't return anything\n",
    "    \n",
    "result = greeting(\"Christine\")"
   ]
  },
  {
   "cell_type": "code",
   "execution_count": 6,
   "id": "centered-colorado",
   "metadata": {},
   "outputs": [
    {
     "name": "stdout",
     "output_type": "stream",
     "text": [
      "None\n"
     ]
    }
   ],
   "source": [
    "# We stored the return value in the result variable, but there was no return statement in the function.\n",
    "# So the value of results is none.\n",
    "# None is a very special data type in Python used to indicate that things are empty or that they return nothing.\n",
    "\n",
    "print(result)"
   ]
  },
  {
   "cell_type": "markdown",
   "id": "different-jimmy",
   "metadata": {},
   "source": [
    "# 印出指定的字串訊息\n",
    "> **例一：**"
   ]
  },
  {
   "cell_type": "code",
   "execution_count": 7,
   "id": "subjective-linux",
   "metadata": {},
   "outputs": [
    {
     "name": "stdout",
     "output_type": "stream",
     "text": [
      "Hello Kay,\n",
      "your lucky number is: 27\n",
      "Hello Cameron,\n",
      "your lucky number is: 63\n"
     ]
    }
   ],
   "source": [
    "name = \"Kay\"\n",
    "number = len(name) * 9\n",
    "print(\"Hello \" + name + \",\\n\" + \"your lucky number is: \" + str(number))\n",
    "\n",
    "name = \"Cameron\"\n",
    "number = len(name) * 9\n",
    "print(\"Hello \" + name + \",\\n\" + \"your lucky number is: \" + str(number))"
   ]
  },
  {
   "cell_type": "code",
   "execution_count": 8,
   "id": "consecutive-wisdom",
   "metadata": {},
   "outputs": [
    {
     "name": "stdout",
     "output_type": "stream",
     "text": [
      "Hello Kay. your lucky number is: 27\n",
      "Hello Cameron. your lucky number is: 63\n"
     ]
    }
   ],
   "source": [
    "def lucky_number(name):\n",
    "    number = len(name) * 9\n",
    "    print(\"Hello \" + name + \". your lucky number is: \" + str(number))\n",
    "    \n",
    "lucky_number(\"Kay\")\n",
    "lucky_number(\"Cameron\")"
   ]
  },
  {
   "cell_type": "code",
   "execution_count": 9,
   "id": "gentle-blond",
   "metadata": {},
   "outputs": [
    {
     "name": "stdout",
     "output_type": "stream",
     "text": [
      "Hello Kay. Your lucky number is 27\n",
      "Hello Cameron. Your lucky number is 63\n"
     ]
    }
   ],
   "source": [
    "def lucky_number(name):\n",
    "    number = len(name) * 9\n",
    "    result = \"Hello \" + name + \". Your lucky number is \" + str(number)\n",
    "    return(result)\n",
    "\n",
    "print(lucky_number(\"Kay\"))\n",
    "print(lucky_number(\"Cameron\"))"
   ]
  },
  {
   "cell_type": "markdown",
   "id": "revolutionary-optics",
   "metadata": {},
   "source": [
    "> **例二：**"
   ]
  },
  {
   "cell_type": "code",
   "execution_count": 10,
   "id": "statistical-class",
   "metadata": {},
   "outputs": [
    {
     "name": "stdout",
     "output_type": "stream",
     "text": [
      "June has 30 days.\n",
      "July has 31 days.\n"
     ]
    }
   ],
   "source": [
    "# REPLACE THIS STARTER CODE WITH YOUR FUNCTION\n",
    "june_days = 30\n",
    "print(\"June has \" + str(june_days) + \" days.\")\n",
    "july_days = 31\n",
    "print(\"July has \" + str(july_days) + \" days.\")"
   ]
  },
  {
   "cell_type": "code",
   "execution_count": 11,
   "id": "pretty-stake",
   "metadata": {},
   "outputs": [
    {
     "name": "stdout",
     "output_type": "stream",
     "text": [
      "June has 30 days.\n",
      "July has 31 days.\n"
     ]
    }
   ],
   "source": [
    "def month_days(month, days):\n",
    "    print(month + \" has \" + str(days) + \" days.\")\n",
    "\n",
    "month_days(\"June\", 30)\n",
    "month_days(\"July\", 31)"
   ]
  },
  {
   "cell_type": "markdown",
   "id": "reflected-comfort",
   "metadata": {},
   "source": [
    "# 計算矩形面積並印出"
   ]
  },
  {
   "cell_type": "code",
   "execution_count": 12,
   "id": "indirect-tennis",
   "metadata": {},
   "outputs": [
    {
     "name": "stdout",
     "output_type": "stream",
     "text": [
      "The area is 30\n"
     ]
    }
   ],
   "source": [
    "def rectangle_area(base, height):          # define a rectangle_area functions, and parameters are base and height.\n",
    "    area = base * height                   # the area is base * height\n",
    "    print(\"The area is \" + str(area))\n",
    "\n",
    "rectangle_area(5, 6)"
   ]
  },
  {
   "cell_type": "markdown",
   "id": "concerned-image",
   "metadata": {},
   "source": [
    "# 單位轉換\n",
    "> Converts miles to kilometers (km)"
   ]
  },
  {
   "cell_type": "code",
   "execution_count": 13,
   "id": "agreed-seven",
   "metadata": {},
   "outputs": [
    {
     "name": "stdout",
     "output_type": "stream",
     "text": [
      "The distance in kilometers is 88.0\n",
      "The round-trip in kilometers is 176.0\n"
     ]
    }
   ],
   "source": [
    "# 1) Complete the function to return the result of the conversion\n",
    "\n",
    "def convert_distance(miles):\n",
    "    return miles * 1.6  # approximately 1.6 km in 1 mile\n",
    "\n",
    "#my_trip_miles = 55\n",
    "\n",
    "# 2) Convert my_trip_miles to kilometers by calling the function above\n",
    "my_trip_km = convert_distance(55)\n",
    "\n",
    "# 3) Print the result of the conversion\n",
    "print(\"The distance in kilometers is \" + str(my_trip_km))\n",
    "\n",
    "# 4) Calculate the round-trip in kilometers by doubling the result\n",
    "print(\"The round-trip in kilometers is \" + str((my_trip_km)*2))"
   ]
  },
  {
   "cell_type": "markdown",
   "id": "developmental-labor",
   "metadata": {},
   "source": [
    "# 數字運算 - 加法\n",
    "> Call the sum function 3 times: returning 3, then 7, then adding up 3 plus 7 for the total of 10."
   ]
  },
  {
   "cell_type": "code",
   "execution_count": 14,
   "id": "demonstrated-emergency",
   "metadata": {},
   "outputs": [
    {
     "name": "stdout",
     "output_type": "stream",
     "text": [
      "10\n"
     ]
    }
   ],
   "source": [
    "def sum(x, y):\n",
    "    return(x+y)\n",
    "\n",
    "print(sum(sum(1,2), sum(3,4)))"
   ]
  },
  {
   "cell_type": "code",
   "execution_count": null,
   "id": "consecutive-commerce",
   "metadata": {},
   "outputs": [],
   "source": []
  }
 ],
 "metadata": {
  "kernelspec": {
   "display_name": "Python 3",
   "language": "python",
   "name": "python3"
  },
  "language_info": {
   "codemirror_mode": {
    "name": "ipython",
    "version": 3
   },
   "file_extension": ".py",
   "mimetype": "text/x-python",
   "name": "python",
   "nbconvert_exporter": "python",
   "pygments_lexer": "ipython3",
   "version": "3.9.1"
  }
 },
 "nbformat": 4,
 "nbformat_minor": 5
}
