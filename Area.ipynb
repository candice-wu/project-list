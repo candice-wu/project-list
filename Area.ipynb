{
 "cells": [
  {
   "cell_type": "markdown",
   "metadata": {},
   "source": [
    "# 利用函式，計算矩形面積"
   ]
  },
  {
   "cell_type": "markdown",
   "metadata": {},
   "source": [
    ">寫法一："
   ]
  },
  {
   "cell_type": "code",
   "execution_count": 1,
   "metadata": {},
   "outputs": [
    {
     "name": "stdout",
     "output_type": "stream",
     "text": [
      "面積為：54\n"
     ]
    }
   ],
   "source": [
    "def GetArea(width, height):            # 建立函式名稱為 GetArea()，以參數傳入矩形的寬與高\n",
    "    area1 = width * height             # 計算矩形面積\n",
    "    return area1                       # 回傳矩形面積值\n",
    "\n",
    "area1 = GetArea(6, 9)                  # 執行函式 GetArea() 並將結果(回傳值)儲存在變數 area1\n",
    "print(\"面積為：{}\" .format(area1))      # 印出矩形面積值"
   ]
  },
  {
   "cell_type": "markdown",
   "metadata": {},
   "source": [
    ">寫法二："
   ]
  },
  {
   "cell_type": "code",
   "execution_count": 2,
   "metadata": {},
   "outputs": [
    {
     "name": "stdout",
     "output_type": "stream",
     "text": [
      "面積為：54\n"
     ]
    }
   ],
   "source": [
    "def GetArea(width, height):\n",
    "    return width * height\n",
    "\n",
    "area2 = GetArea(6, 9)                  # 執行函式 GetArea() 並將結果(回傳值)儲存在變數 area2\n",
    "print(\"面積為：%d\" %(area2))            # 印出矩形面積值(整數值)"
   ]
  },
  {
   "cell_type": "markdown",
   "metadata": {},
   "source": [
    ">寫法三："
   ]
  },
  {
   "cell_type": "code",
   "execution_count": 3,
   "metadata": {},
   "outputs": [
    {
     "name": "stdout",
     "output_type": "stream",
     "text": [
      "面積為：54.00\n"
     ]
    }
   ],
   "source": [
    "def GetArea(width, height):\n",
    "    return width * height\n",
    "\n",
    "area3 = GetArea(width=6, height=9)     # 參數值先指定寬，再指定高\n",
    "print(\"面積為：%5.2f\" %(area3))         # 印出矩形面積值(浮點數值，小數點後取2位)"
   ]
  },
  {
   "cell_type": "markdown",
   "metadata": {},
   "source": [
    ">寫法四："
   ]
  },
  {
   "cell_type": "code",
   "execution_count": 4,
   "metadata": {},
   "outputs": [
    {
     "name": "stdout",
     "output_type": "stream",
     "text": [
      "面積為：54.00\n"
     ]
    }
   ],
   "source": [
    "def GetArea(width, height):\n",
    "    return width * height\n",
    "\n",
    "area4 = GetArea(height=9, width=6)     # 參數值先指定高，再指定寬\n",
    "print(\"面積為：%5.2f\" %(area4))         # 印出矩形面積值(浮點數值，小數點後取2位)"
   ]
  },
  {
   "cell_type": "markdown",
   "metadata": {},
   "source": [
    ">寫法五："
   ]
  },
  {
   "cell_type": "code",
   "execution_count": 5,
   "metadata": {},
   "outputs": [
    {
     "name": "stdout",
     "output_type": "stream",
     "text": [
      "面積為：72\n"
     ]
    }
   ],
   "source": [
    "def GetArea(width, height=12):         # 設定參數預設值，高 = 12\n",
    "    return width * height\n",
    "\n",
    "area5 = GetArea(6)                     # 參數值只設定寬 = 6\n",
    "print(\"面積為：%d\" %(area5))            # 印出矩形面積值(整數值)"
   ]
  },
  {
   "cell_type": "markdown",
   "metadata": {},
   "source": [
    ">寫法六："
   ]
  },
  {
   "cell_type": "code",
   "execution_count": 6,
   "metadata": {},
   "outputs": [
    {
     "name": "stdout",
     "output_type": "stream",
     "text": [
      "面積為：54\n"
     ]
    }
   ],
   "source": [
    "def GetArea(width, height=12):         # 設定參數預設值，高 = 12\n",
    "    return width * height\n",
    "\n",
    "area6 = GetArea(6, 9)                  # 參數值設定寬 = 6，高 = 9\n",
    "print(\"面積為：%d\" %(area6))            # 印出矩形面積值(整數值)"
   ]
  },
  {
   "cell_type": "markdown",
   "metadata": {},
   "source": [
    ">寫法七："
   ]
  },
  {
   "cell_type": "code",
   "execution_count": 7,
   "metadata": {},
   "outputs": [
    {
     "ename": "SyntaxError",
     "evalue": "non-default argument follows default argument (<ipython-input-7-2bf3cc25ae58>, line 1)",
     "output_type": "error",
     "traceback": [
      "\u001b[0;36m  File \u001b[0;32m\"<ipython-input-7-2bf3cc25ae58>\"\u001b[0;36m, line \u001b[0;32m1\u001b[0m\n\u001b[0;31m    def GetArea(width=18, height):         # 設定參數預設值，寬 = 18\u001b[0m\n\u001b[0m                                ^\u001b[0m\n\u001b[0;31mSyntaxError\u001b[0m\u001b[0;31m:\u001b[0m non-default argument follows default argument\n"
     ]
    }
   ],
   "source": [
    "def GetArea(width=18, height):         # 設定參數預設值，寬 = 18。若設定參數預設值必須置於參數串列的最後面，否則會執行錯誤\n",
    "    return width * height\n",
    "\n",
    "area7 = GetArea(9)                     # 參數值只設定高 = 9\n",
    "print(\"面積為：%d\" %(area7))            # 印出矩形面積值(整數值)"
   ]
  },
  {
   "cell_type": "code",
   "execution_count": null,
   "metadata": {},
   "outputs": [],
   "source": []
  }
 ],
 "metadata": {
  "kernelspec": {
   "display_name": "Python 3",
   "language": "python",
   "name": "python3"
  },
  "language_info": {
   "codemirror_mode": {
    "name": "ipython",
    "version": 3
   },
   "file_extension": ".py",
   "mimetype": "text/x-python",
   "name": "python",
   "nbconvert_exporter": "python",
   "pygments_lexer": "ipython3",
   "version": "3.9.1"
  }
 },
 "nbformat": 4,
 "nbformat_minor": 4
}
