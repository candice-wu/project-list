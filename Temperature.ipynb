{
 "cells": [
  {
   "cell_type": "markdown",
   "metadata": {},
   "source": [
    "# 攝氏溫度轉華氏溫度\n",
    "- **公式＝攝氏 * 1.8 + 32**"
   ]
  },
  {
   "cell_type": "markdown",
   "metadata": {},
   "source": [
    ">寫法一：利用變數"
   ]
  },
  {
   "cell_type": "code",
   "execution_count": 1,
   "metadata": {},
   "outputs": [
    {
     "name": "stdout",
     "output_type": "stream",
     "text": [
      "請輸入攝氏溫度：38\n",
      "華氏溫度為：100.40 度\n"
     ]
    }
   ],
   "source": [
    "Celsius = float(input(\"請輸入攝氏溫度：\"))\n",
    "Fahrenheit = Celsius * 1.8 + 32\n",
    "\n",
    "print(\"華氏溫度為：%5.2f 度\" %(Fahrenheit))"
   ]
  },
  {
   "cell_type": "markdown",
   "metadata": {},
   "source": [
    ">寫法二：利用函式"
   ]
  },
  {
   "cell_type": "code",
   "execution_count": 2,
   "metadata": {},
   "outputs": [
    {
     "name": "stdout",
     "output_type": "stream",
     "text": [
      "請輸入攝氏溫度：38\n",
      "華氏溫度為：100.40 度\n"
     ]
    }
   ],
   "source": [
    "def ctof(Celsius):\n",
    "    Fahrenheit = Celsius * 1.8 + 32\n",
    "    return Fahrenheit\n",
    "\n",
    "inputc = float(input(\"請輸入攝氏溫度：\"))\n",
    "print(\"華氏溫度為：%5.2f 度\" %(ctof(inputc)))"
   ]
  },
  {
   "cell_type": "code",
   "execution_count": null,
   "metadata": {},
   "outputs": [],
   "source": []
  }
 ],
 "metadata": {
  "kernelspec": {
   "display_name": "Python 3",
   "language": "python",
   "name": "python3"
  },
  "language_info": {
   "codemirror_mode": {
    "name": "ipython",
    "version": 3
   },
   "file_extension": ".py",
   "mimetype": "text/x-python",
   "name": "python",
   "nbconvert_exporter": "python",
   "pygments_lexer": "ipython3",
   "version": "3.9.1"
  }
 },
 "nbformat": 4,
 "nbformat_minor": 4
}
