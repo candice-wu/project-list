{
 "cells": [
  {
   "cell_type": "markdown",
   "metadata": {},
   "source": [
    "# 攝氏溫度轉華氏溫度\n",
    "- **公式＝攝氏 * 1.8 + 32**"
   ]
  },
  {
   "cell_type": "markdown",
   "metadata": {},
   "source": [
    ">寫法一：利用變數"
   ]
  },
  {
   "cell_type": "code",
   "execution_count": 1,
   "metadata": {},
   "outputs": [
    {
     "name": "stdout",
     "output_type": "stream",
     "text": [
      "請輸入攝氏溫度：100\n",
      "華氏溫度為：212.00 度\n"
     ]
    }
   ],
   "source": [
    "Celsius = float(input(\"請輸入攝氏溫度：\"))\n",
    "Fahrenheit = Celsius * 1.8 + 32\n",
    "\n",
    "print(\"華氏溫度為：%5.2f 度\" %(Fahrenheit))"
   ]
  },
  {
   "cell_type": "markdown",
   "metadata": {},
   "source": [
    ">寫法二：利用函式"
   ]
  },
  {
   "cell_type": "code",
   "execution_count": 2,
   "metadata": {},
   "outputs": [
    {
     "name": "stdout",
     "output_type": "stream",
     "text": [
      "請輸入攝氏溫度：100\n",
      "華氏溫度為：212.00 度\n"
     ]
    }
   ],
   "source": [
    "def ctof(Celsius):\n",
    "    Fahrenheit = Celsius * 1.8 + 32\n",
    "    return Fahrenheit\n",
    "\n",
    "inputc = float(input(\"請輸入攝氏溫度：\"))\n",
    "print(\"華氏溫度為：%5.2f 度\" %(ctof(inputc)))"
   ]
  },
  {
   "cell_type": "markdown",
   "metadata": {},
   "source": [
    "# 華氏溫度轉攝氏溫度\n",
    "- **公式＝(華氏 - 32) * 5/ 9**"
   ]
  },
  {
   "cell_type": "code",
   "execution_count": 3,
   "metadata": {},
   "outputs": [
    {
     "name": "stdout",
     "output_type": "stream",
     "text": [
      "0 -17.77777777777778\n",
      "10 -12.222222222222221\n",
      "20 -6.666666666666667\n",
      "30 -1.1111111111111112\n",
      "40 4.444444444444445\n",
      "50 10.0\n",
      "60 15.555555555555555\n",
      "70 21.11111111111111\n",
      "80 26.666666666666668\n",
      "90 32.22222222222222\n",
      "100 37.77777777777778\n"
     ]
    }
   ],
   "source": [
    "def ftoc(Fahrenheit):\n",
    "    return (Fahrenheit - 32) * 5/9             # Celsius 回傳值＝(Fahrenheit - 32) * 5/9\n",
    "    \n",
    "for Fahrenheit in range(0, 100+1, 10):         # Fahrenheit 溫度輸入值由0至100度，且遞增值＝10\n",
    "    print(Fahrenheit, ftoc(Fahrenheit))"
   ]
  },
  {
   "cell_type": "code",
   "execution_count": 4,
   "metadata": {},
   "outputs": [
    {
     "name": "stdout",
     "output_type": "stream",
     "text": [
      "  0 F | -17.78 C\n",
      " 10 F | -12.22 C\n",
      " 20 F |  -6.67 C\n",
      " 30 F |  -1.11 C\n",
      " 40 F |   4.44 C\n",
      " 50 F |  10.00 C\n",
      " 60 F |  15.56 C\n",
      " 70 F |  21.11 C\n",
      " 80 F |  26.67 C\n",
      " 90 F |  32.22 C\n",
      "100 F |  37.78 C\n"
     ]
    }
   ],
   "source": [
    "def ftoc(Fahrenheit):\n",
    "    return (Fahrenheit - 32) * 5/9\n",
    "\n",
    "for Fahrenheit in range(0, 100+1, 10):\n",
    "    print(\"{:3} F | {:6.2f} C\" .format(Fahrenheit, ftoc(Fahrenheit)))"
   ]
  },
  {
   "cell_type": "code",
   "execution_count": 8,
   "metadata": {},
   "outputs": [
    {
     "name": "stdout",
     "output_type": "stream",
     "text": [
      "0   F | -17.78 C\n",
      "10  F | -12.22 C\n",
      "20  F | -6.67  C\n",
      "30  F | -1.11  C\n",
      "40  F | 4.44   C\n",
      "50  F | 10.00  C\n",
      "60  F | 15.56  C\n",
      "70  F | 21.11  C\n",
      "80  F | 26.67  C\n",
      "90  F | 32.22  C\n",
      "100 F | 37.78  C\n"
     ]
    }
   ],
   "source": [
    "def ftoc(Fahrenheit):\n",
    "    return (Fahrenheit - 32) * 5/9\n",
    "\n",
    "for Fahrenheit in range(0, 100+1, 10):\n",
    "    print(\"{:<3} F | {:<6.2f} C\" .format(Fahrenheit, ftoc(Fahrenheit)))\n",
    "    \n",
    "    # {:<3} and {:<6.2f} using the lower than operator to align text to the left"
   ]
  },
  {
   "cell_type": "code",
   "execution_count": 6,
   "metadata": {},
   "outputs": [
    {
     "name": "stdout",
     "output_type": "stream",
     "text": [
      "  0 F | -17.78 C\n",
      " 10 F | -12.22 C\n",
      " 20 F |  -6.67 C\n",
      " 30 F |  -1.11 C\n",
      " 40 F |   4.44 C\n",
      " 50 F |  10.00 C\n",
      " 60 F |  15.56 C\n",
      " 70 F |  21.11 C\n",
      " 80 F |  26.67 C\n",
      " 90 F |  32.22 C\n",
      "100 F |  37.78 C\n"
     ]
    }
   ],
   "source": [
    "def ftoc(Fahrenheit):\n",
    "    return (Fahrenheit - 32) * 5/9\n",
    "\n",
    "for Fahrenheit in range(0, 100+1, 10):\n",
    "    print(\"%3d F | %6.2f C\" %(Fahrenheit, ftoc(Fahrenheit)))"
   ]
  },
  {
   "cell_type": "code",
   "execution_count": 7,
   "metadata": {},
   "outputs": [
    {
     "name": "stdout",
     "output_type": "stream",
     "text": [
      "0   F | -17.78 C\n",
      "10  F | -12.22 C\n",
      "20  F | -6.67  C\n",
      "30  F | -1.11  C\n",
      "40  F | 4.44   C\n",
      "50  F | 10.00  C\n",
      "60  F | 15.56  C\n",
      "70  F | 21.11  C\n",
      "80  F | 26.67  C\n",
      "90  F | 32.22  C\n",
      "100 F | 37.78  C\n"
     ]
    }
   ],
   "source": [
    "def ftoc(Fahrenheit):\n",
    "    return (Fahrenheit - 32) * 5/9\n",
    "\n",
    "for Fahrenheit in range(0, 100+1, 10):\n",
    "    print(\"%-3d F | %-6.2f C\" %(Fahrenheit, ftoc(Fahrenheit)))   # %-3d 與 %-6.2f 加一個減號，表示靠左對齊"
   ]
  },
  {
   "cell_type": "code",
   "execution_count": null,
   "metadata": {},
   "outputs": [],
   "source": []
  }
 ],
 "metadata": {
  "kernelspec": {
   "display_name": "Python 3",
   "language": "python",
   "name": "python3"
  },
  "language_info": {
   "codemirror_mode": {
    "name": "ipython",
    "version": 3
   },
   "file_extension": ".py",
   "mimetype": "text/x-python",
   "name": "python",
   "nbconvert_exporter": "python",
   "pygments_lexer": "ipython3",
   "version": "3.9.1"
  }
 },
 "nbformat": 4,
 "nbformat_minor": 4
}
