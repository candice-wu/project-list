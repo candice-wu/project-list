{
 "cells": [
  {
   "cell_type": "markdown",
   "metadata": {},
   "source": [
    "### 使用break函數強制離開迴圈"
   ]
  },
  {
   "cell_type": "code",
   "execution_count": 1,
   "metadata": {},
   "outputs": [
    {
     "name": "stdout",
     "output_type": "stream",
     "text": [
      "1,2,3,4,5,"
     ]
    }
   ],
   "source": [
    "for i in range(1, 11):\n",
    "    if (i == 6):\n",
    "        break             # 當執行到 6，則以break函數強制離開迴圈\n",
    "    print(i, end = \",\")"
   ]
  },
  {
   "cell_type": "markdown",
   "metadata": {},
   "source": [
    "# 質數判斷"
   ]
  },
  {
   "cell_type": "markdown",
   "metadata": {},
   "source": [
    "> 輸入一個大於1的整數，判斷該數是否為質數\n",
    ">> **for...else迴圈，通常和 if 及 break 函數配合使用**"
   ]
  },
  {
   "cell_type": "code",
   "execution_count": 2,
   "metadata": {},
   "outputs": [
    {
     "name": "stdout",
     "output_type": "stream",
     "text": [
      "請輸入大於1的整數：29\n",
      "29 是質數！\n"
     ]
    }
   ],
   "source": [
    "n = int(input(\"請輸入大於1的整數：\"))\n",
    "\n",
    "if (n == 2):\n",
    "    print(\"2 是質數！\")\n",
    "else:\n",
    "    for i in range(2, n):\n",
    "        if (n % i == 0):\n",
    "            print(\"%d 不是質數！\" %(n))\n",
    "            break\n",
    "    else:\n",
    "        print(\"%d 是質數！\" %(n))"
   ]
  },
  {
   "cell_type": "code",
   "execution_count": null,
   "metadata": {},
   "outputs": [],
   "source": []
  }
 ],
 "metadata": {
  "kernelspec": {
   "display_name": "Python 3",
   "language": "python",
   "name": "python3"
  },
  "language_info": {
   "codemirror_mode": {
    "name": "ipython",
    "version": 3
   },
   "file_extension": ".py",
   "mimetype": "text/x-python",
   "name": "python",
   "nbconvert_exporter": "python",
   "pygments_lexer": "ipython3",
   "version": "3.9.1"
  }
 },
 "nbformat": 4,
 "nbformat_minor": 4
}
