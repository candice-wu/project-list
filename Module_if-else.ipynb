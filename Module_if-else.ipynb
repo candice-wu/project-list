{
 "cells": [
  {
   "cell_type": "markdown",
   "id": "vulnerable-question",
   "metadata": {},
   "source": [
    "# 判斷是否為正數"
   ]
  },
  {
   "cell_type": "code",
   "execution_count": 1,
   "id": "pregnant-silver",
   "metadata": {},
   "outputs": [
    {
     "name": "stdout",
     "output_type": "stream",
     "text": [
      "False\n",
      "False\n",
      "True\n"
     ]
    }
   ],
   "source": [
    "def is_positive(number):\n",
    "    if number > 0:\n",
    "        return True\n",
    "    else:\n",
    "        return False\n",
    "\n",
    "num_a = is_positive(-5)\n",
    "num_b = is_positive(0)\n",
    "num_c = is_positive(10)\n",
    "\n",
    "print(num_a)\n",
    "print(num_b)\n",
    "print(num_c)"
   ]
  },
  {
   "cell_type": "code",
   "execution_count": 2,
   "id": "executed-mount",
   "metadata": {},
   "outputs": [
    {
     "name": "stdout",
     "output_type": "stream",
     "text": [
      "Positive\n",
      "Zero\n",
      "Negative\n"
     ]
    }
   ],
   "source": [
    "def number_group(number):\n",
    "    if number > 0:\n",
    "        return \"Positive\"\n",
    "    elif number < 0:\n",
    "        return \"Negative\"\n",
    "    else:\n",
    "        return \"Zero\"\n",
    "\n",
    "print(number_group(10))    #Should be Positive\n",
    "print(number_group(0))     #Should be Zero\n",
    "print(number_group(-5))    #Should be Negative"
   ]
  },
  {
   "cell_type": "markdown",
   "id": "rural-norway",
   "metadata": {},
   "source": [
    "# 判斷是否為偶數"
   ]
  },
  {
   "cell_type": "code",
   "execution_count": 3,
   "id": "growing-halifax",
   "metadata": {},
   "outputs": [
    {
     "name": "stdout",
     "output_type": "stream",
     "text": [
      "False\n",
      "True\n",
      "True\n"
     ]
    }
   ],
   "source": [
    "def is_even(number):\n",
    "    if number % 2 == 0:\n",
    "        return True\n",
    "    return False\n",
    "\n",
    "num_x = is_even(-5)\n",
    "num_y = is_even(0)\n",
    "num_z = is_even(10)\n",
    "\n",
    "print(num_x)\n",
    "print(num_y)\n",
    "print(num_z)"
   ]
  },
  {
   "cell_type": "markdown",
   "id": "independent-floating",
   "metadata": {},
   "source": [
    "# 命名字數限制"
   ]
  },
  {
   "cell_type": "code",
   "execution_count": 4,
   "id": "better-layer",
   "metadata": {},
   "outputs": [
    {
     "name": "stdout",
     "output_type": "stream",
     "text": [
      "Valid username!\n",
      "Invalid username! Must be as least 3 characters long.\n"
     ]
    }
   ],
   "source": [
    "def hint_username(username):\n",
    "    if len(username) < 3:\n",
    "        print(\"Invalid username! Must be as least 3 characters long.\")\n",
    "    else:\n",
    "        print(\"Valid username!\")\n",
    "\n",
    "hint_username(\"Kathy\")\n",
    "hint_username(\"Li\")"
   ]
  },
  {
   "cell_type": "code",
   "execution_count": 5,
   "id": "australian-queens",
   "metadata": {},
   "outputs": [
    {
     "name": "stdout",
     "output_type": "stream",
     "text": [
      "Kathy is 5 words. Valid username!\n",
      "Li is 2 words. Invalid username! Must be as least 3 characters long.\n",
      "Catherine Chang is 15 words. Invalid username! Must be as most 10 characters long.\n"
     ]
    }
   ],
   "source": [
    "def hint_username(username):\n",
    "    if len(username) < 3:\n",
    "        print(username + \" is \" + str(len(username)) + \" words.\" + \" Invalid username! Must be as least 3 characters long.\")\n",
    "    else:\n",
    "        if len(username) > 10:\n",
    "            print(username + \" is \" + str(len(username)) + \" words.\" + \" Invalid username! Must be as most 10 characters long.\")\n",
    "        else:\n",
    "            print(username + \" is \" + str(len(username)) + \" words.\" + \" Valid username!\")\n",
    "\n",
    "hint_username(\"Kathy\")\n",
    "hint_username(\"Li\")\n",
    "hint_username(\"Catherine Chang\")"
   ]
  },
  {
   "cell_type": "code",
   "execution_count": 6,
   "id": "coordinated-malpractice",
   "metadata": {},
   "outputs": [
    {
     "name": "stdout",
     "output_type": "stream",
     "text": [
      "Kathy is 5 words. Valid username!\n",
      "Li is 2 words. Invalid username! Must be as least 3 characters long.\n",
      "Catherine Chang is 15 words. Invalid username! Must be as most 10 characters long.\n"
     ]
    }
   ],
   "source": [
    "def hint_username(username):\n",
    "    if len(username) < 3:\n",
    "        print(username + \" is \" + str(len(username)) + \" words.\" + \" Invalid username! Must be as least 3 characters long.\")\n",
    "    elif len(username) > 10:\n",
    "        print(username + \" is \" + str(len(username)) + \" words.\" + \" Invalid username! Must be as most 10 characters long.\")\n",
    "    else:\n",
    "        print(username + \" is \" + str(len(username)) + \" words.\" + \" Valid username!\")\n",
    "\n",
    "hint_username(\"Kathy\")\n",
    "hint_username(\"Li\")\n",
    "hint_username(\"Catherine Chang\")"
   ]
  },
  {
   "cell_type": "markdown",
   "id": "resistant-overview",
   "metadata": {},
   "source": [
    "# 判斷是否為指定人名"
   ]
  },
  {
   "cell_type": "code",
   "execution_count": 7,
   "id": "elementary-religious",
   "metadata": {},
   "outputs": [
    {
     "name": "stdout",
     "output_type": "stream",
     "text": [
      "Welcome back Taylor!\n",
      "Hello there, Alex\n",
      "Hello there, Joe\n"
     ]
    }
   ],
   "source": [
    "def greeting(name):\n",
    "    if name == \"Taylor\":\n",
    "        return \"Welcome back Taylor!\"\n",
    "    else:\n",
    "        return \"Hello there, \" + name\n",
    "    \n",
    "print(greeting(\"Taylor\"))\n",
    "print(greeting(\"Alex\"))\n",
    "print(greeting(\"Joe\"))"
   ]
  },
  {
   "cell_type": "markdown",
   "id": "english-unknown",
   "metadata": {},
   "source": [
    "# 計算檔案大小與儲存容量\n",
    "> If a filesystem has a block size of 4096 bytes, this means that a file comprised of only one byte will still use 4096 bytes of storage. A file made up of 4097 bytes will use 4096*2=8192 bytes of storage. Knowing this, please popose a calculate_storage function to calculate the total number of bytes needed to store a file of a given size."
   ]
  },
  {
   "cell_type": "code",
   "execution_count": 8,
   "id": "entire-joyce",
   "metadata": {},
   "outputs": [
    {
     "name": "stdout",
     "output_type": "stream",
     "text": [
      "4096\n",
      "4096\n",
      "8192\n",
      "8192\n",
      "8192\n"
     ]
    }
   ],
   "source": [
    "def calculate_storage(filesize):\n",
    "    block_size = 4096\n",
    "    \n",
    "    # Use floor division to calculate how many blocks are fully occupied\n",
    "    full_blocks = (filesize // 4096)\n",
    "    \n",
    "    # Use the modulo operator to check whether there's any remainder\n",
    "    partial_block_remainder = (filesize % 4096)\n",
    "    \n",
    "    # Depending on whether there's a remainder or not, return\n",
    "    # the total number of bytes required to allocate enough blocks\n",
    "    # to store your data.\n",
    "    if partial_block_remainder > 0:\n",
    "        return ((full_blocks + 1) * block_size)\n",
    "    return (full_blocks * block_size)\n",
    "\n",
    "print(calculate_storage(1))    # Should be 4096\n",
    "print(calculate_storage(4096)) # Should be 4096\n",
    "print(calculate_storage(4097)) # Should be 8192\n",
    "print(calculate_storage(6000)) # Should be 8192\n",
    "print(calculate_storage(8192)) # Should be 8192"
   ]
  },
  {
   "cell_type": "markdown",
   "id": "ceramic-folks",
   "metadata": {},
   "source": [
    "# 顏色轉換16進制\n",
    "> The color_translator function receives the name of a color, then prints its hexadecimal value. Currently, it only supports the three additive primary colors (red, green, blue), so it returns \"unknown\" for all other colors."
   ]
  },
  {
   "cell_type": "code",
   "execution_count": 9,
   "id": "agricultural-chain",
   "metadata": {},
   "outputs": [
    {
     "name": "stdout",
     "output_type": "stream",
     "text": [
      "#0000ff\n",
      "unknown\n",
      "#ff0000\n",
      "unknown\n",
      "#00ff00\n",
      "unknown\n"
     ]
    }
   ],
   "source": [
    "def color_translator(color):\n",
    "    if color == \"red\":\n",
    "        hex_color = \"#ff0000\"\n",
    "    elif color == \"green\":\n",
    "        hex_color = \"#00ff00\"\n",
    "    elif color == \"blue\":\n",
    "        hex_color = \"#0000ff\"\n",
    "    else:\n",
    "        hex_color = \"unknown\"\n",
    "    return hex_color\n",
    "\n",
    "print(color_translator(\"blue\"))\n",
    "print(color_translator(\"yellow\"))\n",
    "print(color_translator(\"red\"))\n",
    "print(color_translator(\"black\"))\n",
    "print(color_translator(\"green\"))\n",
    "print(color_translator(\"\"))"
   ]
  },
  {
   "cell_type": "markdown",
   "id": "protected-footwear",
   "metadata": {},
   "source": [
    "# 成績判斷\n",
    "> Students in a class receive their grades as Pass/Fail. Scores of 60 or more (out of 100) mean that the grade is \"Pass\". For lower scores, the grade is \"Fail\". In addition, scores above 95 (not included) are graded as \"Top Score\"."
   ]
  },
  {
   "cell_type": "code",
   "execution_count": 10,
   "id": "canadian-rebecca",
   "metadata": {},
   "outputs": [
    {
     "name": "stdout",
     "output_type": "stream",
     "text": [
      "Pass\n",
      "Fail\n",
      "Pass\n",
      "Pass\n",
      "Top Score\n",
      "Fail\n"
     ]
    }
   ],
   "source": [
    "def exam_grade(score):\n",
    "    if score > 95:\n",
    "        grade = \"Top Score\"\n",
    "    elif score >= 60:\n",
    "        grade = \"Pass\"\n",
    "    else:\n",
    "        grade = \"Fail\"\n",
    "    return grade\n",
    "\n",
    "print(exam_grade(65))\n",
    "print(exam_grade(55))\n",
    "print(exam_grade(60))\n",
    "print(exam_grade(95))\n",
    "print(exam_grade(100))\n",
    "print(exam_grade(0))"
   ]
  },
  {
   "cell_type": "markdown",
   "id": "affecting-butterfly",
   "metadata": {},
   "source": [
    "# 字串接收與列印\n",
    "> This function receives the first_name and last_name parameters and then returns a properly formatted string."
   ]
  },
  {
   "cell_type": "code",
   "execution_count": 11,
   "id": "cheap-shanghai",
   "metadata": {},
   "outputs": [
    {
     "name": "stdout",
     "output_type": "stream",
     "text": [
      "Name: Hemingway, Ernest\n",
      "Name: Madonna\n",
      "Name: Voltaire\n",
      "\n"
     ]
    }
   ],
   "source": [
    "def format_name(first_name, last_name):\n",
    "    if (len(last_name) > 0) and (len(first_name) > 0):\n",
    "        return (\"Name: \" + last_name + \", \" + first_name)\n",
    "    elif (len(last_name) > 0):\n",
    "        return (\"Name: \" + last_name)\n",
    "    elif (len(first_name) > 0):\n",
    "        return (\"Name: \" + first_name)\n",
    "    else:\n",
    "        return \"\"\n",
    "\n",
    "print(format_name(\"Ernest\", \"Hemingway\"))\n",
    "# Should return the string \"Name: Hemingway, Ernest\"\n",
    "\n",
    "print(format_name(\"\", \"Madonna\"))\n",
    "# Should return the string \"Name: Madonna\"\n",
    "\n",
    "print(format_name(\"Voltaire\", \"\"))\n",
    "# Should return the string \"Name: Voltaire\"\n",
    "\n",
    "print(format_name(\"\", \"\"))\n",
    "# Should return an empty string"
   ]
  },
  {
   "cell_type": "markdown",
   "id": "digital-manitoba",
   "metadata": {},
   "source": [
    "# 單字長度比較\n",
    "> The longest_word function is used to compare 3 words. It should return the word with the most number of characters (and the first in the list when they have the same length)."
   ]
  },
  {
   "cell_type": "code",
   "execution_count": 12,
   "id": "radical-recommendation",
   "metadata": {},
   "outputs": [
    {
     "name": "stdout",
     "output_type": "stream",
     "text": [
      "chair\n",
      "beyond\n",
      "notebook\n"
     ]
    }
   ],
   "source": [
    "def longest_word(word1, word2, word3):\n",
    "    if len(word1) >= len(word2) and len(word1) >= len(word3):\n",
    "        word = word1\n",
    "    elif len(word2) >= len(word1) and len(word2) >= len(word3):\n",
    "        word = word2\n",
    "    else:\n",
    "        word = word3\n",
    "    return(word)\n",
    "\n",
    "print(longest_word(\"chair\", \"couch\", \"table\"))\n",
    "print(longest_word(\"bed\", \"bath\", \"beyond\"))\n",
    "print(longest_word(\"laptop\", \"notebook\", \"desktop\"))"
   ]
  },
  {
   "cell_type": "markdown",
   "id": "pregnant-lebanon",
   "metadata": {},
   "source": [
    "# 數字運算 - 除法\n",
    "> The fractional_part function divides the numerator by the denominator, and returns just the fractional part (a number between 0 and 1).\n",
    "\n",
    "> Note: Since division by 0 produces an error, if the denominator is 0, the function should return 0 instead of attempting the division."
   ]
  },
  {
   "cell_type": "code",
   "execution_count": 13,
   "id": "coastal-authority",
   "metadata": {},
   "outputs": [
    {
     "name": "stdout",
     "output_type": "stream",
     "text": [
      "0.0\n",
      "0.25\n",
      "0.6666666666666667\n",
      "0.5\n",
      "0\n",
      "0\n"
     ]
    }
   ],
   "source": [
    "# Operate with numerator and denominator to keep just the fractional part of the quotient\n",
    "\n",
    "def fractional_part(numerator, denominator):\n",
    "    if (numerator == 0 ) or (denominator == 0):\n",
    "        return 0\n",
    "    elif (numerator > 0) or (denominator > 0):\n",
    "        return float(numerator / denominator) - int(numerator / denominator)\n",
    "    else:\n",
    "        return 0\n",
    "\n",
    "print(fractional_part(5, 5))   # Should be 0\n",
    "print(fractional_part(5, 4))   # Should be 0.25\n",
    "print(fractional_part(5, 3))   # Should be 0.66...\n",
    "print(fractional_part(5, 2))   # Should be 0.5\n",
    "print(fractional_part(5, 0))   # Should be 0\n",
    "print(fractional_part(0, 5))   # Should be 0"
   ]
  },
  {
   "cell_type": "code",
   "execution_count": null,
   "id": "accurate-bridal",
   "metadata": {},
   "outputs": [],
   "source": []
  }
 ],
 "metadata": {
  "kernelspec": {
   "display_name": "Python 3",
   "language": "python",
   "name": "python3"
  },
  "language_info": {
   "codemirror_mode": {
    "name": "ipython",
    "version": 3
   },
   "file_extension": ".py",
   "mimetype": "text/x-python",
   "name": "python",
   "nbconvert_exporter": "python",
   "pygments_lexer": "ipython3",
   "version": "3.9.1"
  }
 },
 "nbformat": 4,
 "nbformat_minor": 5
}
