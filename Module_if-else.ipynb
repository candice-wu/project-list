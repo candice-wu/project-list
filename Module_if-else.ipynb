{
 "cells": [
  {
   "cell_type": "markdown",
   "id": "vulnerable-question",
   "metadata": {},
   "source": [
    "# 判斷是否為正數"
   ]
  },
  {
   "cell_type": "code",
   "execution_count": 1,
   "id": "pregnant-silver",
   "metadata": {},
   "outputs": [
    {
     "name": "stdout",
     "output_type": "stream",
     "text": [
      "False\n",
      "False\n",
      "True\n"
     ]
    }
   ],
   "source": [
    "def is_positive(number):\n",
    "    if number > 0:\n",
    "        return True\n",
    "    else:\n",
    "        return False\n",
    "\n",
    "num_a = is_positive(-5)\n",
    "num_b = is_positive(0)\n",
    "num_c = is_positive(10)\n",
    "\n",
    "print(num_a)\n",
    "print(num_b)\n",
    "print(num_c)"
   ]
  },
  {
   "cell_type": "code",
   "execution_count": 2,
   "id": "executed-mount",
   "metadata": {},
   "outputs": [
    {
     "name": "stdout",
     "output_type": "stream",
     "text": [
      "Positive\n",
      "Zero\n",
      "Negative\n"
     ]
    }
   ],
   "source": [
    "def number_group(number):\n",
    "    if number > 0:\n",
    "        return \"Positive\"\n",
    "    elif number < 0:\n",
    "        return \"Negative\"\n",
    "    else:\n",
    "        return \"Zero\"\n",
    "\n",
    "print(number_group(10))    #Should be Positive\n",
    "print(number_group(0))     #Should be Zero\n",
    "print(number_group(-5))    #Should be Negative"
   ]
  },
  {
   "cell_type": "markdown",
   "id": "rural-norway",
   "metadata": {},
   "source": [
    "# 判斷是否為偶數"
   ]
  },
  {
   "cell_type": "code",
   "execution_count": 3,
   "id": "growing-halifax",
   "metadata": {},
   "outputs": [
    {
     "name": "stdout",
     "output_type": "stream",
     "text": [
      "False\n",
      "True\n",
      "True\n"
     ]
    }
   ],
   "source": [
    "def is_even(number):\n",
    "    if number % 2 == 0:\n",
    "        return True\n",
    "    return False\n",
    "\n",
    "num_x = is_even(-5)\n",
    "num_y = is_even(0)\n",
    "num_z = is_even(10)\n",
    "\n",
    "print(num_x)\n",
    "print(num_y)\n",
    "print(num_z)"
   ]
  },
  {
   "cell_type": "markdown",
   "id": "independent-floating",
   "metadata": {},
   "source": [
    "# 命名字數限制"
   ]
  },
  {
   "cell_type": "code",
   "execution_count": 4,
   "id": "better-layer",
   "metadata": {},
   "outputs": [
    {
     "name": "stdout",
     "output_type": "stream",
     "text": [
      "Valid username!\n",
      "Invalid username! Must be as least 3 characters long.\n"
     ]
    }
   ],
   "source": [
    "def hint_username(username):\n",
    "    if len(username) < 3:\n",
    "        print(\"Invalid username! Must be as least 3 characters long.\")\n",
    "    else:\n",
    "        print(\"Valid username!\")\n",
    "\n",
    "hint_username(\"Kathy\")\n",
    "hint_username(\"Li\")"
   ]
  },
  {
   "cell_type": "code",
   "execution_count": 5,
   "id": "australian-queens",
   "metadata": {},
   "outputs": [
    {
     "name": "stdout",
     "output_type": "stream",
     "text": [
      "Kathy is 5 words. Valid username!\n",
      "Li is 2 words. Invalid username! Must be as least 3 characters long.\n",
      "Catherine Chang is 15 words. Invalid username! Must be as most 10 characters long.\n"
     ]
    }
   ],
   "source": [
    "def hint_username(username):\n",
    "    if len(username) < 3:\n",
    "        print(username + \" is \" + str(len(username)) + \" words.\" + \" Invalid username! Must be as least 3 characters long.\")\n",
    "    else:\n",
    "        if len(username) > 10:\n",
    "            print(username + \" is \" + str(len(username)) + \" words.\" + \" Invalid username! Must be as most 10 characters long.\")\n",
    "        else:\n",
    "            print(username + \" is \" + str(len(username)) + \" words.\" + \" Valid username!\")\n",
    "\n",
    "hint_username(\"Kathy\")\n",
    "hint_username(\"Li\")\n",
    "hint_username(\"Catherine Chang\")"
   ]
  },
  {
   "cell_type": "code",
   "execution_count": 6,
   "id": "coordinated-malpractice",
   "metadata": {},
   "outputs": [
    {
     "name": "stdout",
     "output_type": "stream",
     "text": [
      "Kathy is 5 words. Valid username!\n",
      "Li is 2 words. Invalid username! Must be as least 3 characters long.\n",
      "Catherine Chang is 15 words. Invalid username! Must be as most 10 characters long.\n"
     ]
    }
   ],
   "source": [
    "def hint_username(username):\n",
    "    if len(username) < 3:\n",
    "        print(username + \" is \" + str(len(username)) + \" words.\" + \" Invalid username! Must be as least 3 characters long.\")\n",
    "    elif len(username) > 10:\n",
    "        print(username + \" is \" + str(len(username)) + \" words.\" + \" Invalid username! Must be as most 10 characters long.\")\n",
    "    else:\n",
    "        print(username + \" is \" + str(len(username)) + \" words.\" + \" Valid username!\")\n",
    "\n",
    "hint_username(\"Kathy\")\n",
    "hint_username(\"Li\")\n",
    "hint_username(\"Catherine Chang\")"
   ]
  },
  {
   "cell_type": "markdown",
   "id": "resistant-overview",
   "metadata": {},
   "source": [
    "# 判斷是否為指定人名"
   ]
  },
  {
   "cell_type": "code",
   "execution_count": 7,
   "id": "elementary-religious",
   "metadata": {},
   "outputs": [
    {
     "name": "stdout",
     "output_type": "stream",
     "text": [
      "Welcome back Taylor!\n",
      "Hello there, Alex\n",
      "Hello there, Joe\n"
     ]
    }
   ],
   "source": [
    "def greeting(name):\n",
    "    if name == \"Taylor\":\n",
    "        return \"Welcome back Taylor!\"\n",
    "    else:\n",
    "        return \"Hello there, \" + name\n",
    "    \n",
    "print(greeting(\"Taylor\"))\n",
    "print(greeting(\"Alex\"))\n",
    "print(greeting(\"Joe\"))"
   ]
  },
  {
   "cell_type": "markdown",
   "id": "english-unknown",
   "metadata": {},
   "source": [
    "# 計算檔案大小與儲存容量\n",
    "> If a filesystem has a block size of 4096 bytes, this means that a file comprised of only one byte will still use 4096 bytes of storage. A file made up of 4097 bytes will use 4096*2=8192 bytes of storage. Knowing this, please popose a calculate_storage function to calculate the total number of bytes needed to store a file of a given size."
   ]
  },
  {
   "cell_type": "code",
   "execution_count": 8,
   "id": "entire-joyce",
   "metadata": {},
   "outputs": [
    {
     "name": "stdout",
     "output_type": "stream",
     "text": [
      "4096\n",
      "4096\n",
      "8192\n",
      "8192\n",
      "8192\n"
     ]
    }
   ],
   "source": [
    "def calculate_storage(filesize):\n",
    "    block_size = 4096\n",
    "    \n",
    "    # Use floor division to calculate how many blocks are fully occupied\n",
    "    full_blocks = (filesize // 4096)\n",
    "    \n",
    "    # Use the modulo operator to check whether there's any remainder\n",
    "    partial_block_remainder = (filesize % 4096)\n",
    "    \n",
    "    # Depending on whether there's a remainder or not, return\n",
    "    # the total number of bytes required to allocate enough blocks\n",
    "    # to store your data.\n",
    "    if partial_block_remainder > 0:\n",
    "        return ((full_blocks + 1) * block_size)\n",
    "    return (full_blocks * block_size)\n",
    "\n",
    "print(calculate_storage(1))    # Should be 4096\n",
    "print(calculate_storage(4096)) # Should be 4096\n",
    "print(calculate_storage(4097)) # Should be 8192\n",
    "print(calculate_storage(6000)) # Should be 8192\n",
    "print(calculate_storage(8192)) # Should be 8192"
   ]
  },
  {
   "cell_type": "code",
   "execution_count": null,
   "id": "overhead-richards",
   "metadata": {},
   "outputs": [],
   "source": []
  }
 ],
 "metadata": {
  "kernelspec": {
   "display_name": "Python 3",
   "language": "python",
   "name": "python3"
  },
  "language_info": {
   "codemirror_mode": {
    "name": "ipython",
    "version": 3
   },
   "file_extension": ".py",
   "mimetype": "text/x-python",
   "name": "python",
   "nbconvert_exporter": "python",
   "pygments_lexer": "ipython3",
   "version": "3.9.1"
  }
 },
 "nbformat": 4,
 "nbformat_minor": 5
}
