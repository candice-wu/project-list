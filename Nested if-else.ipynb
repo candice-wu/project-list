{
 "cells": [
  {
   "cell_type": "markdown",
   "metadata": {},
   "source": [
    "# Nested if-else statement 巢狀判斷式"
   ]
  },
  {
   "cell_type": "markdown",
   "metadata": {},
   "source": [
    "### [比數字大小]\n",
    "> 輸入三個正整數，找出最大值\n",
    ">> 寫法一："
   ]
  },
  {
   "cell_type": "code",
   "execution_count": 20,
   "metadata": {},
   "outputs": [
    {
     "name": "stdout",
     "output_type": "stream",
     "text": [
      "請輸入第一個正整數：1\n",
      "請輸入第二個正整數：2\n",
      "請輸入第三個正整數：2\n",
      "2 is the biggest number.\n"
     ]
    }
   ],
   "source": [
    "a = int(input(\"請輸入第一個正整數：\"))\n",
    "b = int(input(\"請輸入第二個正整數：\"))\n",
    "c = int(input(\"請輸入第三個正整數：\"))\n",
    "\n",
    "if a >= b:\n",
    "    if a >= c:\n",
    "        print(a, \"is the biggest number.\")   #用逗號隔開，則程式會自動以字串組成且印出；則變數值前不用再加上str()\n",
    "    else:\n",
    "        print(c, \"is the biggest number.\")\n",
    "else:\n",
    "    if b >= c:\n",
    "        print(b, \"is the biggest number.\")\n",
    "    else:\n",
    "        print(c, \"is the biggest number.\")"
   ]
  },
  {
   "cell_type": "markdown",
   "metadata": {},
   "source": [
    "### [比數字大小]\n",
    "> 輸入三個正整數，找出最大值\n",
    ">> 寫法二："
   ]
  },
  {
   "cell_type": "code",
   "execution_count": 24,
   "metadata": {},
   "outputs": [
    {
     "name": "stdout",
     "output_type": "stream",
     "text": [
      "請輸入第一個正整數：10\n",
      "請輸入第二個正整數：10\n",
      "請輸入第三個正整數：3\n",
      "10 is the biggest number.\n"
     ]
    }
   ],
   "source": [
    "a = int(input(\"請輸入第一個正整數：\"))\n",
    "b = int(input(\"請輸入第二個正整數：\"))\n",
    "c = int(input(\"請輸入第三個正整數：\"))\n",
    "\n",
    "mid = 0                               #預設一個中間值，且預設值＝0\n",
    "\n",
    "if a >= b:\n",
    "    if a >= c:\n",
    "        mid = a\n",
    "    else:\n",
    "        mid = c\n",
    "else:\n",
    "    if b >= c:\n",
    "        mid = b\n",
    "    else:\n",
    "        mid = c\n",
    "\n",
    "print(mid, \"is the biggest number.\")  #將判斷後的值指派給 mid 並印出，節省撰寫多次 print() 指令"
   ]
  },
  {
   "cell_type": "markdown",
   "metadata": {},
   "source": [
    "### [比數字大小]\n",
    "> 輸入三個正整數，找出最大值\n",
    ">> 寫法三："
   ]
  },
  {
   "cell_type": "code",
   "execution_count": 28,
   "metadata": {},
   "outputs": [
    {
     "name": "stdout",
     "output_type": "stream",
     "text": [
      "請輸入第一個正整數：1\n",
      "請輸入第二個正整數：1\n",
      "請輸入第三個正整數：1\n",
      "1 is the biggest number.\n"
     ]
    }
   ],
   "source": [
    "a = int(input(\"請輸入第一個正整數：\"))\n",
    "b = int(input(\"請輸入第二個正整數：\"))\n",
    "c = int(input(\"請輸入第三個正整數：\"))\n",
    "\n",
    "mid = c                               #預設 c 就是最大值並指派給 mid\n",
    "\n",
    "if a >= b:\n",
    "    if a >= c:\n",
    "        mid = a                       # a 先後與 b, c 相比，當最大值 = a 則指派給 mid 以取代掉預設值 c\n",
    "else:\n",
    "    if b >= c:\n",
    "        mid = b                       # b 先後與 a, c 相比，當最大值 = b 則指派給 mid 以取代掉預設值 c\n",
    "\n",
    "print(mid, \"is the biggest number.\")  #將判斷後的最大值指派給 mid 並印出，節省撰寫多次 print() 指令"
   ]
  },
  {
   "cell_type": "markdown",
   "metadata": {},
   "source": [
    "### [購物折扣]\n",
    "   \n",
    "> 金額 100,000 以上打8折，金額 50,000 以上打85折，金額 30,000以上打9折，金額 10,000以上打95折\n",
    ">> 寫法一："
   ]
  },
  {
   "cell_type": "code",
   "execution_count": 13,
   "metadata": {},
   "outputs": [
    {
     "name": "stdout",
     "output_type": "stream",
     "text": [
      "請輸入消費金額：5000\n",
      "消費折扣後的金額為： 5000 元\n"
     ]
    }
   ],
   "source": [
    "money = int(input(\"請輸入消費金額：\"))\n",
    "\n",
    "if money >= 10000:\n",
    "    if money >= 100000:\n",
    "        print(\"消費折扣後的金額為：\", str(money*0.8), end = \" 元\\n\")      #打 8 折\n",
    "    elif money >= 50000:\n",
    "        print(\"消費折扣後的金額為：\", str(money*0.85), end = \" 元\\n\")     #打 85 折\n",
    "    elif money >= 30000:\n",
    "        print(\"消費折扣後的金額為：\", str(money*0.9), end = \" 元\\n\")      #打 9 折\n",
    "    else:\n",
    "        print(\"消費折扣後的金額為：\", str(money*0.95), end = \" 元\\n\")     #打 95 折\n",
    "else:\n",
    "    print(\"消費折扣後的金額為：\", str(money), end = \" 元\\n\")              #未打折，原價出售"
   ]
  },
  {
   "cell_type": "markdown",
   "metadata": {},
   "source": [
    "### [購物折扣]\n",
    "   \n",
    "> 金額 100,000 以上打8折，金額 50,000 以上打85折，金額 30,000以上打9折，金額 10,000以上打95折\n",
    ">> 寫法二："
   ]
  },
  {
   "cell_type": "code",
   "execution_count": 30,
   "metadata": {},
   "outputs": [
    {
     "name": "stdout",
     "output_type": "stream",
     "text": [
      "請輸入消費金額：40000\n",
      "消費折扣後的金額為： 36000.0 元\n"
     ]
    }
   ],
   "source": [
    "money = int(input(\"請輸入消費金額：\"))\n",
    "\n",
    "discount = 0                                         #預設折扣價格＝0\n",
    "\n",
    "if money >= 10000:\n",
    "    if money >= 100000:\n",
    "        discount = money*0.8                         #打 8 折\n",
    "    elif money >= 50000:\n",
    "        discount = money*0.85                        #打 85 折\n",
    "    elif money >= 30000:\n",
    "        discount = money*0.9                         #打 9 折\n",
    "    else:\n",
    "        discount = money*0.95                        #打 95 折\n",
    "else:\n",
    "    discount = money\n",
    "\n",
    "print(\"消費折扣後的金額為：\", discount, end = \" 元\\n\")   #未打折，原價出售"
   ]
  },
  {
   "cell_type": "code",
   "execution_count": null,
   "metadata": {},
   "outputs": [],
   "source": []
  }
 ],
 "metadata": {
  "kernelspec": {
   "display_name": "Python 3",
   "language": "python",
   "name": "python3"
  },
  "language_info": {
   "codemirror_mode": {
    "name": "ipython",
    "version": 3
   },
   "file_extension": ".py",
   "mimetype": "text/x-python",
   "name": "python",
   "nbconvert_exporter": "python",
   "pygments_lexer": "ipython3",
   "version": "3.9.1"
  }
 },
 "nbformat": 4,
 "nbformat_minor": 4
}
