{
 "cells": [
  {
   "cell_type": "markdown",
   "id": "drawn-insert",
   "metadata": {},
   "source": [
    "# List"
   ]
  },
  {
   "cell_type": "markdown",
   "id": "broadband-easter",
   "metadata": {},
   "source": [
    "> Using the \"split\" string method from the preceding lesson, complete the get_word function to return the {n}th word from a passed sentence.\n",
    "> - For example, get_word(\"This is a lesson about lists\", 4) should return \"lesson\", which is the 4th word in this sentence.\n",
    "> - Hint: remember that list indexes start at 0, not 1."
   ]
  },
  {
   "cell_type": "code",
   "execution_count": 1,
   "id": "brazilian-western",
   "metadata": {},
   "outputs": [
    {
     "name": "stdout",
     "output_type": "stream",
     "text": [
      "lesson\n",
      "\n",
      "Now\n",
      "\n"
     ]
    }
   ],
   "source": [
    "def get_word(sentence, n):\n",
    "    if n > 0:                                           # Only proceed if n is positive\n",
    "        words = sentence.split()\n",
    "        \n",
    "        if n <= len(words):                             # Only proceed if n is not more than the number of words \n",
    "            return(words[n-1])\n",
    "    return(\"\")\n",
    "\n",
    "print(get_word(\"This is a lesson about lists\", 4))      # Should print: lesson\n",
    "print(get_word(\"This is a lesson about lists\", -4))     # Nothing\n",
    "print(get_word(\"Now we are cooking!\", 1))               # Should print: Now\n",
    "print(get_word(\"Now we are cooking!\", 5))               # Nothing"
   ]
  },
  {
   "cell_type": "markdown",
   "id": "beginning-tokyo",
   "metadata": {},
   "source": [
    "> The skip_elements function returns a list containing every other element from an input list, starting with the first element.\n",
    "> - Complete this function to do that, using the for loop to iterate through the input list."
   ]
  },
  {
   "cell_type": "code",
   "execution_count": 2,
   "id": "mathematical-diversity",
   "metadata": {},
   "outputs": [
    {
     "name": "stdout",
     "output_type": "stream",
     "text": [
      "['a', 'c', 'e', 'g']\n",
      "['Orange', 'Strawberry', 'Peach']\n",
      "[]\n"
     ]
    }
   ],
   "source": [
    "def skip_elements(elements):\n",
    "    new_list = []                         # Initialize variables\n",
    "    i = 0\n",
    "    \n",
    "    for i in range(len(elements)):        # Iterate through the list\n",
    "        if i % 2 == 0:                    # Does this element belong in the resulting list?\n",
    "            new_list.append(elements[i])  # Add this element to the resulting list\n",
    "        i += 2                            # Increment i\n",
    "    \n",
    "    return new_list\n",
    "\n",
    "print(skip_elements([\"a\", \"b\", \"c\", \"d\", \"e\", \"f\", \"g\"]))                    # Should be ['a', 'c', 'e', 'g']\n",
    "print(skip_elements(['Orange', 'Pineapple', 'Strawberry', 'Kiwi', 'Peach'])) # Should be ['Orange', 'Strawberry', 'Peach']\n",
    "print(skip_elements([]))                                                     # Should be []"
   ]
  },
  {
   "cell_type": "markdown",
   "id": "temporal-cooper",
   "metadata": {},
   "source": [
    "# Create a List\n",
    "> Create a list with multiples of 7 from 7 to 70.\n",
    "> - 寫法一："
   ]
  },
  {
   "cell_type": "code",
   "execution_count": 3,
   "id": "played-firewall",
   "metadata": {},
   "outputs": [
    {
     "name": "stdout",
     "output_type": "stream",
     "text": [
      "[7, 14, 21, 28, 35, 42, 49, 56, 63, 70]\n"
     ]
    }
   ],
   "source": [
    "multiple = []\n",
    "\n",
    "for x in range(1, 11):\n",
    "    multiple.append(x * 7)\n",
    "print(multiple)"
   ]
  },
  {
   "cell_type": "markdown",
   "id": "quarterly-journalist",
   "metadata": {},
   "source": [
    "> - 寫法二：use the **List Comprehension**\n",
    ">> create new lists based on sequences or ranges."
   ]
  },
  {
   "cell_type": "code",
   "execution_count": 4,
   "id": "constitutional-header",
   "metadata": {},
   "outputs": [
    {
     "name": "stdout",
     "output_type": "stream",
     "text": [
      "[7, 14, 21, 28, 35, 42, 49, 56, 63, 70]\n"
     ]
    }
   ],
   "source": [
    "multiples = [(x * 7) for x in range(1, 11)]\n",
    "print(multiples)"
   ]
  },
  {
   "cell_type": "markdown",
   "id": "hearing-danger",
   "metadata": {},
   "source": [
    "# Tuple"
   ]
  },
  {
   "cell_type": "code",
   "execution_count": 5,
   "id": "affecting-punch",
   "metadata": {},
   "outputs": [
    {
     "data": {
      "text/plain": [
       "tuple"
      ]
     },
     "execution_count": 5,
     "metadata": {},
     "output_type": "execute_result"
    }
   ],
   "source": [
    "def convert_seconds(seconds):\n",
    "    hours = seconds // 3600\n",
    "    minutes = (seconds - (hours * 3600)) // 60\n",
    "    reminding_seconds = seconds - (hours * 3600) - (minutes * 60)\n",
    "    return hours, minutes, reminding_seconds\n",
    "\n",
    "result = convert_seconds(5000)\n",
    "type(result)                        # confirm data type of the result"
   ]
  },
  {
   "cell_type": "code",
   "execution_count": 6,
   "id": "balanced-latvia",
   "metadata": {},
   "outputs": [
    {
     "name": "stdout",
     "output_type": "stream",
     "text": [
      "(1, 23, 20)\n"
     ]
    }
   ],
   "source": [
    "print(result)"
   ]
  },
  {
   "cell_type": "markdown",
   "id": "careful-december",
   "metadata": {},
   "source": [
    "# Tuple - unpacking\n",
    "> **Storing the elements of a tuple in separate variables**"
   ]
  },
  {
   "cell_type": "code",
   "execution_count": 7,
   "id": "social-powell",
   "metadata": {},
   "outputs": [
    {
     "name": "stdout",
     "output_type": "stream",
     "text": [
      "1 23 20\n"
     ]
    }
   ],
   "source": [
    "# split the tuple into three separate values\n",
    "\n",
    "hrs, mins, secs = result\n",
    "print(hrs, mins, secs)"
   ]
  },
  {
   "cell_type": "code",
   "execution_count": 8,
   "id": "academic-majority",
   "metadata": {},
   "outputs": [
    {
     "name": "stdout",
     "output_type": "stream",
     "text": [
      "0 16 40\n"
     ]
    }
   ],
   "source": [
    "# It can also do this directly when calling the function without the intermediate result variable.\n",
    "\n",
    "hrs, mins, secs = convert_seconds(1000)\n",
    "print(hrs, mins, secs)"
   ]
  },
  {
   "cell_type": "markdown",
   "id": "built-weekly",
   "metadata": {},
   "source": [
    "> Use tuples to store information about a file: its name, its type and its size in bytes.\n",
    "> - Complete this code to return the size in kilobytes (a kilobyte is 1024 bytes) up to 2 decimal places."
   ]
  },
  {
   "cell_type": "code",
   "execution_count": 9,
   "id": "affected-correlation",
   "metadata": {},
   "outputs": [
    {
     "name": "stdout",
     "output_type": "stream",
     "text": [
      "17.46\n",
      "0.48\n",
      "1.21\n"
     ]
    }
   ],
   "source": [
    "def file_size(file_info):\n",
    "    file_name, data_type, file_size = file_info\n",
    "    return (\"{:.2f}\" .format(file_size / 1024))\n",
    "\n",
    "print(file_size((\"Class Assignment\", \"docx\", 17875)))\n",
    "print(file_size((\"Notes\", \"txt\", 496)))\n",
    "print(file_size((\"Program\", \"py\", 1239)))\n",
    "\n",
    "# Warming: pay closly attention to add one more parentheses to avoid generate a TypeError\n",
    "# TypeError: file_size() takes 1 positional argument but 3 were given"
   ]
  },
  {
   "cell_type": "code",
   "execution_count": 10,
   "id": "alert-planner",
   "metadata": {},
   "outputs": [
    {
     "name": "stdout",
     "output_type": "stream",
     "text": [
      "Total characters: 22, Average length: 5.5\n"
     ]
    }
   ],
   "source": [
    "animals = [\"Lion\", \"Zebra\", \"Dolphin\", \"Monkey\"]\n",
    "chars = 0\n",
    "\n",
    "for animal in animals:\n",
    "    chars += len(animal)\n",
    "    \n",
    "print(\"Total characters: {}, Average length: {}\" .format(chars, chars/len(animals)))"
   ]
  },
  {
   "cell_type": "markdown",
   "id": "inappropriate-airplane",
   "metadata": {},
   "source": [
    "> **Get the index of an element and each element value while going through the list.**\n",
    "> - 寫法一："
   ]
  },
  {
   "cell_type": "code",
   "execution_count": 11,
   "id": "thirty-angola",
   "metadata": {},
   "outputs": [
    {
     "name": "stdout",
     "output_type": "stream",
     "text": [
      "1 - Ashley\n",
      "2 - Dylan\n",
      "3 - Reese\n"
     ]
    }
   ],
   "source": [
    "Winners = [\"Ashley\", \"Dylan\", \"Reese\"]\n",
    "\n",
    "for i in Winners:\n",
    "    index = Winners.index(i)\n",
    "    print(\"{} - {}\" .format((index+1), Winners[index]))"
   ]
  },
  {
   "cell_type": "markdown",
   "id": "adaptive-carry",
   "metadata": {},
   "source": [
    "> **Get the index of an element and each element value while going through the list.**\n",
    "> - 寫法二：enumerate"
   ]
  },
  {
   "cell_type": "code",
   "execution_count": 12,
   "id": "charming-cisco",
   "metadata": {},
   "outputs": [
    {
     "name": "stdout",
     "output_type": "stream",
     "text": [
      "1 - Ashley\n",
      "2 - Dylan\n",
      "3 - Reese\n"
     ]
    }
   ],
   "source": [
    "Winners = [\"Ashley\", \"Dylan\", \"Reese\"]\n",
    "\n",
    "for index, person in enumerate(Winners):\n",
    "    print(\"{} - {}\" .format((index + 1), person))"
   ]
  },
  {
   "cell_type": "markdown",
   "id": "biblical-institution",
   "metadata": {},
   "source": [
    "> Complete the skip_elements function to return every other element from the list.\n",
    "> - this time using the **enumerate** function to check if an element is on an even position or an odd position."
   ]
  },
  {
   "cell_type": "code",
   "execution_count": 13,
   "id": "distinguished-broadway",
   "metadata": {},
   "outputs": [
    {
     "name": "stdout",
     "output_type": "stream",
     "text": [
      "['a', 'c', 'e', 'g']\n",
      "['Orange', 'Strawberry', 'Peach']\n",
      "[]\n"
     ]
    }
   ],
   "source": [
    "def skip_elements(elements):\n",
    "    new_list = []\n",
    "    \n",
    "    for index, value in enumerate(elements):\n",
    "        if index % 2 == 0:\n",
    "            new_list.append(value)\n",
    "    return new_list\n",
    "    \n",
    "\n",
    "print(skip_elements([\"a\", \"b\", \"c\", \"d\", \"e\", \"f\", \"g\"]))                    # Should be ['a', 'c', 'e', 'g']\n",
    "print(skip_elements(['Orange', 'Pineapple', 'Strawberry', 'Kiwi', 'Peach'])) # Should be ['Orange', 'Strawberry', 'Peach']\n",
    "print(skip_elements([]))                                                     # Should be []"
   ]
  },
  {
   "cell_type": "code",
   "execution_count": 14,
   "id": "everyday-frequency",
   "metadata": {},
   "outputs": [
    {
     "name": "stdout",
     "output_type": "stream",
     "text": [
      "['Alex Diego <alex@example.com>', 'Shay Brandt <shay@example.com>']\n"
     ]
    }
   ],
   "source": [
    "def full_emails(people):\n",
    "    result = []\n",
    "    \n",
    "    for email, name in people:\n",
    "        result.append(\"{} <{}>\" .format(name, email))\n",
    "    return result\n",
    "\n",
    "print(full_emails([(\"alex@example.com\", \"Alex Diego\"), (\"shay@example.com\", \"Shay Brandt\")]))"
   ]
  },
  {
   "cell_type": "markdown",
   "id": "roman-tomorrow",
   "metadata": {},
   "source": [
    "# List Comprehensions\n",
    "- Can use this technique whenever we want to create a list based on a range.\n",
    "- Can use this technique whenever we want to create a list based on the contents of a list.\n",
    "- Can use this technique whenever we want to create a list based on the contents of a tuple.\n",
    "- Can use this technique whenever we want to create a list based on the contents of a string.\n",
    "- Can use this technique whenever we want to create a list based on the contents of any other Python sequence."
   ]
  },
  {
   "cell_type": "markdown",
   "id": "peripheral-header",
   "metadata": {},
   "source": [
    "### Create a multiples list with multiples of 7 from 7 to 70\n",
    "- 寫法一：Create a list based on a **range**"
   ]
  },
  {
   "cell_type": "code",
   "execution_count": 15,
   "id": "raised-nitrogen",
   "metadata": {},
   "outputs": [
    {
     "name": "stdout",
     "output_type": "stream",
     "text": [
      "[7, 14, 21, 28, 35, 42, 49, 56, 63, 70]\n"
     ]
    }
   ],
   "source": [
    "multiples = []\n",
    "\n",
    "for x in range(1, 11):\n",
    "    multiples.append(x * 7)\n",
    "print(multiples)"
   ]
  },
  {
   "cell_type": "markdown",
   "id": "proof-preliminary",
   "metadata": {},
   "source": [
    "- 寫法二：Create a list based on **list Comprehension**"
   ]
  },
  {
   "cell_type": "code",
   "execution_count": 16,
   "id": "rental-ordinance",
   "metadata": {},
   "outputs": [
    {
     "name": "stdout",
     "output_type": "stream",
     "text": [
      "[7, 14, 21, 28, 35, 42, 49, 56, 63, 70]\n"
     ]
    }
   ],
   "source": [
    "multiples = [(x * 7) for x in range (1, 11)]          \n",
    "print(multiples)"
   ]
  },
  {
   "cell_type": "markdown",
   "id": "cultural-spring",
   "metadata": {},
   "source": [
    "### Generate a list of the length of the strings\n",
    "- 寫法一：Create a list based on a **strings**"
   ]
  },
  {
   "cell_type": "code",
   "execution_count": 17,
   "id": "moral-theorem",
   "metadata": {},
   "outputs": [
    {
     "name": "stdout",
     "output_type": "stream",
     "text": [
      "[6, 4, 4, 2, 4, 1]\n"
     ]
    }
   ],
   "source": [
    "languages = [\"Python\", \"Perl\", \"Ruby\", \"Go\", \"Java\", \"C\"]\n",
    "lengths = []\n",
    "\n",
    "for language in languages:\n",
    "    lengths.append(len(language))\n",
    "print(lengths)"
   ]
  },
  {
   "cell_type": "markdown",
   "id": "designing-forge",
   "metadata": {},
   "source": [
    "- 寫法二：Create a list based on **list Comprehension**"
   ]
  },
  {
   "cell_type": "code",
   "execution_count": 18,
   "id": "olympic-barcelona",
   "metadata": {},
   "outputs": [
    {
     "name": "stdout",
     "output_type": "stream",
     "text": [
      "[6, 4, 4, 2, 4, 1]\n"
     ]
    }
   ],
   "source": [
    "languages = [\"Python\", \"Perl\", \"Ruby\", \"Go\", \"Java\", \"C\"]\n",
    "\n",
    "lengths = [len(language) for language in languages]\n",
    "print(lengths)"
   ]
  },
  {
   "cell_type": "markdown",
   "id": "foster-clearing",
   "metadata": {},
   "source": [
    "### List all the numbers that are divisible by 3 between 0 and a 100\n",
    "- 寫法一：Create a list based on a **range**"
   ]
  },
  {
   "cell_type": "code",
   "execution_count": 19,
   "id": "subject-riverside",
   "metadata": {},
   "outputs": [
    {
     "name": "stdout",
     "output_type": "stream",
     "text": [
      "[0, 3, 6, 9, 12, 15, 18, 21, 24, 27, 30, 33, 36, 39, 42, 45, 48, 51, 54, 57, 60, 63, 66, 69, 72, 75, 78, 81, 84, 87, 90, 93, 96, 99]\n"
     ]
    }
   ],
   "source": [
    "numbers = []               # define a empty list\n",
    "\n",
    "for x in range (0, 101):\n",
    "    if x % 3 == 0:\n",
    "        numbers.append(x)\n",
    "print(numbers)"
   ]
  },
  {
   "cell_type": "markdown",
   "id": "rotary-guess",
   "metadata": {},
   "source": [
    "- 寫法二：Create a list based on **list comprehension**"
   ]
  },
  {
   "cell_type": "code",
   "execution_count": 20,
   "id": "serious-exhibit",
   "metadata": {},
   "outputs": [
    {
     "name": "stdout",
     "output_type": "stream",
     "text": [
      "[0, 3, 6, 9, 12, 15, 18, 21, 24, 27, 30, 33, 36, 39, 42, 45, 48, 51, 54, 57, 60, 63, 66, 69, 72, 75, 78, 81, 84, 87, 90, 93, 96, 99]\n"
     ]
    }
   ],
   "source": [
    "numbers = [x for x in range (0, 101) if ((x % 3) == 0)]\n",
    "print(numbers)"
   ]
  },
  {
   "cell_type": "markdown",
   "id": "suitable-element",
   "metadata": {},
   "source": [
    "- 寫法三：Use functions type to create a list based on **list comprehension**"
   ]
  },
  {
   "cell_type": "code",
   "execution_count": 21,
   "id": "standard-avenue",
   "metadata": {},
   "outputs": [
    {
     "name": "stdout",
     "output_type": "stream",
     "text": [
      "[0, 7, 14, 21, 28, 35, 42, 49, 56, 63, 70, 77, 84, 91, 98]\n"
     ]
    }
   ],
   "source": [
    "def division(numbers):\n",
    "    numbers = [x for x in range (0, 101) if ((x % numbers) == 0)]                 # limit a range from 0 to 100\n",
    "    return numbers\n",
    "\n",
    "print(division(7))"
   ]
  },
  {
   "cell_type": "markdown",
   "id": "suitable-stability",
   "metadata": {},
   "source": [
    "- 寫法四：Also use functions type to create a list based on **list comprehension**"
   ]
  },
  {
   "cell_type": "code",
   "execution_count": 22,
   "id": "iraqi-guitar",
   "metadata": {},
   "outputs": [
    {
     "name": "stdout",
     "output_type": "stream",
     "text": [
      "[2, 4, 6, 8, 10]\n"
     ]
    }
   ],
   "source": [
    "def division(start_num, end_num, numbers):\n",
    "    numbers = [x for x in range(start_num, end_num+1) if ((x % numbers) == 0)]   # no range limitation\n",
    "    return numbers\n",
    "\n",
    "print(division(1, 10, 2))"
   ]
  },
  {
   "cell_type": "markdown",
   "id": "exclusive-recipe",
   "metadata": {},
   "source": [
    "> The odd_numbers function returns a list of odd numbers between 1 and n, inclusively. Complete the following function, using list comprehension.\n",
    "> - Hint: remember that list and range counters start at 0 and end at the limit minus 1."
   ]
  },
  {
   "cell_type": "code",
   "execution_count": 23,
   "id": "egyptian-estonia",
   "metadata": {},
   "outputs": [
    {
     "name": "stdout",
     "output_type": "stream",
     "text": [
      "[1, 3, 5]\n",
      "[1, 3, 5, 7, 9]\n",
      "[1, 3, 5, 7, 9, 11]\n",
      "[1]\n",
      "[]\n"
     ]
    }
   ],
   "source": [
    "def odd_numbers(n):\n",
    "    return [x for x in range(1, (n + 1), 2) if (x <= n)]\n",
    "\n",
    "print(odd_numbers(5))    # Should print [1, 3, 5]\n",
    "print(odd_numbers(10))   # Should print [1, 3, 5, 7, 9]\n",
    "print(odd_numbers(11))   # Should print [1, 3, 5, 7, 9, 11]\n",
    "print(odd_numbers(1))    # Should print [1]\n",
    "print(odd_numbers(-1))   # Should print []"
   ]
  },
  {
   "cell_type": "markdown",
   "id": "moderate-collective",
   "metadata": {},
   "source": [
    "# Hands-on practices"
   ]
  },
  {
   "cell_type": "markdown",
   "id": "dried-clear",
   "metadata": {},
   "source": [
    "> Given a list of filenames, we want to rename all the files with extension hpp to the extension h. To do this, we would like to generate a new list called newfilenames, consisting of the new filenames. Fill in the blanks in the code using any of the methods you’ve learned thus far, like a for loop or a list comprehension."
   ]
  },
  {
   "cell_type": "code",
   "execution_count": 24,
   "id": "tough-australian",
   "metadata": {},
   "outputs": [
    {
     "name": "stdout",
     "output_type": "stream",
     "text": [
      "['program.c', 'stdio.h', 'sample.h', 'a.out', 'math.h', 'hpp.out']\n"
     ]
    }
   ],
   "source": [
    "filenames = [\"program.c\", \"stdio.hpp\", \"sample.hpp\", \"a.out\", \"math.hpp\", \"hpp.out\"]\n",
    "# Generate newfilenames as a list containing the new filenames\n",
    "# using as many lines of code as your chosen method requires.\n",
    "\n",
    "newfilenames = []\n",
    "\n",
    "for name in filenames:\n",
    "    if name.endswith(\".hpp\"):\n",
    "        newfilenames.append(name[:-2])                        # Use slice method to extract element value\n",
    "        continue\n",
    "    newfilenames.append(name)\n",
    "\n",
    "print(newfilenames) \n",
    "# Should be [\"program.c\", \"stdio.h\", \"sample.h\", \"a.out\", \"math.h\", \"hpp.out\"]"
   ]
  },
  {
   "cell_type": "code",
   "execution_count": 25,
   "id": "hindu-enlargement",
   "metadata": {},
   "outputs": [
    {
     "name": "stdout",
     "output_type": "stream",
     "text": [
      "['program.c', 'stdio.h', 'sample.h', 'a.out', 'math.h', 'hpp.out']\n"
     ]
    }
   ],
   "source": [
    "filenames = [\"program.c\", \"stdio.hpp\", \"sample.hpp\", \"a.out\", \"math.hpp\", \"hpp.out\"]\n",
    "# Generate newfilenames as a list containing the new filenames\n",
    "# using as many lines of code as your chosen method requires.\n",
    "\n",
    "newfilenames = []\n",
    "\n",
    "for name in filenames:\n",
    "    if name.endswith(\".hpp\"):\n",
    "        newfilenames.append(name.replace(\".hpp\", \".h\"))      # Use replace method to modify element value\n",
    "    else:\n",
    "        newfilenames.append(name)\n",
    "\n",
    "print(newfilenames) \n",
    "# Should be [\"program.c\", \"stdio.h\", \"sample.h\", \"a.out\", \"math.h\", \"hpp.out\"]"
   ]
  },
  {
   "cell_type": "code",
   "execution_count": 26,
   "id": "innovative-shore",
   "metadata": {},
   "outputs": [
    {
     "name": "stdout",
     "output_type": "stream",
     "text": [
      "['program.c', 'stdio.h', 'sample.h', 'a.out', 'math.h', 'hpp.out']\n"
     ]
    }
   ],
   "source": [
    "filenames = [\"program.c\", \"stdio.hpp\", \"sample.hpp\", \"a.out\", \"math.hpp\", \"hpp.out\"]\n",
    "# Generate newfilenames as a list containing the new filenames\n",
    "# using as many lines of code as your chosen method requires.\n",
    "\n",
    "# Use list comprehension to write code\n",
    "newfilenames = [name.replace(\".hpp\",\".h\") if name.endswith(\".hpp\") else name for name in filenames]\n",
    "\n",
    "print(newfilenames) \n",
    "# Should be [\"program.c\", \"stdio.h\", \"sample.h\", \"a.out\", \"math.h\", \"hpp.out\"]"
   ]
  },
  {
   "cell_type": "markdown",
   "id": "ignored-frame",
   "metadata": {},
   "source": [
    "> Let's create a function that turns text into pig latin: a simple text transformation that modifies each word moving the first character to the end and appending \"ay\" to the end.\n",
    "> - For example, python ends up as ythonpay."
   ]
  },
  {
   "cell_type": "code",
   "execution_count": 27,
   "id": "arbitrary-latex",
   "metadata": {},
   "outputs": [
    {
     "name": "stdout",
     "output_type": "stream",
     "text": [
      "ellohay owhay reaay ouyay \n",
      "rogrammingpay niay ythonpay siay unfay \n"
     ]
    }
   ],
   "source": [
    "def pig_latin(text):\n",
    "    say = \"\"\n",
    "    \n",
    "    words = text.split()                            # Separate the text into words\n",
    "    \n",
    "    for word in words:\n",
    "        word = word[1:] + word[0] + \"ay\" + \" \"      # Create the pig latin word and add it to the list\n",
    "        say += word\n",
    "    \n",
    "    return (say)                                    # Turn the list back into a phrase\n",
    "\n",
    "\n",
    "print(pig_latin(\"hello how are you\"))               # Should be \"ellohay owhay reaay ouyay\"\n",
    "print(pig_latin(\"programming in python is fun\"))    # Should be \"rogrammingpay niay ythonpay siay unfay\""
   ]
  },
  {
   "cell_type": "code",
   "execution_count": 28,
   "id": "downtown-bruce",
   "metadata": {},
   "outputs": [
    {
     "name": "stdout",
     "output_type": "stream",
     "text": [
      "ellohay owhay reaay ouyay\n",
      "rogrammingpay niay ythonpay siay unfay\n"
     ]
    }
   ],
   "source": [
    "def pig_latin(text):\n",
    "    #say = \"\"\n",
    "    \n",
    "    words = text.split()\n",
    "    say = []\n",
    "       \n",
    "    for word in words:\n",
    "        word = word[1:] + word[0] + \"ay\"\n",
    "        say.append(word)\n",
    "        \n",
    "    return (\" \".join(say))                          # Use join method for concatenating\n",
    "\n",
    "\n",
    "print(pig_latin(\"hello how are you\"))               # Should be \"ellohay owhay reaay ouyay\"\n",
    "print(pig_latin(\"programming in python is fun\"))    # Should be \"rogrammingpay niay ythonpay siay unfay\""
   ]
  },
  {
   "cell_type": "code",
   "execution_count": 29,
   "id": "approved-toner",
   "metadata": {},
   "outputs": [
    {
     "name": "stdout",
     "output_type": "stream",
     "text": [
      "ellohay owhay reaay ouyay\n",
      "rogrammingpay niay ythonpay siay unfay\n"
     ]
    }
   ],
   "source": [
    "def pig_latin(text):\n",
    "    say = \"\"\n",
    "    \n",
    "    #words = text.split()                           # Separate the text into words\n",
    "    \n",
    "    #for word in words:                             # Create the pig latin word and add it to the list\n",
    "    \n",
    "    return (\" \".join(word[1:] + word[0] + \"ay\" for word in text.split()))   # Turn the list back into a phrase\n",
    "\n",
    "\n",
    "print(pig_latin(\"hello how are you\"))               # Should be \"ellohay owhay reaay ouyay\"\n",
    "print(pig_latin(\"programming in python is fun\"))    # Should be \"rogrammingpay niay ythonpay siay unfay\""
   ]
  },
  {
   "cell_type": "markdown",
   "id": "stretch-rescue",
   "metadata": {},
   "source": [
    "> The permissions of a file in a Linux system are split into three sets of three permissions: read, write, and execute for the owner, group, and others. Each of the three values can be expressed as an octal number summing each permission, with 4 corresponding to read, 2 to write, and 1 to execute. Or it can be written with a string using the letters r, w, and x or - when the permission is not granted.\n",
    "\n",
    "> Complete the code convert a permission in octal format into a string format.\n",
    "\n",
    "> **For example:**\n",
    "> - 640 is read/write for the owner, read for the group, and no permissions for the others; converted to a string, it would be: \"rw-r-----\"\n",
    "> - 755 is read/write/execute for the owner, and read/execute for group and others; converted to a string, it would be: \"rwxr-xr-x\""
   ]
  },
  {
   "cell_type": "code",
   "execution_count": 30,
   "id": "experienced-guest",
   "metadata": {},
   "outputs": [
    {
     "name": "stdout",
     "output_type": "stream",
     "text": [
      "rwxr-xr-x\n",
      "rw-r--r--\n",
      "rwxr-x---\n",
      "rw-------\n"
     ]
    }
   ],
   "source": [
    "def octal_to_string(octal):\n",
    "    result = \"\"\n",
    "    value_letters = [(4,\"r\"),(2,\"w\"),(1,\"x\")]\n",
    "    \n",
    "    \n",
    "    for i in [int(n) for n in str(octal)]:              # Iterate over each of the digits in octal\n",
    "        \n",
    "        for value, letter in value_letters:             # Check for each of the permissions values\n",
    "            if i >= value:\n",
    "                result += letter\n",
    "                i -= value\n",
    "            else:\n",
    "                result += '-'\n",
    "    return result\n",
    "    \n",
    "print(octal_to_string(755))                             # Should be rwxr-xr-x\n",
    "print(octal_to_string(644))                             # Should be rw-r--r--\n",
    "print(octal_to_string(750))                             # Should be rwxr-x---\n",
    "print(octal_to_string(600))                             # Should be rw-------"
   ]
  },
  {
   "cell_type": "markdown",
   "id": "urban-keyboard",
   "metadata": {},
   "source": [
    "> The group_list function accepts a group name and a list of members, and returns a string with the format: group_name: member1, member2, ...\n",
    "> - For example, group_list(\"g\", [\"a\",\"b\",\"c\"]) returns \"g: a, b, c\"."
   ]
  },
  {
   "cell_type": "code",
   "execution_count": 31,
   "id": "hollywood-syndrome",
   "metadata": {},
   "outputs": [
    {
     "name": "stdout",
     "output_type": "stream",
     "text": [
      "Marketing: Mike, Karen, Jake, Tasha\n",
      "Engineering: Kim, Jay, Tom\n",
      "Users: \n"
     ]
    }
   ],
   "source": [
    "def group_list(group, users):\n",
    "    members = (\", \".join(users))                                    # Use join() method to concatenate all elements to one value\n",
    "    return (\"{}: {}\" .format(group, members))\n",
    "\n",
    "print(group_list(\"Marketing\", [\"Mike\", \"Karen\", \"Jake\", \"Tasha\"]))  # Should be \"Marketing: Mike, Karen, Jake, Tasha\"\n",
    "print(group_list(\"Engineering\", [\"Kim\", \"Jay\", \"Tom\"]))             # Should be \"Engineering: Kim, Jay, Tom\"\n",
    "print(group_list(\"Users\", \"\"))                                      # Should be \"Users:\""
   ]
  },
  {
   "cell_type": "markdown",
   "id": "comfortable-evaluation",
   "metadata": {},
   "source": [
    "> The guest_list function reads in a list of tuples with the name, age, and profession of each party guest, and prints the sentence \"Guest is X years old and works as __.\" for each one.\n",
    "> - For example, guest_list(('Ken', 30, \"Chef\"), (\"Pat\", 35, 'Lawyer'), ('Amanda', 25, \"Engineer\")) should print out: Ken is 30 years old and works as Chef. Pat is 35 years old and works as Lawyer. Amanda is 25 years old and works as Engineer. Fill in the gaps in this function to do that. "
   ]
  },
  {
   "cell_type": "code",
   "execution_count": 32,
   "id": "searching-lemon",
   "metadata": {},
   "outputs": [
    {
     "name": "stdout",
     "output_type": "stream",
     "text": [
      "Ken is 30 years old and works as Chef\n",
      "Pat is 35 years old and works as Lawyer\n",
      "Amanda is 25 years old and works as Engineer\n"
     ]
    }
   ],
   "source": [
    "def guest_list(guests):\n",
    "    for guest in guests:\n",
    "        name, age, position = guest\n",
    "        print(\"{} is {} years old and works as {}\".format(name, age, position))\n",
    "\n",
    "guest_list([('Ken', 30, \"Chef\"), (\"Pat\", 35, 'Lawyer'), ('Amanda', 25, \"Engineer\")])\n",
    "\n",
    "#Click Run to submit code\n",
    "#\"\"\"\n",
    "#Output should match:\n",
    "#Ken is 30 years old and works as Chef\n",
    "#Pat is 35 years old and works as Lawyer\n",
    "#Amanda is 25 years old and works as Engineer\n",
    "#\"\"\""
   ]
  },
  {
   "cell_type": "code",
   "execution_count": null,
   "id": "secure-start",
   "metadata": {},
   "outputs": [],
   "source": []
  }
 ],
 "metadata": {
  "kernelspec": {
   "display_name": "Python 3",
   "language": "python",
   "name": "python3"
  },
  "language_info": {
   "codemirror_mode": {
    "name": "ipython",
    "version": 3
   },
   "file_extension": ".py",
   "mimetype": "text/x-python",
   "name": "python",
   "nbconvert_exporter": "python",
   "pygments_lexer": "ipython3",
   "version": "3.9.1"
  }
 },
 "nbformat": 4,
 "nbformat_minor": 5
}
